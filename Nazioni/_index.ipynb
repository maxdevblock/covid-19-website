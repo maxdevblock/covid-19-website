{
 "cells": [
  {
   "cell_type": "markdown",
   "metadata": {},
   "source": [
    "# Nazioni"
   ]
  },
  {
   "cell_type": "markdown",
   "metadata": {},
   "source": [
    "[**Decessi mediani**](Nazioni/Decessi.html)<br>\n",
    "&nbsp; &nbsp;Decessi mediani nell'ultima settimana."
   ]
  },
  {
   "cell_type": "markdown",
   "metadata": {},
   "source": [
    "[**Panoramica Nazioni**](Nazioni/Panoramica.html)<br>\n",
    "&nbsp; &nbsp;Panoramica dati delle nazioni."
   ]
  },
  {
   "cell_type": "markdown",
   "metadata": {},
   "source": [
    "[**Singole Nazioni**](Nazioni/Singole.html)<br>\n",
    "&nbsp; &nbsp;Dati delle singole nazioni."
   ]
  },
  {
   "cell_type": "markdown",
   "metadata": {},
   "source": [
    "[**SIRD Nazioni**](Nazioni/Sommario.html)<br>\n",
    "&nbsp; &nbsp;Panoramica SIRD di tutte le nazioni."
   ]
  }
 ],
 "metadata": {
  "kernelspec": {
   "display_name": "Python 3",
   "language": "python",
   "name": "python3"
  },
  "language_info": {
   "codemirror_mode": {
    "name": "ipython",
    "version": 3
   },
   "file_extension": ".py",
   "mimetype": "text/x-python",
   "name": "python",
   "nbconvert_exporter": "python",
   "pygments_lexer": "ipython3",
   "version": "3.8.5"
  }
 },
 "nbformat": 4,
 "nbformat_minor": 2
}
