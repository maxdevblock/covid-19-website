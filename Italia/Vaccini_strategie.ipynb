{
 "cells": [
  {
   "cell_type": "markdown",
   "metadata": {},
   "source": [
    "# Strategie di vaccinazione\n",
    "\n",
    "Confronto delle strategie di vaccinazione.\n",
    "\n",
    "> Max Pierini\n",
    "\n",
    "***"
   ]
  },
  {
   "cell_type": "code",
   "execution_count": 1,
   "metadata": {},
   "outputs": [],
   "source": [
    "import numpy as np\n",
    "import matplotlib.pyplot as plt\n",
    "import seaborn as sns\n",
    "sns.set()\n",
    "\n",
    "from IPython.display import display, Markdown"
   ]
  },
  {
   "cell_type": "markdown",
   "metadata": {},
   "source": [
    "# Abstract\n",
    "\n",
    "> Dato un vaccino con efficacia $E_1$ in prima somministrazione\n",
    "ed efficacia $E_2 > E_1$ in seconda somministrazione e sia \n",
    "impossibile vaccinare subito l'intera popolazione con la seconda dose\n",
    "ma si possa vaccinare l'intera popolazione con la prima,\n",
    "se il ritardo nella seconda somministrazione non diminuisce\n",
    "$E_2$ al punto di avvicinarsi troppo alla soglia d'immunità di\n",
    "gregge HIT, la migliore strategia dipende dal rapporto $E_1/E_2$:\n",
    "se $E_1/E_2 < 0.5$ è più vantaggioso vaccinare tutta la popolazione\n",
    "con la prima dose mentre se $E_1/E_2 > 0.5$ è più vantaggioso\n",
    "vaccinare metà popolazione con le due dosi complete.\n",
    "In caso $E_1/E_2 = 0.5$ le due strategie sono equiparabili\n",
    "ma vaccinando metà popolazione con le due dosi si evita \n",
    "di perdere in efficacia e si protegge nel frattempo \n",
    "anche parte della popolazione non ancora vaccinata.\n",
    "Se invece $E_2$ diminuisca portandosi troppo vicino\n",
    "alla soglia HIT, è comunque più vantaggioso vaccinare\n",
    "metà popolazione con entrambe le dosi così da non\n",
    "rischiare di non poter raggiungere la minima copertura\n",
    "vaccinale per immunità di gregge.\n"
   ]
  },
  {
   "cell_type": "markdown",
   "metadata": {},
   "source": [
    "# Introduzione"
   ]
  },
  {
   "cell_type": "markdown",
   "metadata": {},
   "source": [
    "Si presenta un'analisi delle probabilità medie di infezione in una popolazione con differenti strategie di vaccinazione laddove un vaccino abbia efficacia $E_1$ in prima somministrazione ed $E_2 > E_1$ in seconda somministrazione e non si possa vaccinare immediatamente l'intera popolazione.\n",
    "\n",
    "***"
   ]
  },
  {
   "cell_type": "markdown",
   "metadata": {},
   "source": [
    "Sia data una popolazione di $N$ soggetti in cui è in corso un'epidemia.\n",
    "\n",
    "Viene sintentizzato un vaccino con efficacia $E_1$ alla prima somministrazione ed efficacia $E_2>E_1$ alla seconda somministrazione (senza limiti temporali rilevanti tra le due somministrazioni).\n",
    "\n",
    "L'azienda farmaceutica ci informa che potrà inizialmente inviarci solo $N$ dosi (anziché $2N$ necessarie a vaccinare tutta la popolazione con due dosi complete).\n",
    "\n",
    "Ci domandiamo se sia più utile\n",
    "\n",
    "1. vaccinare tutta la popolazione con una singola dose in attesa della seconda\n",
    "\n",
    "2. vaccinare metà della popolazione con due dosi in attesa di poter vaccinare la restante\n",
    "\n",
    "Supponiamo che ciascun soggetto abbia una probabilità a priori $p$ di infettarsi se viene in contatto con un soggetto infetto.\n",
    "\n",
    "Data l'efficacia vaccinale, la probabilità di infettarsi di un individuo vaccinato è quindi pari a\n",
    "\n",
    "$$\n",
    "p_n = (1-E_n) p\n",
    "$$\n",
    "\n",
    "dove $n$ è il numero di dosi ricevute (1 o 2).\n",
    "\n",
    "La probabilità di infettarsi $p[i]$ di un soggetto venuto a contatto con un soggetto che ha probabilità $p$ di essere infetto (perché a sua volta venuto in contatto con un soggetto sicuramente infetto) è pari al prodotto delle probabilità\n",
    "\n",
    "$$\n",
    "p[i] = p \\cdot p = p^2\n",
    "$$"
   ]
  },
  {
   "cell_type": "markdown",
   "metadata": {},
   "source": [
    "# nessuna vaccinazione"
   ]
  },
  {
   "cell_type": "markdown",
   "metadata": {},
   "source": [
    "Per fare un esempio, supponiamo che \n",
    "\n",
    "- $E_1=50\\%$ ed $E_2=100\\%$\n",
    "\n",
    "- $N=10$\n",
    "\n",
    "- che 2 soggetti siano venuti in contatto con un soggetto sicuramente infetto\n",
    "\n",
    "- che ciascuno dei due soggetti venga in contatto con 4 soggetti suscettibili"
   ]
  },
  {
   "cell_type": "markdown",
   "metadata": {},
   "source": [
    "![nessuna vaccinazione](dosi_vaccino1.png)"
   ]
  },
  {
   "cell_type": "markdown",
   "metadata": {},
   "source": [
    "La probabilità media di osservare soggetti infetti nella popolazione senza vaccino nell'esempio è\n",
    "\n",
    "$$\n",
    "P_0 = \\frac{2p + 8p^2}{10} = \\frac{p + 4p^2}{5}\n",
    "$$"
   ]
  },
  {
   "cell_type": "markdown",
   "metadata": {},
   "source": [
    "Generalizzando e indicando con $I$ i soggetti venuti in contatto con soggetti sicuramente infetti possiamo dire che la probabilità media di osservare soggetti infetti nella popolazione è\n",
    "\n",
    "$$\n",
    "P_0 = \\frac{ Ip + (N-I)p^2 }{ N }\n",
    "$$"
   ]
  },
  {
   "cell_type": "markdown",
   "metadata": {},
   "source": [
    "# strategia (1)"
   ]
  },
  {
   "cell_type": "markdown",
   "metadata": {},
   "source": [
    "Vaccinando tutta la popolazione con una singola dose, la probabilità di essere infetto dei due soggetti venuti a contatto con un soggetto sicuramente infetto è $p_1=(1-E_1)p$ (nell'esempio pertanto $p\\cdot0.5$). Un soggetto che venisse in contatto con un soggetto con questa probabilità avrà pertanto una probabilità di infettarsi pari al prodotto della sua probabilità a priori (data la vaccinazione) e della probabilità di essere infetto del soggetto con cui è venuto in contatto, che in questo caso sono uguali. Nell'esempio\n",
    "\n",
    "$$\n",
    "p[i] = p_1 p_1 = 0.25 \\cdot p^2\n",
    "$$"
   ]
  },
  {
   "cell_type": "markdown",
   "metadata": {},
   "source": [
    "![strategia (1)](dosi_vaccino2.png)"
   ]
  },
  {
   "cell_type": "markdown",
   "metadata": {},
   "source": [
    "La probabilità media della popolazione vaccinata con una dose nell'esempio è\n",
    "\n",
    "$$\n",
    "P_1 = \\frac{2(p\\cdot0.5) + 8(p^2\\cdot0.25)}{10} = \\frac{p + 2p^2}{10}\n",
    "$$"
   ]
  },
  {
   "cell_type": "markdown",
   "metadata": {},
   "source": [
    "Generalizzando possiamo dire che\n",
    "\n",
    "$$\n",
    "P_1 = \\frac{I (1-E_1) p + (N-I) (1-E_1)^2 p^2}{N}\n",
    "$$"
   ]
  },
  {
   "cell_type": "markdown",
   "metadata": {},
   "source": [
    "# strategia (2)"
   ]
  },
  {
   "cell_type": "markdown",
   "metadata": {},
   "source": [
    "Vaccinando invece metà della popolazione con due dosi e supponendo che i contatti tra i soggetti siano equamente distribuiti, si avrebbe una situazione più eterogenea in cui alcuni soggetti sarebbero protetti con efficacia massimo $E_2$ (100% nell'esempio) e quindi con probabilità di infezione $p_2=(1-E_2)p$ mentre altri avrebbero una probabilità pari all'assenza di vaccinazione"
   ]
  },
  {
   "cell_type": "markdown",
   "metadata": {},
   "source": [
    "![strategia (2)](dosi_vaccino3.png)"
   ]
  },
  {
   "cell_type": "markdown",
   "metadata": {},
   "source": [
    "La probabilità media di infezione della popolazione vaccinata a metà con due dosi nell'esempio è perciò\n",
    "\n",
    "$$\n",
    "P_2 = \\frac{p + 2p^2}{10}\n",
    "$$"
   ]
  },
  {
   "cell_type": "markdown",
   "metadata": {},
   "source": [
    "La generalizzazione di questa strategia necessita la suddivisione in 5 compartimenti.\n",
    "\n",
    "Il primo compartimento è quello degli $I$ soggetti venuti a contatto con un soggetto sicuramente infetto.\n",
    "\n",
    "Gli altri quattro compartimenti di $\\frac{N-I}{4}$ soggetti (considerando che siano equamente distribuiti) sono i soggetti venuti in contatto con gli individui del primo compartimento.\n",
    "\n",
    "## Compartimento 1\n",
    "\n",
    "> Soggetti venuti a contatto con un soggetto sicuramente infetto\n",
    "\n",
    "In questo caso metà dei soggetti $I$ non sono vaccinati, quindi la loro probabilità di infettarsi è pari a $p$ mentre l'altra metà è vaccinata con efficacia $E_2$, pertanto la somma delle probabilità di questi soggetti sarà\n",
    "\n",
    "$$\n",
    "P_{2,1} = \\frac{I}{2}p + \\frac{I}{2}(1-E_2)p = \\frac{I}{2}(2-E_2)p\n",
    "$$"
   ]
  },
  {
   "cell_type": "markdown",
   "metadata": {},
   "source": [
    "## Compartimento 2\n",
    "\n",
    "> Soggetti non vaccinati venuti in contatti con soggetti non vaccinati del primo compartimento\n",
    "\n",
    "In questo caso, ciascun soggetto avrà probabilità di infettarsi pari al prodotto delle probabilità a priori $p$, pertanto la somma delle loro probabilità sarà\n",
    "\n",
    "$$\n",
    "P_{2,2} = \\frac{N-I}{4}p^2\n",
    "$$"
   ]
  },
  {
   "cell_type": "markdown",
   "metadata": {},
   "source": [
    "## Compartimento 3\n",
    "\n",
    "> Soggetti vaccinati venuti in contatto con soggetti non vaccinati del primo compartimento\n",
    "\n",
    "La probabilità di ciascun soggetto sarà pari al prodotto della probabilità a priori $p$ dei soggetti del primo compartimento e della probabilità di infettarsi con seconda dose di vaccino di efficacia $E_2$, dunque la loro somma sarà\n",
    "\n",
    "$$\n",
    "P_{2,3} = \\frac{N-I}{4} (1-E_2)p^2\n",
    "$$\n",
    "\n",
    "Notiamo che se $E_2=100\\%$ la probabilità è nulla."
   ]
  },
  {
   "cell_type": "markdown",
   "metadata": {},
   "source": [
    "## Compartimento 4\n",
    "\n",
    "> Soggetti non vaccinati venuti in contatto con soggetti vaccinati del primo compartimento\n",
    "\n",
    "Similmente, la probabilità di ciascun soggetto sarà pari al prodotto della probabilità di infettarsi del soggetto del primo compartimento con vaccino di efficacia $E_2$ e della probabilità a priori $p$ di infettarsi, pertanto la loro somma sarà\n",
    "\n",
    "$$\n",
    "P_{2,4} = \\frac{N-I}{4}(1-E_2)p^2\n",
    "$$\n",
    "\n",
    "Anche in questo caso se $E_2=100\\%$ la probabilità è nulla."
   ]
  },
  {
   "cell_type": "markdown",
   "metadata": {},
   "source": [
    "## Compartimento 5\n",
    "\n",
    "> Soggetti vaccinati venuti in contatto con soggetti vaccinati del primo compartimento\n",
    "\n",
    "In quest'ultimo compartimento, la probabilità di ciascun soggetto sarà pari al prodotto della probabilità di infettarsi del soggetto del primo compartimento con vaccino di efficacia $E_2$ e della probabilità di infettarsi dei soggetti con medesima vaccinazione di efficacia $E_2$, pertanto la loro somma sarà\n",
    "\n",
    "$$\n",
    "P_{2,5} = \\frac{N-I}{4}(1-E_2)^2 p^2\n",
    "$$\n",
    "\n",
    "Anche in questo compartimento se $E_2=100\\%$ la probabilità è nulla."
   ]
  },
  {
   "cell_type": "markdown",
   "metadata": {},
   "source": [
    "## MEDIA\n",
    "\n",
    "Dalla somma degli ultimi quattro compartimenti otteniamo\n",
    "\n",
    "$$\n",
    "\\frac{N-I}{4} \\left[ 1 + 2(1 - E_2) + (1-E_2)^2 \\right] p^2 =\n",
    "\\frac{N-I}{4} (2 - E_2)^2 p^2\n",
    "$$"
   ]
  },
  {
   "cell_type": "markdown",
   "metadata": {},
   "source": [
    "Pertanto la media di tutti compartimenti, ovvero la probabilità media di osservare soggetti infetti nella popolazione, risulta\n",
    "\n",
    "$$\n",
    "P_2 = \\frac{ \\frac{I}{2}(2 - E_2)p + \\frac{N-I}{4} (2 - E_2)^2 p^2 }{ N }\n",
    "$$"
   ]
  },
  {
   "cell_type": "markdown",
   "metadata": {},
   "source": [
    "# Proporzione strategie"
   ]
  },
  {
   "cell_type": "markdown",
   "metadata": {},
   "source": [
    "La proporzione $P^*$ tra la probabilità media $P_1$ della strategia 1 e la probabilità media $P_2$ della strategia 2 è definita da\n",
    "\n",
    "$$\n",
    "P^* = \\frac{P_1}{P_2} =\n",
    "\\frac{I (1-E_1) p + (N-I) (1-E_1)^2 p^2}{\\frac{I}{2}(2 - E_2)p + \\frac{N-I}{4} (2 - E_2)^2 p^2}\n",
    "$$\n",
    "\n",
    "è pertanto dimostrabile che $P^* = 1$, ovvero le due strategie sono equiparabili, se e solo se $E_1 = 0.5 \\cdot E_2$ ovvero se l'efficacia della prima somministrazione è pari a metà dell'efficacia della seconda somministrazione."
   ]
  },
  {
   "cell_type": "markdown",
   "metadata": {},
   "source": [
    "Infatti, per $E_1 = 0.5 \\cdot E_2$\n",
    "\n",
    "$$\n",
    "P^* = \\frac{P_1}{P_2} =\n",
    "\\frac{I (1-0.5 \\cdot E_2) p + (N-I) (1-0.5 \\cdot E_2)^2 p^2}{\\frac{I}{2}(2 - E_2)p + \\frac{N-I}{4} (2 - E_2)^2 p^2}\n",
    "$$\n",
    "\n",
    "da cui\n",
    "\n",
    "$$\n",
    "P^* = \\frac{P_1}{P_2} =\n",
    "\\frac{\\frac{I}{2}(2 - E_2)p + \\frac{N-I}{4} (2 - E_2)^2 p^2}{\\frac{I}{2}(2 - E_2)p + \\frac{N-I}{4} (2 - E_2)^2 p^2} = 1\n",
    "$$"
   ]
  },
  {
   "cell_type": "markdown",
   "metadata": {},
   "source": [
    "Per $E_1 \\neq 0.5 \\cdot E_2$, indicando $E_1 = (0.5 + x) E_2$ dove $-0.5 < x < 0.5$ \n",
    "\n",
    "$$\n",
    "P^* = \\frac{P_1}{P_2} =\n",
    "\\frac{I (1 - (0.5 + x) E_2) p + (N-I) (1 - (0.5 + x) E_2)^2 p^2}{\\frac{I}{2}(2 - E_2)p + \\frac{N-I}{4} (2 - E_2)^2 p^2}\n",
    "$$\n",
    "\n",
    "da cui\n",
    "\n",
    "$$\n",
    "P^* = \\frac{P_1}{P_2} =\n",
    "\\frac{\\frac{I}{2}(2 - E_2 - 2xE_2)p + \\frac{N-I}{4} (2 - E_2 - 2xE_2)^2 p^2}{\\frac{I}{2}(2 - E_2)p + \\frac{N-I}{4} (2 - E_2)^2 p^2}\n",
    "$$\n",
    "\n",
    "e risulta evidente che \n",
    "\n",
    "- $x>0 \\Rightarrow P^*<1$, ovvero se l'efficacia in prima dose è maggiore della metà dell'efficacia in seconda dose, $P_1 < P_2$ ed è più vantaggioso vaccinare tutta la popolazione con la prima dose (strategia 1)\n",
    "\n",
    "- $x<0 \\Rightarrow P^*>1$, ovvero se l'efficacia in prima dose è minore della metà dell'efficacia in seconda dose, $P_1 > P_2$ ed è più vantaggioso vaccinare metà popolazione con le due dosi (strategia 2)\n",
    "\n",
    "- $x=0 \\Rightarrow P^*=1$, ovvero se l'efficacia in prima dose è uguale alla metà dell'efficacia in seconda dose, le due strategie sono equiparabili"
   ]
  },
  {
   "cell_type": "code",
   "execution_count": 2,
   "metadata": {},
   "outputs": [],
   "source": [
    "prevalence = .2\n",
    "p = .9\n",
    "N = 4e7\n",
    "I = N * prevalence\n",
    "\n",
    "P0 = (I * p + (N - I) * (p**2)) / N"
   ]
  },
  {
   "cell_type": "code",
   "execution_count": 3,
   "metadata": {},
   "outputs": [],
   "source": [
    "length = 1000"
   ]
  },
  {
   "cell_type": "code",
   "execution_count": 4,
   "metadata": {},
   "outputs": [],
   "source": [
    "def compute_P(prop=.25):\n",
    "\n",
    "    E2 = np.linspace(0, 1, length)\n",
    "    P2 = ((I / 2) * (2 - E2) * p + ((N - I) / 4) * ((2 - E2)**2) * (p**2)) / N\n",
    "    E1 = E2 * prop\n",
    "    P1 = (I * (1 - E1) * p + (N - I) * ((1 - E1)**2) * (p**2)) / N\n",
    "    \n",
    "    return P1, P2"
   ]
  },
  {
   "cell_type": "code",
   "execution_count": 5,
   "metadata": {},
   "outputs": [],
   "source": [
    "def compute_P1_P2(E1, E2):\n",
    "\n",
    "    P2 = ((I / 2) * (2 - E2) * p + ((N - I) / 4) * ((2 - E2)**2) * (p**2)) / N\n",
    "\n",
    "    P1 = (I * (1 - E1) * p + (N - I) * ((1 - E1)**2) * (p**2)) / N\n",
    "    \n",
    "    return P1, P2, E1 / E2"
   ]
  },
  {
   "cell_type": "code",
   "execution_count": 6,
   "metadata": {},
   "outputs": [],
   "source": [
    "def compute_ratio(props):\n",
    "    p1, p2 = compute_P(props)\n",
    "    return p1 / p2"
   ]
  },
  {
   "cell_type": "code",
   "execution_count": 7,
   "metadata": {},
   "outputs": [],
   "source": [
    "props = np.linspace(0, 1, length)\n",
    "ratios = compute_ratio(props)"
   ]
  },
  {
   "cell_type": "code",
   "execution_count": 8,
   "metadata": {},
   "outputs": [],
   "source": [
    "max_P = np.max(ratios)\n",
    "\n",
    "max_p = props[np.argmax(ratios)]\n",
    "\n",
    "max_p2 = max_p + .5\n",
    "\n",
    "max_P2 = ratios[np.isclose(props, max_p2, rtol=.001).nonzero()[0][0]]"
   ]
  },
  {
   "cell_type": "code",
   "execution_count": 9,
   "metadata": {},
   "outputs": [
    {
     "data": {
      "image/png": "[encoded data removed]",
      "text/plain": [
       "<Figure size 504x504 with 1 Axes>"
      ]
     },
     "metadata": {},
     "output_type": "display_data"
    }
   ],
   "source": [
    "fig, ax = plt.subplots(figsize=(7, 7))\n",
    "ax.axvline(.5, color='k', ls='--', lw=1)\n",
    "ax.axhline(1, color='k', ls='--', lw=1)\n",
    "ax.plot(props, ratios, lw=3)\n",
    "\n",
    "ax.annotate(\n",
    "    r'$E_1 < \\frac{1}{2}E_2$'\n",
    "    '\\n$P_1 > P_2$'\n",
    "    '\\nmigliore\\nstrategia 2',\n",
    "    xy=(.15, 1.1),\n",
    "    xytext=(.45, .3),\n",
    "    fontsize=20,\n",
    "    ha='right', va='top',\n",
    "    arrowprops=dict(color='k', arrowstyle='->')\n",
    ")\n",
    "ax.annotate(\n",
    "    r'$E_1 > \\frac{1}{2}E_2$'\n",
    "    '\\n$P_1 < P_2$'\n",
    "    '\\nmigliore\\nstrategia 1',\n",
    "    xy=(.8, .4),\n",
    "    xytext=(.55, .3),\n",
    "    fontsize=20,\n",
    "    ha='left', va='top',\n",
    "    arrowprops=dict(color='k', arrowstyle='->')\n",
    ")\n",
    "ax.annotate(\n",
    "    r'$E_1 = \\frac{1}{2}E_2$',\n",
    "    xy=(.5, 1),\n",
    "    xytext=(.7, 1.15),\n",
    "    fontsize=20,\n",
    "    ha='left', va='top',\n",
    "    arrowprops=dict(color='k', arrowstyle='->')\n",
    ")\n",
    "\n",
    "ax.scatter(max_p, max_P, s=100, color='r')\n",
    "ax.scatter(max_p2, max_P2, s=100, color='y')\n",
    "\n",
    "ax.set(\n",
    "    xlabel='proporzione $E_1$ / $E_2$',\n",
    "    ylabel='proporzione $P_1$ / $P_2$'\n",
    ")\n",
    "plt.show()"
   ]
  },
  {
   "cell_type": "code",
   "execution_count": 10,
   "metadata": {},
   "outputs": [
    {
     "data": {
      "text/markdown": [
       "\n",
       "Notiamo inoltre dal grafico di $P^*$ in funzione di $E_1 / E_2$ che la maggior \n",
       "efficacia della strategia 2 in caso di $E_1 < 0.5 \\cdot E_2$ (ovvero $x<0$) è limitata superiormente a \n",
       "circa 13% quando $E_1 \\simeq 0.27 \\cdot E_2$ ovvero quando l'efficacia\n",
       "del vaccino in prima dose è pari al 27% circa dell'efficacia in seconda dose\n",
       "(punto rosso in figura),\n",
       "mentre laddove $E_1 > 0.5 \\cdot E_2$ il vantaggio della prima strategia\n",
       "è notevolmente aumentato infatti ad esempio per $E_1 = (0.5+0.27) E_2 = 0.77 \\cdot E_2$,\n",
       "il vantaggio della prima strategia è del 48% circa quindi più che triplicato\n",
       "(punto giallo in figura).\n"
      ],
      "text/plain": [
       "<IPython.core.display.Markdown object>"
      ]
     },
     "metadata": {},
     "output_type": "display_data"
    }
   ],
   "source": [
    "display(Markdown(fr\"\"\"\n",
    "Notiamo inoltre dal grafico di $P^*$ in funzione di $E_1 / E_2$ che la maggior \n",
    "efficacia della strategia 2 in caso di $E_1 < 0.5 \\cdot E_2$ (ovvero $x<0$) è limitata superiormente a \n",
    "circa {max_P-1:.0%} quando $E_1 \\simeq {max_p:.2f} \\cdot E_2$ ovvero quando l'efficacia\n",
    "del vaccino in prima dose è pari al {max_p:.0%} circa dell'efficacia in seconda dose\n",
    "(punto rosso in figura),\n",
    "mentre laddove $E_1 > 0.5 \\cdot E_2$ il vantaggio della prima strategia\n",
    "è notevolmente aumentato infatti ad esempio per $E_1 = (0.5+{max_p:.2f}) E_2 = {max_p2:.2f} \\cdot E_2$,\n",
    "il vantaggio della prima strategia è del {1-max_P2:.0%} circa quindi più che triplicato\n",
    "(punto giallo in figura).\n",
    "\"\"\"))"
   ]
  },
  {
   "cell_type": "markdown",
   "metadata": {},
   "source": [
    "# conclusione"
   ]
  },
  {
   "cell_type": "markdown",
   "metadata": {},
   "source": [
    "Riassumendo, dal punto di vista della probabilità media di infezione nella popolazione \n",
    "\n",
    "- per $E_1 = 0.5 \\cdot E_2$ le due strategie sono sovrapponibili\n",
    "\n",
    "- per $E_1 > 0.5 \\cdot E_2$ è più vantaggiosa la prima strategia\n",
    "\n",
    "- per $E_1 < 0.5 \\cdot E_2$ è più vantaggiosa la seconda strategia\n",
    "\n",
    "Se pertanto il rapporto tra l'efficacia $E_1$ e $E_2$ non sia noto con sicurezza, ma non lontano dal 50%, la strategia 2 della vaccinazione completa a metà popolazione è più vantaggiosa perché si eviterebbe \n",
    "di perdere in efficacia e in caso $E_2$ fosse prossima al 100%, metà dei soggetti non ancora vaccinati sarebbero protetti abbattendo il loro rischio di infezione molto al di sotto della probabilità a priori, mentre nel caso della strategia 1 della vaccinazione in prima dose a tutta la popolazione, tutti i soggetti avrebbero la medesima probabilità sicuramente non nulla di infettarsi e si perderebbe in efficacia $E_2$ alla seconda somministrazione."
   ]
  },
  {
   "cell_type": "code",
   "execution_count": 11,
   "metadata": {},
   "outputs": [],
   "source": [
    "E1_pfizer = .50\n",
    "E2_pfizer = .95\n",
    "prop_pfizer = E1_pfizer / E2_pfizer\n",
    "\n",
    "P1_pfizer, P2_pfizer, prop_pfizer = compute_P1_P2(E1_pfizer, E2_pfizer)"
   ]
  },
  {
   "cell_type": "code",
   "execution_count": 12,
   "metadata": {},
   "outputs": [
    {
     "data": {
      "text/markdown": [
       "\n",
       "Nel caso, ad esempio, di un vaccino con efficacia $E_1=50$%\n",
       "ed efficacia $E_2=95$%, quindi con proporzione\n",
       "$E_1 / E_2 = 0.53 > 0.5$\n",
       "(come si evince dai dati della sperimentazione fase 3\n",
       "del vaccino Pfizer Cominarty)\n",
       ", sarebbe maggiormente efficace\n",
       "la strategia 1 infatti otteniamo\n",
       "\n",
       "$$\n",
       "P_1 = 25.2\\%\n",
       "$$\n",
       "\n",
       "$$\n",
       "P_2 = 27.3\\%\n",
       "$$\n",
       "\n",
       "ovvero con la strategia 2 avremmo il 2.1% di \n",
       "probabilità media di infezione in più nella popolazione.\n"
      ],
      "text/plain": [
       "<IPython.core.display.Markdown object>"
      ]
     },
     "metadata": {},
     "output_type": "display_data"
    }
   ],
   "source": [
    "display(Markdown(fr\"\"\"\n",
    "Nel caso, ad esempio, di un vaccino con efficacia $E_1={E1_pfizer*100:.0f}$%\n",
    "ed efficacia $E_2={E2_pfizer*100:.0f}$%, quindi con proporzione\n",
    "$E_1 / E_2 = {prop_pfizer:.2f} > 0.5$\n",
    "(come si evince dai dati della sperimentazione fase 3\n",
    "del vaccino Pfizer Cominarty)\n",
    ", sarebbe maggiormente efficace\n",
    "la strategia 1 infatti otteniamo\n",
    "\n",
    "$$\n",
    "P_1 = {P1_pfizer*100:.1f}\\%\n",
    "$$\n",
    "\n",
    "$$\n",
    "P_2 = {P2_pfizer*100:.1f}\\%\n",
    "$$\n",
    "\n",
    "ovvero con la strategia 2 avremmo il {P2_pfizer - P1_pfizer:.1%} di \n",
    "probabilità media di infezione in più nella popolazione.\n",
    "\"\"\"))"
   ]
  },
  {
   "cell_type": "code",
   "execution_count": 13,
   "metadata": {},
   "outputs": [],
   "source": [
    "E1_pfizerA = .40\n",
    "E2_pfizerA = .95\n",
    "prop_pfizerA = E1_pfizerA / E2_pfizerA\n",
    "\n",
    "P1_pfizerA, P2_pfizerA, prop_pfizerA = compute_P1_P2(E1_pfizerA, E2_pfizerA)"
   ]
  },
  {
   "cell_type": "code",
   "execution_count": 14,
   "metadata": {},
   "outputs": [
    {
     "data": {
      "text/markdown": [
       "\n",
       "Ma se l'efficacia $E_1$ fosse minore, ad esempio $E_1=40$%\n",
       "con medesima efficacia $E_2=95$%, quindi con proporzione\n",
       "$E_1 / E_2 = 0.42 < 0.5$, sarebbe maggiormente efficace\n",
       "la strategia 2 infatti otterremmo\n",
       "\n",
       "$$\n",
       "P_1 = 34.1\\%\n",
       "$$\n",
       "\n",
       "$$\n",
       "P_2 = 27.3\\%\n",
       "$$\n",
       "\n",
       "ovvero con la strategia 1 avremmo il 6.8% di \n",
       "probabilità media di infezione in più nella popolazione.\n"
      ],
      "text/plain": [
       "<IPython.core.display.Markdown object>"
      ]
     },
     "metadata": {},
     "output_type": "display_data"
    }
   ],
   "source": [
    "display(Markdown(fr\"\"\"\n",
    "Ma se l'efficacia $E_1$ fosse minore, ad esempio $E_1={E1_pfizerA*100:.0f}$%\n",
    "con medesima efficacia $E_2={E2_pfizerA*100:.0f}$%, quindi con proporzione\n",
    "$E_1 / E_2 = {prop_pfizerA:.2f} < 0.5$, sarebbe maggiormente efficace\n",
    "la strategia 2 infatti otterremmo\n",
    "\n",
    "$$\n",
    "P_1 = {P1_pfizerA*100:.1f}\\%\n",
    "$$\n",
    "\n",
    "$$\n",
    "P_2 = {P2_pfizerA*100:.1f}\\%\n",
    "$$\n",
    "\n",
    "ovvero con la strategia 1 avremmo il {P1_pfizerA - P2_pfizerA:.1%} di \n",
    "probabilità media di infezione in più nella popolazione.\n",
    "\"\"\"))"
   ]
  },
  {
   "cell_type": "code",
   "execution_count": 15,
   "metadata": {},
   "outputs": [],
   "source": [
    "E1_pfizerB = .50\n",
    "E2_pfizerB = .90\n",
    "prop_pfizerB = E1_pfizerB / E2_pfizerB\n",
    "\n",
    "P1_pfizerB, P2_pfizerB, prop_pfizerB = compute_P1_P2(E1_pfizerB, E2_pfizerB)"
   ]
  },
  {
   "cell_type": "code",
   "execution_count": 16,
   "metadata": {},
   "outputs": [
    {
     "data": {
      "text/markdown": [
       "\n",
       "Parimenti, se l'efficacia $E_1=50\\%$ fosse confermata, \n",
       "ma $E_2$ fosse minore ad esempio $E_2=90$%, quindi con proporzione\n",
       "$E_1 / E_2 = 0.56 > 0.5$, sarebbe maggiormente efficace\n",
       "la strategia 1 infatti otterremmo\n",
       "\n",
       "$$\n",
       "P_1 = 25.2\\%\n",
       "$$\n",
       "\n",
       "$$\n",
       "P_2 = 29.5\\%\n",
       "$$\n",
       "\n",
       "ovvero con la strategia 2 avremmo il 4.3% di \n",
       "probabilità media di infezione in più nella popolazione.\n"
      ],
      "text/plain": [
       "<IPython.core.display.Markdown object>"
      ]
     },
     "metadata": {},
     "output_type": "display_data"
    }
   ],
   "source": [
    "display(Markdown(fr\"\"\"\n",
    "Parimenti, se l'efficacia $E_1={E1_pfizerB*100:.0f}\\%$ fosse confermata, \n",
    "ma $E_2$ fosse minore ad esempio $E_2={E2_pfizerB*100:.0f}$%, quindi con proporzione\n",
    "$E_1 / E_2 = {prop_pfizerB:.2f} > 0.5$, sarebbe maggiormente efficace\n",
    "la strategia 1 infatti otterremmo\n",
    "\n",
    "$$\n",
    "P_1 = {P1_pfizerB*100:.1f}\\%\n",
    "$$\n",
    "\n",
    "$$\n",
    "P_2 = {P2_pfizerB*100:.1f}\\%\n",
    "$$\n",
    "\n",
    "ovvero con la strategia 2 avremmo il {P2_pfizerB - P1_pfizerB:.1%} di \n",
    "probabilità media di infezione in più nella popolazione.\n",
    "\"\"\"))"
   ]
  },
  {
   "cell_type": "markdown",
   "metadata": {},
   "source": [
    "Pertanto, nel caso in cui un ritardo nella somministrazione della seconda dose diminuisse l'efficacia $E_2$, restando invariata l'efficacia della prima dose $E_1$, al punto che il rapporto $E_1 / E_2 > 0.5$ sarebbe preferibile la strategia 1, ovvero vaccinare l'intera popolazione con la prima somministrazione."
   ]
  },
  {
   "cell_type": "markdown",
   "metadata": {},
   "source": [
    "È dunque evidente che la scelta della migliore strategia dal punto di vista probabilistico, considerando equamente distribuiti i contatti tra i soggetti e condivisa la probabilità $p$ a priori di infettarsi in caso di contatto, dipende dal rapporto tra l'efficacia delle due somministrazioni e dall'eventuale diminuzione dell'efficacia della seconda somministrazione dovuta al ritardo."
   ]
  },
  {
   "cell_type": "markdown",
   "metadata": {},
   "source": [
    "Se però la riduzione dell'efficacia $E_2$ fosse eccessiva al punto da avvicinarsi troppo alla soglia dell'immunità di gregge, la strategia 2 sarebbe comunque preferibile nonostante rischi di aumentare la probabilità di infetti nella popolazione se $E_1/E_2>0.5$.\n",
    "\n",
    "Infatti, la minima copertura vaccinale $V$, dato il numero di riproduzione di base $R_0$ è pari a \n",
    "\n",
    "$$\n",
    "V = \\frac{ 1 - \\frac{1}{R_0} }{ E }\n",
    "$$\n",
    "\n",
    "dove $1 - \\frac{1}{R_0}$ è la soglia di immunità di gregge **HIT** (Herd Immunity Threshold).\n",
    "\n",
    "Se quindi $E < \\mathbf{HIT}$, si dovrebbe vaccinare più del 100% della popolazione, il che è ovviamente impossibile.\n",
    "\n",
    "Pertanto, se il ritardo nella seconda somministrazione diminuisce l'efficacia $E_2$, finché $E_2 > \\mathbf{HIT}$ la scelta della strategia dipende dal rapporto $E_1 / E_2$, ma nel momento in cui $E_2 \\simeq \\mathbf{HIT}$ ovvero l'efficacia della seconda somministrazione di avvicini troppo alla soglia per effetto gregge, la strategia 1 sarebbe comunque da evitare per non perdere di efficacia e rischiare di non poter raggiungere la minima copertura vaccinale quando la seconda fornitura sarà disponibile per il resto della popolazione."
   ]
  }
 ],
 "metadata": {
  "hide_input": false,
  "kernelspec": {
   "display_name": "Python 3",
   "language": "python",
   "name": "python3"
  },
  "language_info": {
   "codemirror_mode": {
    "name": "ipython",
    "version": 3
   },
   "file_extension": ".py",
   "mimetype": "text/x-python",
   "name": "python",
   "nbconvert_exporter": "python",
   "pygments_lexer": "ipython3",
   "version": "3.8.3"
  },
  "nbTranslate": {
   "displayLangs": [
    "*"
   ],
   "hotkey": "alt-t",
   "langInMainMenu": true,
   "sourceLang": "en",
   "targetLang": "fr",
   "useGoogleTranslate": true
  },
  "toc": {
   "base_numbering": 1,
   "nav_menu": {},
   "number_sections": true,
   "sideBar": true,
   "skip_h1_title": false,
   "title_cell": "Table of Contents",
   "title_sidebar": "Contents",
   "toc_cell": false,
   "toc_position": {},
   "toc_section_display": true,
   "toc_window_display": false
  }
 },
 "nbformat": 4,
 "nbformat_minor": 4
}
