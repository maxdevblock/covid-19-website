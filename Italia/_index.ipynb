{
 "cells": [
  {
   "cell_type": "markdown",
   "metadata": {},
   "source": [
    "# Italia"
   ]
  },
  {
   "cell_type": "markdown",
   "metadata": {},
   "source": [
    "[**Test di Benford**](Italia/Benford_regioni.html)<br>\n",
    "&nbsp; &nbsp;Classifica anomalie nei dati regionali."
   ]
  },
  {
   "cell_type": "markdown",
   "metadata": {},
   "source": [
    "[**Nuovi Decessi e Terapie Intensive**](Italia/CFR_TI.html)<br>\n",
    "&nbsp; &nbsp;Correlazione tra nuovi deceduti e terapie intensive."
   ]
  },
  {
   "cell_type": "markdown",
   "metadata": {},
   "source": [
    "[**Compliance**](Italia/Compliance.html)<br>\n",
    "&nbsp; &nbsp;Conformit\u00e0 della popolazione alle norme di igiene e sicurezza."
   ]
  },
  {
   "cell_type": "markdown",
   "metadata": {},
   "source": [
    "[**Crescita**](Italia/Crescita.html)<br>\n",
    "&nbsp; &nbsp;Stime di Crescita"
   ]
  },
  {
   "cell_type": "markdown",
   "metadata": {},
   "source": [
    "[**Cumulativi**](Italia/Cumulativi.html)<br>\n",
    "&nbsp; &nbsp;Dati cumulativi"
   ]
  },
  {
   "cell_type": "markdown",
   "metadata": {},
   "source": [
    "[**Dati per gruppo di regioni**](Italia/Gruppi.html)<br>\n",
    "&nbsp; &nbsp;Variazioni giornaliere e dati dinamici per gruppo di regioni."
   ]
  },
  {
   "cell_type": "markdown",
   "metadata": {},
   "source": [
    "[**App Immuni**](Italia/Immuni.html)<br>\n",
    "&nbsp; &nbsp;Stima downloads App Immuni."
   ]
  },
  {
   "cell_type": "markdown",
   "metadata": {},
   "source": [
    "[**Infografiche**](Italia/Infografiche.html)<br>\n",
    "&nbsp; &nbsp;Infografiche su situazione COVID-19 in Italia."
   ]
  },
  {
   "cell_type": "markdown",
   "metadata": {},
   "source": [
    "[**Tasso di Positività**](Italia/Percent_Positive.html)<br>\n",
    "&nbsp; &nbsp;Calcolo del Tasso di Positivit\u00e0."
   ]
  },
  {
   "cell_type": "markdown",
   "metadata": {},
   "source": [
    "[**Casi nelle Province**](Italia/Province.html)<br>\n",
    "&nbsp; &nbsp;Totale casi nelle singole province."
   ]
  },
  {
   "cell_type": "markdown",
   "metadata": {},
   "source": [
    "[**Rt per provincia**](Italia/Rt_Province.html)<br>\n",
    "&nbsp; &nbsp;Rt di COVID-19 stimato per le province italiane."
   ]
  },
  {
   "cell_type": "markdown",
   "metadata": {},
   "source": [
    "[**Stima Rt e simulazioni**](Italia/Rt_stime.html)<br>\n",
    "&nbsp; &nbsp;Rt italiano e regionale e simulazioni d'incidenza."
   ]
  },
  {
   "cell_type": "markdown",
   "metadata": {},
   "source": [
    "[**Quantità nel modello SIRD**](Italia/SIRD.html)<br>\n",
    "&nbsp; &nbsp;Calcolo delle quantit\u00e0 nel modello SIRD"
   ]
  },
  {
   "cell_type": "markdown",
   "metadata": {},
   "source": [
    "[**Variazioni**](Italia/Variazioni.html)<br>\n",
    "&nbsp; &nbsp;Variazioni giornaliere."
   ]
  },
  {
   "cell_type": "markdown",
   "metadata": {},
   "source": [
    "[**Tasso di letalità**](Italia/wiCFR.html)<br>\n",
    "&nbsp; &nbsp;Tasso di letalit\u00e0 istantaneo ponderato (wiCFR) per COVID-19 in Italia."
   ]
  }
 ],
 "metadata": {
  "kernelspec": {
   "display_name": "Python 3",
   "language": "python",
   "name": "python3"
  },
  "language_info": {
   "codemirror_mode": {
    "name": "ipython",
    "version": 3
   },
   "file_extension": ".py",
   "mimetype": "text/x-python",
   "name": "python",
   "nbconvert_exporter": "python",
   "pygments_lexer": "ipython3",
   "version": "3.6.0"
  }
 },
 "nbformat": 4,
 "nbformat_minor": 2
}