{
 "cells": [
  {
   "cell_type": "markdown",
   "metadata": {},
   "source": [
    "# Italia"
   ]
  },
  {
   "cell_type": "markdown",
   "metadata": {},
   "source": [
    "[**Crescita**](Italia/Crescita.html)<br>\n",
    "&nbsp; &nbsp;Stime di Crescita"
   ]
  },
  {
   "cell_type": "markdown",
   "metadata": {},
   "source": [
    "[**Cumulativi**](Italia/Cumulativi.html)<br>\n",
    "&nbsp; &nbsp;Dati cumulativi"
   ]
  },
  {
   "cell_type": "markdown",
   "metadata": {},
   "source": [
    "[**App Immuni**](Italia/Immuni.html)<br>\n",
    "&nbsp; &nbsp;Stima downloads App Immuni."
   ]
  },
  {
   "cell_type": "markdown",
   "metadata": {},
   "source": [
    "[**Tasso di Positività**](Italia/Percent Positive.html)<br>\n",
    "&nbsp; &nbsp;Calcolo del Tasso di Positivit\u00e0."
   ]
  },
  {
   "cell_type": "markdown",
   "metadata": {},
   "source": [
    "[**Previsioni**](Italia/Previsioni.html)<br>\n",
    "&nbsp; &nbsp;Modello Predittivo a 7gg"
   ]
  },
  {
   "cell_type": "markdown",
   "metadata": {},
   "source": [
    "[**Province**](Italia/Province.html)<br>\n",
    "&nbsp; &nbsp;Casi nelle Province"
   ]
  },
  {
   "cell_type": "markdown",
   "metadata": {},
   "source": [
    "[**Variazioni**](Italia/Variazioni.html)<br>\n",
    "&nbsp; &nbsp;Variazioni giornaliere."
   ]
  },
  {
   "cell_type": "markdown",
   "metadata": {},
   "source": [
    "[**Numero di Riproduzione**](Italia/stime Rt.html)<br>\n",
    "&nbsp; &nbsp;Stime di Rt."
   ]
  }
 ],
 "metadata": {
  "kernelspec": {
   "display_name": "Python 3",
   "language": "python",
   "name": "python3"
  },
  "language_info": {
   "codemirror_mode": {
    "name": "ipython",
    "version": 3
   },
   "file_extension": ".py",
   "mimetype": "text/x-python",
   "name": "python",
   "nbconvert_exporter": "python",
   "pygments_lexer": "ipython3",
   "version": "3.6.0"
  }
 },
 "nbformat": 4,
 "nbformat_minor": 2
}