{
 "cells": [
  {
   "cell_type": "markdown",
   "metadata": {},
   "source": [
    "# Quantità nel modello SIRD\n",
    "\n",
    "Calcolo delle quantità nel modello SIRD\n",
    "\n",
    "> Sandra Mazzoli, Max Pierini\n",
    "\n",
    "***\n",
    "\n",
    "In questa epidemia uno dei danni maggiori che è stato fatto è sicuramente la disinformazione. In particolare, sui dati che tutti giorni vengono comunicati dalla protezione Civile Italiana sull’andamento della infezione nella popolazione.\n",
    "Soprattutto sul numero dei \"nuovi casi giornalieri\" e sui \"nuovi infetti\", che non coincidono numericamente, creando incredulità sui contagi, dubbi, negazionismo ed una sostanziale sfiducia, alla fine.\n",
    "I numeri sono importanti e lo sono, soprattutto, in un momento come questo in cui la popolazione, spaventata da quanto avvenuto nel nostro paese in primavera, guarda con attenzione e preoccupazione ai numeri crescenti dei nuovi casi in Italia e nel mondo.\n",
    "\n",
    "Si pensa, infatti, che, guardando a questo numero dei \"nuovi casi\", si identifichino con essi i nuovi infetti giornalieri. E, invece, non è proprio così, la situazione è più complessa. Il numero giornaliero comunicato dei nuovi casi ricomprende con sicurezza il numero dei \"nuovi infetti\" giornalieri, ma tiene anche conto di altri due parametri: i \"deceduti\" (morti) e i \"guariti\", condizioni queste impattanti l’epidemia e valori dinamici nel tempo. Cioè in cambiamento dinamico numericamente nel tempo, ma che definiscono due condizioni, la morte e la guarigione, non mutabili. Grazie all’applicazione di un modello matematico, risalente ai primi Novecento e messo a punto con la Spagnola, che li include, si sommano dunque parametri fissi, morti e guariti, con un parametro mobile che è quello degli infetti, di cui, al momento della scoperta, non sappiamo ancora quale sarà l’esito. Remissione dell’infezione (guarigione spontanea) o trasformazione dell’infezione in malattia, con futuro esito di possibile guarigione, spontanea o per cure, o morte.\n",
    "\n",
    "Quelli che vengono comunemente definiti \"nuovi casi\" (e che il Dipartimento di Protezione Civile riporta come *nuovi positivi*) si riferiscono a \"soggetti risultati **per la prima volta** positivi al test\", mentre i \"nuovi infetti\" (che il Dipartimento di Protezione Civile riporta come *variazione totale positivi*) si riferiscono alla \"differenza, giorno per giorno, dei soggetti **precedentemente** risultati positivi al test, attualmente vivi e non guariti\", ovvero degli \"attualmente infetti\".\n",
    "\n",
    "Questo dato dei nuovi casi rende molto bene il modello evolutivo dell’infezione nella popolazione, che è esattamente quanto stiamo vedendo nella popolazione italiana in questo momento. La storia naturale dell’infezione decorre con due possibili evoluzioni: come asintomatica o come sintomatica. La prima si autolimita e determina guarigione, la dove le difese dell’organismo sono in grado di limitarla e facendola guarire spontaneamente, o dove il virus è presente in bassa carica virale o non si presenti particolarmente virulento. La seconda, infezione sintomatica può evolvere in morte o guarigione. Quando il virus prende il sopravvento sulle difese specifiche dell’organismo ospite anche, spesso, per le sue caratteristiche di aggressività, virulenza e patogenicità. Nel primo caso abbiamo gli \"asintomatici\", infetti, che tanto sono stati e sono importanti nella diffusione della infezione da SARS-CoV-2, soprattutto i cosiddetti superspreaders che veicolando ed eliminando alte cariche virali hanno infettato, in pochi, un gran numero di individui, in assenza dell’utilizzo delle mascherine, distanziamento sociale, etc..\n",
    "Il modello evolutivo, dinamico, dell’infezione è applicabile a questa come a tutte le infezioni, virali e non.\n",
    "Sotto, l’esempio esplicativo di come si forma questo numero dei \"nuovi Casi\" giornalieri in forma di \"Tabella Dinamica\", che è fondamentale capire e che così tanto pesa sulle decisioni sanitarie e sociopolitiche da prendere da parte dei decision makers, nel tentativo di arginare questa epidemia in Italia e nel mondo. Nella speranza che non ci siano più discussioni e polemiche sui dati."
   ]
  },
  {
   "cell_type": "markdown",
   "metadata": {},
   "source": [
    "![schema](schema_infezione.png)"
   ]
  },
  {
   "cell_type": "code",
   "execution_count": 1,
   "metadata": {
    "execution": {
     "iopub.execute_input": "2020-12-03T23:46:31.566918Z",
     "iopub.status.busy": "2020-12-03T23:46:31.563445Z",
     "iopub.status.idle": "2020-12-03T23:46:31.569480Z",
     "shell.execute_reply": "2020-12-03T23:46:31.570083Z"
    }
   },
   "outputs": [],
   "source": [
    "from IPython.display import HTML"
   ]
  },
  {
   "cell_type": "markdown",
   "metadata": {},
   "source": [
    "# Tabella dinamica (esempio)"
   ]
  },
  {
   "cell_type": "code",
   "execution_count": 2,
   "metadata": {
    "execution": {
     "iopub.execute_input": "2020-12-03T23:46:31.582310Z",
     "iopub.status.busy": "2020-12-03T23:46:31.581267Z",
     "iopub.status.idle": "2020-12-03T23:46:31.588130Z",
     "shell.execute_reply": "2020-12-03T23:46:31.589000Z"
    }
   },
   "outputs": [
    {
     "data": {
      "text/html": [
       "\n",
       "<video style=\"width:100%; height:auto; margin-left:0;\" width=\"840\" height=\"460\" controls=\"\">\n",
       "<source src=\"tabella_SIRD.mov\">\n",
       "</video>\n"
      ],
      "text/plain": [
       "<IPython.core.display.HTML object>"
      ]
     },
     "execution_count": 1,
     "metadata": {},
     "output_type": "execute_result"
    }
   ],
   "source": [
    "HTML(\"\"\"\n",
    "<video style=\"width:100%; height:auto; margin-left:0;\" width=\"840\" height=\"460\" controls=\"\">\n",
    "<source src=\"tabella_SIRD.mov\">\n",
    "</video>\n",
    "\"\"\")"
   ]
  },
  {
   "cell_type": "code",
   "execution_count": null,
   "metadata": {},
   "outputs": [],
   "source": []
  }
 ],
 "metadata": {
  "kernelspec": {
   "display_name": "Python 3",
   "language": "python",
   "name": "python3"
  },
  "language_info": {
   "codemirror_mode": {
    "name": "ipython",
    "version": 3
   },
   "file_extension": ".py",
   "mimetype": "text/x-python",
   "name": "python",
   "nbconvert_exporter": "python",
   "pygments_lexer": "ipython3",
   "version": "3.8.5"
  }
 },
 "nbformat": 4,
 "nbformat_minor": 4
}
