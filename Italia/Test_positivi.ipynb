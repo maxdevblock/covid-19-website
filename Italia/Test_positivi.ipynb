{
 "cells": [
  {
   "cell_type": "markdown",
   "metadata": {},
   "source": [
    "# Positivi e Test\n",
    "\n",
    "Come i test incidono sulla positività.\n",
    "\n",
    "> Max Pierini\n",
    "\n",
    "***"
   ]
  },
  {
   "cell_type": "markdown",
   "metadata": {},
   "source": [
    "Con questo semplice esempio, si dimostra come l'utilizzo di differenti test diagnostici in differenti campioni di popolazione possa, se ignorato, portare a conclusioni errate e a dichiarare come statisticamente significative differenze nei positivi osservati, errore che viene corretto se si considera la differente distribuzione dei test effettuati.\n",
    "\n",
    "***"
   ]
  },
  {
   "cell_type": "code",
   "execution_count": 77,
   "metadata": {},
   "outputs": [],
   "source": [
    "import numpy as np\n",
    "import pandas as pd\n",
    "import scipy.stats as sps\n",
    "\n",
    "import matplotlib.pyplot as plt\n",
    "import matplotlib.ticker as mtick\n",
    "import seaborn as sns\n",
    "sns.set()\n",
    "\n",
    "from IPython.display import Markdown, Latex, HTML"
   ]
  },
  {
   "cell_type": "markdown",
   "metadata": {},
   "source": [
    "Nelle prossime tabelle:\n",
    "\n",
    "- `POS` sono i test positivi\n",
    "- `NEG` sono i test negativi\n",
    "- `MAL` sono i malati reali\n",
    "- `SAN` sono i sani reali\n",
    "- `A` e `B` sono due differenti test diagnostici\n",
    "- `TP` è il tasso di posivitità (test positivi su test totali)\n",
    "- `pct` è la percentuale del tipo test sui test complessivi\n",
    "- `TOT` sono le somme relative nella tabella"
   ]
  },
  {
   "cell_type": "code",
   "execution_count": 2,
   "metadata": {},
   "outputs": [],
   "source": [
    "SE_A = .94\n",
    "SP_A = .99\n",
    "\n",
    "SE_B = .85\n",
    "SP_B = .95\n",
    "\n",
    "I_1 = .051\n",
    "I_2 = .053\n",
    "\n",
    "pop_1_A = 200\n",
    "pop_1_B = 3000\n",
    "\n",
    "pop_2_A = 2000\n",
    "pop_2_B = 300"
   ]
  },
  {
   "cell_type": "markdown",
   "metadata": {},
   "source": [
    "Siano dati due test diagnostici `A` e `B` per malattia $M$ con le seguenti sensibilità **SE** e specificità **SP**"
   ]
  },
  {
   "cell_type": "code",
   "execution_count": 3,
   "metadata": {},
   "outputs": [
    {
     "data": {
      "text/html": [
       "<style  type=\"text/css\" >\n",
       "</style><table id=\"T_c05f556a_6b81_11eb_b546_9cf387bb866c\" ><thead>    <tr>        <th class=\"blank level0\" ></th>        <th class=\"col_heading level0 col0\" >test A</th>        <th class=\"col_heading level0 col1\" >test B</th>    </tr></thead><tbody>\n",
       "                <tr>\n",
       "                        <th id=\"T_c05f556a_6b81_11eb_b546_9cf387bb866clevel0_row0\" class=\"row_heading level0 row0\" >SE</th>\n",
       "                        <td id=\"T_c05f556a_6b81_11eb_b546_9cf387bb866crow0_col0\" class=\"data row0 col0\" >94%</td>\n",
       "                        <td id=\"T_c05f556a_6b81_11eb_b546_9cf387bb866crow0_col1\" class=\"data row0 col1\" >85%</td>\n",
       "            </tr>\n",
       "            <tr>\n",
       "                        <th id=\"T_c05f556a_6b81_11eb_b546_9cf387bb866clevel0_row1\" class=\"row_heading level0 row1\" >SP</th>\n",
       "                        <td id=\"T_c05f556a_6b81_11eb_b546_9cf387bb866crow1_col0\" class=\"data row1 col0\" >99%</td>\n",
       "                        <td id=\"T_c05f556a_6b81_11eb_b546_9cf387bb866crow1_col1\" class=\"data row1 col1\" >95%</td>\n",
       "            </tr>\n",
       "    </tbody></table>"
      ],
      "text/plain": [
       "<pandas.io.formats.style.Styler at 0x7fe6819b0850>"
      ]
     },
     "execution_count": 3,
     "metadata": {},
     "output_type": "execute_result"
    }
   ],
   "source": [
    "_AB_ = pd.DataFrame({\n",
    "    'test A': [SE_A, SP_A],\n",
    "    'test B': [SE_B, SP_B],\n",
    "}, index=['SE', 'SP'])\n",
    "_AB_.style.format('{:.0%}')\n",
    "#Latex(_AB_.to_latex(\n",
    "#    formatters={'A': \"{:.0%}\".format, 'B': \"{:.0%}\".format}\n",
    "#))"
   ]
  },
  {
   "cell_type": "markdown",
   "metadata": {},
   "source": [
    "Siano date due province `prov1` e `prov2` in cui la malattia $M$ ha la seguente incidenza reale giornaliera nel giorno $t$ e in cui campioni di popolazione vengono testati con i due test `A` e `B` in differenti proporzioni"
   ]
  },
  {
   "cell_type": "code",
   "execution_count": 4,
   "metadata": {},
   "outputs": [
    {
     "data": {
      "text/html": [
       "<style  type=\"text/css\" >\n",
       "</style><table id=\"T_c062a774_6b81_11eb_b546_9cf387bb866c\" ><thead>    <tr>        <th class=\"blank level0\" ></th>        <th class=\"col_heading level0 col0\" >test A</th>        <th class=\"col_heading level0 col1\" >test B</th>        <th class=\"col_heading level0 col2\" >incidenza</th>    </tr></thead><tbody>\n",
       "                <tr>\n",
       "                        <th id=\"T_c062a774_6b81_11eb_b546_9cf387bb866clevel0_row0\" class=\"row_heading level0 row0\" >prov1</th>\n",
       "                        <td id=\"T_c062a774_6b81_11eb_b546_9cf387bb866crow0_col0\" class=\"data row0 col0\" >200</td>\n",
       "                        <td id=\"T_c062a774_6b81_11eb_b546_9cf387bb866crow0_col1\" class=\"data row0 col1\" >3000</td>\n",
       "                        <td id=\"T_c062a774_6b81_11eb_b546_9cf387bb866crow0_col2\" class=\"data row0 col2\" >5.1%</td>\n",
       "            </tr>\n",
       "            <tr>\n",
       "                        <th id=\"T_c062a774_6b81_11eb_b546_9cf387bb866clevel0_row1\" class=\"row_heading level0 row1\" >prov2</th>\n",
       "                        <td id=\"T_c062a774_6b81_11eb_b546_9cf387bb866crow1_col0\" class=\"data row1 col0\" >2000</td>\n",
       "                        <td id=\"T_c062a774_6b81_11eb_b546_9cf387bb866crow1_col1\" class=\"data row1 col1\" >300</td>\n",
       "                        <td id=\"T_c062a774_6b81_11eb_b546_9cf387bb866crow1_col2\" class=\"data row1 col2\" >5.3%</td>\n",
       "            </tr>\n",
       "    </tbody></table>"
      ],
      "text/plain": [
       "<pandas.io.formats.style.Styler at 0x7fe681dd4460>"
      ]
     },
     "execution_count": 4,
     "metadata": {},
     "output_type": "execute_result"
    }
   ],
   "source": [
    "_12_ = pd.DataFrame({\n",
    "    'test A': [pop_1_A, pop_2_A],\n",
    "    'test B': [pop_1_B, pop_2_B],\n",
    "    'incidenza': [I_1, I_2]\n",
    "}, index=['prov1', 'prov2'])\n",
    "_12_.style.format(formatter={'incidenza': '{:.1%}'})\n",
    "#Latex(_12_.to_latex(\n",
    "#    formatters={'incidenza': \"{:.2%}\".format}\n",
    "#))"
   ]
  },
  {
   "cell_type": "code",
   "execution_count": 5,
   "metadata": {},
   "outputs": [],
   "source": [
    "def get_confusion_matrix(pop, I, SE, SP):\n",
    "    df = pd.DataFrame({\n",
    "        'POS': [np.nan, np.nan, np.nan],\n",
    "        'NEG': [np.nan, np.nan, np.nan],\n",
    "        'TOT': [np.nan, np.nan, np.nan],\n",
    "    }, index=['MAL', 'SAN', 'TOT'])\n",
    "    # popolazione testata\n",
    "    df.loc['TOT', 'TOT'] = pop\n",
    "    # malati reali\n",
    "    df.loc['MAL', 'TOT'] = pop * I\n",
    "    # sani reali\n",
    "    df.loc['SAN', 'TOT'] = pop * (1 - I)\n",
    "    # veri positivi\n",
    "    df.loc['MAL', 'POS'] = pop * I * SE\n",
    "    # falsi negativi\n",
    "    df.loc['MAL', 'NEG'] = pop * I * (1 - SE)\n",
    "    # veri negativi\n",
    "    df.loc['SAN', 'NEG'] = pop * (1 - I) * SP\n",
    "    # falsi positivi\n",
    "    df.loc['SAN', 'POS'] = pop * (1 - I) * (1 - SP)\n",
    "    # positivi totali\n",
    "    df.loc['TOT', 'POS'] = df.loc['MAL', 'POS'] + df.loc['SAN', 'POS']\n",
    "    # negativi totali\n",
    "    df.loc['TOT', 'NEG'] = df.loc['MAL', 'NEG'] + df.loc['SAN', 'NEG']\n",
    "    # arrontondamento\n",
    "    df = np.round(df).astype(int)\n",
    "    return df"
   ]
  },
  {
   "cell_type": "code",
   "execution_count": 6,
   "metadata": {},
   "outputs": [],
   "source": [
    "_1_A = get_confusion_matrix(pop_1_A, I_1, SE_A, SP_A)\n",
    "_1_B = get_confusion_matrix(pop_1_B, I_1, SE_B, SP_B)\n",
    "_2_A = get_confusion_matrix(pop_2_A, I_2, SE_A, SP_A)\n",
    "_2_B = get_confusion_matrix(pop_2_B, I_2, SE_B, SP_B)"
   ]
  },
  {
   "cell_type": "markdown",
   "metadata": {},
   "source": [
    "Indicando con \n",
    "\n",
    "- `VP` i veri positivi (malati che risultano positivi al test)\n",
    "- `FN` i falsi negativi (malati che risultano negativi al test)\n",
    "- `VN` i veri negativi (sani che risultano negativi al test)\n",
    "- `FP` i falsi positivi (sani che risultano positivi al test)\n",
    "\n",
    "sappiamo dalla matrice di confusione che"
   ]
  },
  {
   "cell_type": "code",
   "execution_count": 81,
   "metadata": {},
   "outputs": [
    {
     "data": {
      "text/html": [
       "<div>\n",
       "<style scoped>\n",
       "    .dataframe tbody tr th:only-of-type {\n",
       "        vertical-align: middle;\n",
       "    }\n",
       "\n",
       "    .dataframe tbody tr th {\n",
       "        vertical-align: top;\n",
       "    }\n",
       "\n",
       "    .dataframe thead th {\n",
       "        text-align: right;\n",
       "    }\n",
       "</style>\n",
       "<table border=\"1\" class=\"dataframe\">\n",
       "  <thead>\n",
       "    <tr style=\"text-align: right;\">\n",
       "      <th></th>\n",
       "      <th>POS</th>\n",
       "      <th>NEG</th>\n",
       "    </tr>\n",
       "  </thead>\n",
       "  <tbody>\n",
       "    <tr>\n",
       "      <th>MAL</th>\n",
       "      <td>VP = MAL * SE</td>\n",
       "      <td>FN = MAL*(1-SE)</td>\n",
       "    </tr>\n",
       "    <tr>\n",
       "      <th>SAN</th>\n",
       "      <td>FP = SAN*(1-SP)</td>\n",
       "      <td>FN = SAN * SP</td>\n",
       "    </tr>\n",
       "  </tbody>\n",
       "</table>\n",
       "</div>"
      ],
      "text/plain": [
       "                 POS              NEG\n",
       "MAL    VP = MAL * SE  FN = MAL*(1-SE)\n",
       "SAN  FP = SAN*(1-SP)    FN = SAN * SP"
      ]
     },
     "execution_count": 81,
     "metadata": {},
     "output_type": "execute_result"
    }
   ],
   "source": [
    "pd.DataFrame({\n",
    "    'POS': ['VP = MAL * SE', 'FP = SAN*(1-SP)'],\n",
    "    'NEG': ['FN = MAL*(1-SE)', 'FN = SAN * SP'],\n",
    "}, index=['MAL', 'SAN'])"
   ]
  },
  {
   "cell_type": "markdown",
   "metadata": {},
   "source": [
    "Date **SE** ed **SP** dei due test `A` e `B`, l'incidenza reale nelle due province `prov1` e `prov2` e i campioni di popolazione testata con i due test, otteniamo i seguenti risultati dai test effettuati"
   ]
  },
  {
   "cell_type": "code",
   "execution_count": 7,
   "metadata": {},
   "outputs": [
    {
     "data": {
      "text/html": [
       "<style  type=\"text/css\" >\n",
       "</style><table id=\"T_c0701e86_6b81_11eb_b546_9cf387bb866c\" ><caption>test A nella provincia 1</caption><thead>    <tr>        <th class=\"blank level0\" ></th>        <th class=\"col_heading level0 col0\" >POS</th>        <th class=\"col_heading level0 col1\" >NEG</th>        <th class=\"col_heading level0 col2\" >TOT</th>    </tr></thead><tbody>\n",
       "                <tr>\n",
       "                        <th id=\"T_c0701e86_6b81_11eb_b546_9cf387bb866clevel0_row0\" class=\"row_heading level0 row0\" >MAL</th>\n",
       "                        <td id=\"T_c0701e86_6b81_11eb_b546_9cf387bb866crow0_col0\" class=\"data row0 col0\" >10</td>\n",
       "                        <td id=\"T_c0701e86_6b81_11eb_b546_9cf387bb866crow0_col1\" class=\"data row0 col1\" >1</td>\n",
       "                        <td id=\"T_c0701e86_6b81_11eb_b546_9cf387bb866crow0_col2\" class=\"data row0 col2\" >10</td>\n",
       "            </tr>\n",
       "            <tr>\n",
       "                        <th id=\"T_c0701e86_6b81_11eb_b546_9cf387bb866clevel0_row1\" class=\"row_heading level0 row1\" >SAN</th>\n",
       "                        <td id=\"T_c0701e86_6b81_11eb_b546_9cf387bb866crow1_col0\" class=\"data row1 col0\" >2</td>\n",
       "                        <td id=\"T_c0701e86_6b81_11eb_b546_9cf387bb866crow1_col1\" class=\"data row1 col1\" >188</td>\n",
       "                        <td id=\"T_c0701e86_6b81_11eb_b546_9cf387bb866crow1_col2\" class=\"data row1 col2\" >190</td>\n",
       "            </tr>\n",
       "            <tr>\n",
       "                        <th id=\"T_c0701e86_6b81_11eb_b546_9cf387bb866clevel0_row2\" class=\"row_heading level0 row2\" >TOT</th>\n",
       "                        <td id=\"T_c0701e86_6b81_11eb_b546_9cf387bb866crow2_col0\" class=\"data row2 col0\" >11</td>\n",
       "                        <td id=\"T_c0701e86_6b81_11eb_b546_9cf387bb866crow2_col1\" class=\"data row2 col1\" >189</td>\n",
       "                        <td id=\"T_c0701e86_6b81_11eb_b546_9cf387bb866crow2_col2\" class=\"data row2 col2\" >200</td>\n",
       "            </tr>\n",
       "    </tbody></table>"
      ],
      "text/plain": [
       "<pandas.io.formats.style.Styler at 0x7fe681d20a00>"
      ]
     },
     "execution_count": 7,
     "metadata": {},
     "output_type": "execute_result"
    }
   ],
   "source": [
    "#Latex(_1_A.to_latex(\n",
    "#    caption=\"test A nella provincia 1\"\n",
    "#))\n",
    "_1_A.style.set_caption(\"test A nella provincia 1\")"
   ]
  },
  {
   "cell_type": "code",
   "execution_count": 8,
   "metadata": {},
   "outputs": [
    {
     "data": {
      "text/html": [
       "<style  type=\"text/css\" >\n",
       "</style><table id=\"T_c073cd38_6b81_11eb_b546_9cf387bb866c\" ><caption>test B nella provincia 1</caption><thead>    <tr>        <th class=\"blank level0\" ></th>        <th class=\"col_heading level0 col0\" >POS</th>        <th class=\"col_heading level0 col1\" >NEG</th>        <th class=\"col_heading level0 col2\" >TOT</th>    </tr></thead><tbody>\n",
       "                <tr>\n",
       "                        <th id=\"T_c073cd38_6b81_11eb_b546_9cf387bb866clevel0_row0\" class=\"row_heading level0 row0\" >MAL</th>\n",
       "                        <td id=\"T_c073cd38_6b81_11eb_b546_9cf387bb866crow0_col0\" class=\"data row0 col0\" >130</td>\n",
       "                        <td id=\"T_c073cd38_6b81_11eb_b546_9cf387bb866crow0_col1\" class=\"data row0 col1\" >23</td>\n",
       "                        <td id=\"T_c073cd38_6b81_11eb_b546_9cf387bb866crow0_col2\" class=\"data row0 col2\" >153</td>\n",
       "            </tr>\n",
       "            <tr>\n",
       "                        <th id=\"T_c073cd38_6b81_11eb_b546_9cf387bb866clevel0_row1\" class=\"row_heading level0 row1\" >SAN</th>\n",
       "                        <td id=\"T_c073cd38_6b81_11eb_b546_9cf387bb866crow1_col0\" class=\"data row1 col0\" >142</td>\n",
       "                        <td id=\"T_c073cd38_6b81_11eb_b546_9cf387bb866crow1_col1\" class=\"data row1 col1\" >2705</td>\n",
       "                        <td id=\"T_c073cd38_6b81_11eb_b546_9cf387bb866crow1_col2\" class=\"data row1 col2\" >2847</td>\n",
       "            </tr>\n",
       "            <tr>\n",
       "                        <th id=\"T_c073cd38_6b81_11eb_b546_9cf387bb866clevel0_row2\" class=\"row_heading level0 row2\" >TOT</th>\n",
       "                        <td id=\"T_c073cd38_6b81_11eb_b546_9cf387bb866crow2_col0\" class=\"data row2 col0\" >272</td>\n",
       "                        <td id=\"T_c073cd38_6b81_11eb_b546_9cf387bb866crow2_col1\" class=\"data row2 col1\" >2728</td>\n",
       "                        <td id=\"T_c073cd38_6b81_11eb_b546_9cf387bb866crow2_col2\" class=\"data row2 col2\" >3000</td>\n",
       "            </tr>\n",
       "    </tbody></table>"
      ],
      "text/plain": [
       "<pandas.io.formats.style.Styler at 0x7fe681d209d0>"
      ]
     },
     "execution_count": 8,
     "metadata": {},
     "output_type": "execute_result"
    }
   ],
   "source": [
    "#Latex(_1_B.to_latex(\n",
    "#    caption=\"test B nella provincia 1\"\n",
    "#))\n",
    "_1_B.style.set_caption(\"test B nella provincia 1\")"
   ]
  },
  {
   "cell_type": "code",
   "execution_count": 9,
   "metadata": {},
   "outputs": [
    {
     "data": {
      "text/html": [
       "<style  type=\"text/css\" >\n",
       "</style><table id=\"T_c076c6dc_6b81_11eb_b546_9cf387bb866c\" ><caption>test A nella provincia 2</caption><thead>    <tr>        <th class=\"blank level0\" ></th>        <th class=\"col_heading level0 col0\" >POS</th>        <th class=\"col_heading level0 col1\" >NEG</th>        <th class=\"col_heading level0 col2\" >TOT</th>    </tr></thead><tbody>\n",
       "                <tr>\n",
       "                        <th id=\"T_c076c6dc_6b81_11eb_b546_9cf387bb866clevel0_row0\" class=\"row_heading level0 row0\" >MAL</th>\n",
       "                        <td id=\"T_c076c6dc_6b81_11eb_b546_9cf387bb866crow0_col0\" class=\"data row0 col0\" >100</td>\n",
       "                        <td id=\"T_c076c6dc_6b81_11eb_b546_9cf387bb866crow0_col1\" class=\"data row0 col1\" >6</td>\n",
       "                        <td id=\"T_c076c6dc_6b81_11eb_b546_9cf387bb866crow0_col2\" class=\"data row0 col2\" >106</td>\n",
       "            </tr>\n",
       "            <tr>\n",
       "                        <th id=\"T_c076c6dc_6b81_11eb_b546_9cf387bb866clevel0_row1\" class=\"row_heading level0 row1\" >SAN</th>\n",
       "                        <td id=\"T_c076c6dc_6b81_11eb_b546_9cf387bb866crow1_col0\" class=\"data row1 col0\" >19</td>\n",
       "                        <td id=\"T_c076c6dc_6b81_11eb_b546_9cf387bb866crow1_col1\" class=\"data row1 col1\" >1875</td>\n",
       "                        <td id=\"T_c076c6dc_6b81_11eb_b546_9cf387bb866crow1_col2\" class=\"data row1 col2\" >1894</td>\n",
       "            </tr>\n",
       "            <tr>\n",
       "                        <th id=\"T_c076c6dc_6b81_11eb_b546_9cf387bb866clevel0_row2\" class=\"row_heading level0 row2\" >TOT</th>\n",
       "                        <td id=\"T_c076c6dc_6b81_11eb_b546_9cf387bb866crow2_col0\" class=\"data row2 col0\" >119</td>\n",
       "                        <td id=\"T_c076c6dc_6b81_11eb_b546_9cf387bb866crow2_col1\" class=\"data row2 col1\" >1881</td>\n",
       "                        <td id=\"T_c076c6dc_6b81_11eb_b546_9cf387bb866crow2_col2\" class=\"data row2 col2\" >2000</td>\n",
       "            </tr>\n",
       "    </tbody></table>"
      ],
      "text/plain": [
       "<pandas.io.formats.style.Styler at 0x7fe681b378e0>"
      ]
     },
     "execution_count": 9,
     "metadata": {},
     "output_type": "execute_result"
    }
   ],
   "source": [
    "#Latex(_2_A.to_latex(\n",
    "#    caption=\"test A nella provincia 2\"\n",
    "#))\n",
    "_2_A.style.set_caption(\"test A nella provincia 2\")"
   ]
  },
  {
   "cell_type": "code",
   "execution_count": 10,
   "metadata": {},
   "outputs": [
    {
     "data": {
      "text/html": [
       "<style  type=\"text/css\" >\n",
       "</style><table id=\"T_c079c094_6b81_11eb_b546_9cf387bb866c\" ><caption>test B nella provincia 2</caption><thead>    <tr>        <th class=\"blank level0\" ></th>        <th class=\"col_heading level0 col0\" >POS</th>        <th class=\"col_heading level0 col1\" >NEG</th>        <th class=\"col_heading level0 col2\" >TOT</th>    </tr></thead><tbody>\n",
       "                <tr>\n",
       "                        <th id=\"T_c079c094_6b81_11eb_b546_9cf387bb866clevel0_row0\" class=\"row_heading level0 row0\" >MAL</th>\n",
       "                        <td id=\"T_c079c094_6b81_11eb_b546_9cf387bb866crow0_col0\" class=\"data row0 col0\" >14</td>\n",
       "                        <td id=\"T_c079c094_6b81_11eb_b546_9cf387bb866crow0_col1\" class=\"data row0 col1\" >2</td>\n",
       "                        <td id=\"T_c079c094_6b81_11eb_b546_9cf387bb866crow0_col2\" class=\"data row0 col2\" >16</td>\n",
       "            </tr>\n",
       "            <tr>\n",
       "                        <th id=\"T_c079c094_6b81_11eb_b546_9cf387bb866clevel0_row1\" class=\"row_heading level0 row1\" >SAN</th>\n",
       "                        <td id=\"T_c079c094_6b81_11eb_b546_9cf387bb866crow1_col0\" class=\"data row1 col0\" >14</td>\n",
       "                        <td id=\"T_c079c094_6b81_11eb_b546_9cf387bb866crow1_col1\" class=\"data row1 col1\" >270</td>\n",
       "                        <td id=\"T_c079c094_6b81_11eb_b546_9cf387bb866crow1_col2\" class=\"data row1 col2\" >284</td>\n",
       "            </tr>\n",
       "            <tr>\n",
       "                        <th id=\"T_c079c094_6b81_11eb_b546_9cf387bb866clevel0_row2\" class=\"row_heading level0 row2\" >TOT</th>\n",
       "                        <td id=\"T_c079c094_6b81_11eb_b546_9cf387bb866crow2_col0\" class=\"data row2 col0\" >28</td>\n",
       "                        <td id=\"T_c079c094_6b81_11eb_b546_9cf387bb866crow2_col1\" class=\"data row2 col1\" >272</td>\n",
       "                        <td id=\"T_c079c094_6b81_11eb_b546_9cf387bb866crow2_col2\" class=\"data row2 col2\" >300</td>\n",
       "            </tr>\n",
       "    </tbody></table>"
      ],
      "text/plain": [
       "<pandas.io.formats.style.Styler at 0x7fe681ddb670>"
      ]
     },
     "execution_count": 10,
     "metadata": {},
     "output_type": "execute_result"
    }
   ],
   "source": [
    "#Latex(_2_B.to_latex(\n",
    "#    caption=\"test B nella provincia 2\"\n",
    "#))\n",
    "_2_B.style.set_caption(\"test B nella provincia 2\")"
   ]
  },
  {
   "cell_type": "code",
   "execution_count": 11,
   "metadata": {},
   "outputs": [],
   "source": [
    "prov1_obs = pd.DataFrame({\n",
    "    'POS': [_1_A.POS.TOT, _1_B.POS.TOT],\n",
    "    'NEG': [_1_A.NEG.TOT, _1_B.NEG.TOT],\n",
    "}, index=['A', 'B'])\n",
    "\n",
    "prov1_obs['TOT'] = prov1_obs.sum(axis=1)\n",
    "\n",
    "prov1_sum = prov1_obs.sum(axis=0)\n",
    "prov1_sum.name = 'TOT'\n",
    "prov1_obs = prov1_obs.append(prov1_sum)\n",
    "\n",
    "prov1_obs['TP'] = prov1_obs.POS / prov1_obs.TOT\n",
    "\n",
    "prov1_obs.loc['A', 'pct'] = prov1_obs.TOT.A / prov1_obs.TOT.TOT\n",
    "prov1_obs.loc['B', 'pct'] = prov1_obs.TOT.B / prov1_obs.TOT.TOT\n",
    "prov1_obs.loc['TOT', 'pct'] = 1"
   ]
  },
  {
   "cell_type": "code",
   "execution_count": 12,
   "metadata": {},
   "outputs": [],
   "source": [
    "prov2_obs = pd.DataFrame({\n",
    "    'POS': [_2_A.POS.TOT, _2_B.POS.TOT],\n",
    "    'NEG': [_2_A.NEG.TOT, _2_B.NEG.TOT],\n",
    "}, index=['A', 'B'])\n",
    "\n",
    "prov2_obs['TOT'] = prov2_obs.sum(axis=1)\n",
    "\n",
    "prov1_sum = prov2_obs.sum(axis=0)\n",
    "prov1_sum.name = 'TOT'\n",
    "prov2_obs = prov2_obs.append(prov1_sum)\n",
    "\n",
    "prov2_obs['TP'] = prov2_obs.POS / prov2_obs.TOT\n",
    "\n",
    "prov2_obs.loc['A', 'pct'] = prov2_obs.TOT.A / prov2_obs.TOT.TOT\n",
    "prov2_obs.loc['B', 'pct'] = prov2_obs.TOT.B / prov2_obs.TOT.TOT\n",
    "prov2_obs.loc['TOT', 'pct'] = 1"
   ]
  },
  {
   "cell_type": "code",
   "execution_count": 13,
   "metadata": {},
   "outputs": [],
   "source": [
    "def highlight_cols(x):\n",
    "    #copy df to new - original data are not changed\n",
    "    df = x.copy()\n",
    "    #select all values to default value\n",
    "    df.loc[:,:] = 'background-color: inherit; color: inherit'\n",
    "    #overwrite values\n",
    "    df[['POS']] = 'background-color: red; color: white'\n",
    "    df[['NEG']] = 'background-color: green; color: white'\n",
    "\n",
    "    #return color df\n",
    "    return df    "
   ]
  },
  {
   "cell_type": "code",
   "execution_count": 14,
   "metadata": {},
   "outputs": [
    {
     "data": {
      "text/markdown": [
       "\n",
       "Complessivamente dunque sappiamo che\n",
       "\n",
       "- nella provincia `prov1` sono stati\n",
       "osservati 283 positivi su\n",
       "3200 casi testati (tasso positività 8.84%)\n",
       "- nella provincia `prov2` sono stati\n",
       "osservati 147 positivi su\n",
       "2300 casi testati (tasso positività 6.39%)\n"
      ],
      "text/plain": [
       "<IPython.core.display.Markdown object>"
      ]
     },
     "execution_count": 14,
     "metadata": {},
     "output_type": "execute_result"
    }
   ],
   "source": [
    "Markdown(f\"\"\"\n",
    "Complessivamente dunque sappiamo che\n",
    "\n",
    "- nella provincia `prov1` sono stati\n",
    "osservati {prov1_obs.POS.TOT} positivi su\n",
    "{prov1_obs.TOT.TOT} casi testati (tasso positività {prov1_obs.TP.TOT:.2%})\n",
    "- nella provincia `prov2` sono stati\n",
    "osservati {prov2_obs.POS.TOT} positivi su\n",
    "{prov2_obs.TOT.TOT} casi testati (tasso positività {prov2_obs.TP.TOT:.2%})\n",
    "\"\"\")"
   ]
  },
  {
   "cell_type": "markdown",
   "metadata": {},
   "source": [
    "A prima vista, i risultati sembrerebbero significativamente differenti ma, sapendo che sono stati usati i due test in diversa percentuale, ci chiediamo, noti i dati di \n",
    "\n",
    "- test positivi\n",
    "- test totali\n",
    "\n",
    "nelle due province e con i due test, se la differenza di positivi osservata sia davvero statisticamente significativa oppure dovuta \"al caso\". \n",
    "\n",
    "Sappiamo che in realtà le due province hanno incidenza simile, ma poniamo di non conoscere la reale incidenza, come accade nella pratica: conosciamo solamente i risultati dei test."
   ]
  },
  {
   "cell_type": "markdown",
   "metadata": {},
   "source": [
    "***\n",
    "\n",
    "Prima di tutto, osserviamo i dati completi raccolti."
   ]
  },
  {
   "cell_type": "markdown",
   "metadata": {},
   "source": [
    "Per la provincia `prov1` sappiamo che:"
   ]
  },
  {
   "cell_type": "code",
   "execution_count": 15,
   "metadata": {},
   "outputs": [
    {
     "data": {
      "text/html": [
       "<style  type=\"text/css\" >\n",
       "#T_c08fb35e_6b81_11eb_b546_9cf387bb866crow0_col0,#T_c08fb35e_6b81_11eb_b546_9cf387bb866crow1_col0,#T_c08fb35e_6b81_11eb_b546_9cf387bb866crow2_col0{\n",
       "            background-color:  red;\n",
       "             color:  white;\n",
       "        }#T_c08fb35e_6b81_11eb_b546_9cf387bb866crow0_col1,#T_c08fb35e_6b81_11eb_b546_9cf387bb866crow1_col1,#T_c08fb35e_6b81_11eb_b546_9cf387bb866crow2_col1{\n",
       "            background-color:  green;\n",
       "             color:  white;\n",
       "        }#T_c08fb35e_6b81_11eb_b546_9cf387bb866crow0_col2,#T_c08fb35e_6b81_11eb_b546_9cf387bb866crow0_col3,#T_c08fb35e_6b81_11eb_b546_9cf387bb866crow0_col4,#T_c08fb35e_6b81_11eb_b546_9cf387bb866crow1_col2,#T_c08fb35e_6b81_11eb_b546_9cf387bb866crow1_col3,#T_c08fb35e_6b81_11eb_b546_9cf387bb866crow1_col4,#T_c08fb35e_6b81_11eb_b546_9cf387bb866crow2_col2,#T_c08fb35e_6b81_11eb_b546_9cf387bb866crow2_col3,#T_c08fb35e_6b81_11eb_b546_9cf387bb866crow2_col4{\n",
       "            background-color:  inherit;\n",
       "             color:  inherit;\n",
       "        }</style><table id=\"T_c08fb35e_6b81_11eb_b546_9cf387bb866c\" ><caption>dati noti nella provincia 1</caption><thead>    <tr>        <th class=\"blank level0\" ></th>        <th class=\"col_heading level0 col0\" >POS</th>        <th class=\"col_heading level0 col1\" >NEG</th>        <th class=\"col_heading level0 col2\" >TOT</th>        <th class=\"col_heading level0 col3\" >TP</th>        <th class=\"col_heading level0 col4\" >pct</th>    </tr></thead><tbody>\n",
       "                <tr>\n",
       "                        <th id=\"T_c08fb35e_6b81_11eb_b546_9cf387bb866clevel0_row0\" class=\"row_heading level0 row0\" >A</th>\n",
       "                        <td id=\"T_c08fb35e_6b81_11eb_b546_9cf387bb866crow0_col0\" class=\"data row0 col0\" >11</td>\n",
       "                        <td id=\"T_c08fb35e_6b81_11eb_b546_9cf387bb866crow0_col1\" class=\"data row0 col1\" >189</td>\n",
       "                        <td id=\"T_c08fb35e_6b81_11eb_b546_9cf387bb866crow0_col2\" class=\"data row0 col2\" >200</td>\n",
       "                        <td id=\"T_c08fb35e_6b81_11eb_b546_9cf387bb866crow0_col3\" class=\"data row0 col3\" >5.50%</td>\n",
       "                        <td id=\"T_c08fb35e_6b81_11eb_b546_9cf387bb866crow0_col4\" class=\"data row0 col4\" >6.25%</td>\n",
       "            </tr>\n",
       "            <tr>\n",
       "                        <th id=\"T_c08fb35e_6b81_11eb_b546_9cf387bb866clevel0_row1\" class=\"row_heading level0 row1\" >B</th>\n",
       "                        <td id=\"T_c08fb35e_6b81_11eb_b546_9cf387bb866crow1_col0\" class=\"data row1 col0\" >272</td>\n",
       "                        <td id=\"T_c08fb35e_6b81_11eb_b546_9cf387bb866crow1_col1\" class=\"data row1 col1\" >2728</td>\n",
       "                        <td id=\"T_c08fb35e_6b81_11eb_b546_9cf387bb866crow1_col2\" class=\"data row1 col2\" >3000</td>\n",
       "                        <td id=\"T_c08fb35e_6b81_11eb_b546_9cf387bb866crow1_col3\" class=\"data row1 col3\" >9.07%</td>\n",
       "                        <td id=\"T_c08fb35e_6b81_11eb_b546_9cf387bb866crow1_col4\" class=\"data row1 col4\" >93.75%</td>\n",
       "            </tr>\n",
       "            <tr>\n",
       "                        <th id=\"T_c08fb35e_6b81_11eb_b546_9cf387bb866clevel0_row2\" class=\"row_heading level0 row2\" >TOT</th>\n",
       "                        <td id=\"T_c08fb35e_6b81_11eb_b546_9cf387bb866crow2_col0\" class=\"data row2 col0\" >283</td>\n",
       "                        <td id=\"T_c08fb35e_6b81_11eb_b546_9cf387bb866crow2_col1\" class=\"data row2 col1\" >2917</td>\n",
       "                        <td id=\"T_c08fb35e_6b81_11eb_b546_9cf387bb866crow2_col2\" class=\"data row2 col2\" >3200</td>\n",
       "                        <td id=\"T_c08fb35e_6b81_11eb_b546_9cf387bb866crow2_col3\" class=\"data row2 col3\" >8.84%</td>\n",
       "                        <td id=\"T_c08fb35e_6b81_11eb_b546_9cf387bb866crow2_col4\" class=\"data row2 col4\" >100.00%</td>\n",
       "            </tr>\n",
       "    </tbody></table>"
      ],
      "text/plain": [
       "<pandas.io.formats.style.Styler at 0x7fe681ddbd90>"
      ]
     },
     "execution_count": 15,
     "metadata": {},
     "output_type": "execute_result"
    }
   ],
   "source": [
    "prov1_obs.style.apply(highlight_cols, axis=None).format({'TP': \"{:.2%}\", 'pct': \"{:.2%}\"}).set_caption(\n",
    "    \"dati noti nella provincia 1\"\n",
    ")"
   ]
  },
  {
   "cell_type": "code",
   "execution_count": 16,
   "metadata": {},
   "outputs": [],
   "source": [
    "#Latex(prov1_obs.to_latex(\n",
    "#    formatters={'TP': \"{:.2%}\".format, 'pct': \"{:.2%}\".format},\n",
    "#    caption=\"dati osservati nella provincia 1\"\n",
    "#))"
   ]
  },
  {
   "cell_type": "code",
   "execution_count": 17,
   "metadata": {},
   "outputs": [
    {
     "data": {
      "text/markdown": [
       "\n",
       "Notiamo quindi che, su un totale di 3200\n",
       "test, sono stati effettuati:\n",
       "\n",
       "- 200 test di tipo `A` (6.25%)\n",
       "- 3000 test di tipo `B` (93.75%)\n",
       "\n",
       "i quali hanno riportato\n",
       "\n",
       "- 11 positivi con test tipo `A` (tasso positività 5.50%)\n",
       "- 272 positivi con test tipo `B` (tasso positività 9.07%)\n",
       "\n",
       "Complessivamente osserviamo\n",
       "283 positivi\n",
       "su 3200 casi testati\n",
       "(tasso positività 8.84%).\n"
      ],
      "text/plain": [
       "<IPython.core.display.Markdown object>"
      ]
     },
     "execution_count": 17,
     "metadata": {},
     "output_type": "execute_result"
    }
   ],
   "source": [
    "Markdown(f\"\"\"\n",
    "Notiamo quindi che, su un totale di {prov1_obs.TOT.TOT}\n",
    "test, sono stati effettuati:\n",
    "\n",
    "- {prov1_obs.TOT.A} test di tipo `A` ({prov1_obs.pct.A:.2%})\n",
    "- {prov1_obs.TOT.B} test di tipo `B` ({prov1_obs.pct.B:.2%})\n",
    "\n",
    "i quali hanno riportato\n",
    "\n",
    "- {prov1_obs.POS.A} positivi con test tipo `A` (tasso positività {prov1_obs.TP.A:.2%})\n",
    "- {prov1_obs.POS.B} positivi con test tipo `B` (tasso positività {prov1_obs.TP.B:.2%})\n",
    "\n",
    "Complessivamente osserviamo\n",
    "{prov1_obs.POS.TOT} positivi\n",
    "su {prov1_obs.TOT.TOT} casi testati\n",
    "(tasso positività {prov1_obs.TP.TOT:.2%}).\n",
    "\"\"\")"
   ]
  },
  {
   "cell_type": "code",
   "execution_count": 18,
   "metadata": {},
   "outputs": [
    {
     "data": {
      "image/png": "[encoded data removed]",
      "text/plain": [
       "<Figure size 864x288 with 2 Axes>"
      ]
     },
     "metadata": {},
     "output_type": "display_data"
    }
   ],
   "source": [
    "fig, ax = plt.subplots(1, 2, figsize=(12, 4))\n",
    "\n",
    "prov1_obs[['NEG', 'POS']].plot(kind='bar', stacked=True, ec='k', ax=ax[0])\n",
    "ax[0].set(\n",
    "    ylabel='casi testati',\n",
    "    xlabel='tipo di test'\n",
    ")\n",
    "\n",
    "prov1_obs[['TP']].plot(kind='bar', ec='k', ax=ax[1])\n",
    "ax[1].set(\n",
    "    ylabel='tasso positività',\n",
    "    xlabel='tipo di test'\n",
    ")\n",
    "ax[1].yaxis.set_major_formatter(mtick.PercentFormatter(1, 0))\n",
    "fig.suptitle('Dati osservati nella provincia prov1', fontsize=20)\n",
    "plt.show()"
   ]
  },
  {
   "cell_type": "markdown",
   "metadata": {},
   "source": [
    "Per la provincia `prov2` abbiamo invece:"
   ]
  },
  {
   "cell_type": "code",
   "execution_count": 19,
   "metadata": {},
   "outputs": [
    {
     "data": {
      "text/html": [
       "<style  type=\"text/css\" >\n",
       "#T_c0f9a066_6b81_11eb_b546_9cf387bb866crow0_col0,#T_c0f9a066_6b81_11eb_b546_9cf387bb866crow1_col0,#T_c0f9a066_6b81_11eb_b546_9cf387bb866crow2_col0{\n",
       "            background-color:  red;\n",
       "             color:  white;\n",
       "        }#T_c0f9a066_6b81_11eb_b546_9cf387bb866crow0_col1,#T_c0f9a066_6b81_11eb_b546_9cf387bb866crow1_col1,#T_c0f9a066_6b81_11eb_b546_9cf387bb866crow2_col1{\n",
       "            background-color:  green;\n",
       "             color:  white;\n",
       "        }#T_c0f9a066_6b81_11eb_b546_9cf387bb866crow0_col2,#T_c0f9a066_6b81_11eb_b546_9cf387bb866crow0_col3,#T_c0f9a066_6b81_11eb_b546_9cf387bb866crow0_col4,#T_c0f9a066_6b81_11eb_b546_9cf387bb866crow1_col2,#T_c0f9a066_6b81_11eb_b546_9cf387bb866crow1_col3,#T_c0f9a066_6b81_11eb_b546_9cf387bb866crow1_col4,#T_c0f9a066_6b81_11eb_b546_9cf387bb866crow2_col2,#T_c0f9a066_6b81_11eb_b546_9cf387bb866crow2_col3,#T_c0f9a066_6b81_11eb_b546_9cf387bb866crow2_col4{\n",
       "            background-color:  inherit;\n",
       "             color:  inherit;\n",
       "        }</style><table id=\"T_c0f9a066_6b81_11eb_b546_9cf387bb866c\" ><caption>dati noti nella provincia 2</caption><thead>    <tr>        <th class=\"blank level0\" ></th>        <th class=\"col_heading level0 col0\" >POS</th>        <th class=\"col_heading level0 col1\" >NEG</th>        <th class=\"col_heading level0 col2\" >TOT</th>        <th class=\"col_heading level0 col3\" >TP</th>        <th class=\"col_heading level0 col4\" >pct</th>    </tr></thead><tbody>\n",
       "                <tr>\n",
       "                        <th id=\"T_c0f9a066_6b81_11eb_b546_9cf387bb866clevel0_row0\" class=\"row_heading level0 row0\" >A</th>\n",
       "                        <td id=\"T_c0f9a066_6b81_11eb_b546_9cf387bb866crow0_col0\" class=\"data row0 col0\" >119</td>\n",
       "                        <td id=\"T_c0f9a066_6b81_11eb_b546_9cf387bb866crow0_col1\" class=\"data row0 col1\" >1881</td>\n",
       "                        <td id=\"T_c0f9a066_6b81_11eb_b546_9cf387bb866crow0_col2\" class=\"data row0 col2\" >2000</td>\n",
       "                        <td id=\"T_c0f9a066_6b81_11eb_b546_9cf387bb866crow0_col3\" class=\"data row0 col3\" >5.95%</td>\n",
       "                        <td id=\"T_c0f9a066_6b81_11eb_b546_9cf387bb866crow0_col4\" class=\"data row0 col4\" >86.96%</td>\n",
       "            </tr>\n",
       "            <tr>\n",
       "                        <th id=\"T_c0f9a066_6b81_11eb_b546_9cf387bb866clevel0_row1\" class=\"row_heading level0 row1\" >B</th>\n",
       "                        <td id=\"T_c0f9a066_6b81_11eb_b546_9cf387bb866crow1_col0\" class=\"data row1 col0\" >28</td>\n",
       "                        <td id=\"T_c0f9a066_6b81_11eb_b546_9cf387bb866crow1_col1\" class=\"data row1 col1\" >272</td>\n",
       "                        <td id=\"T_c0f9a066_6b81_11eb_b546_9cf387bb866crow1_col2\" class=\"data row1 col2\" >300</td>\n",
       "                        <td id=\"T_c0f9a066_6b81_11eb_b546_9cf387bb866crow1_col3\" class=\"data row1 col3\" >9.33%</td>\n",
       "                        <td id=\"T_c0f9a066_6b81_11eb_b546_9cf387bb866crow1_col4\" class=\"data row1 col4\" >13.04%</td>\n",
       "            </tr>\n",
       "            <tr>\n",
       "                        <th id=\"T_c0f9a066_6b81_11eb_b546_9cf387bb866clevel0_row2\" class=\"row_heading level0 row2\" >TOT</th>\n",
       "                        <td id=\"T_c0f9a066_6b81_11eb_b546_9cf387bb866crow2_col0\" class=\"data row2 col0\" >147</td>\n",
       "                        <td id=\"T_c0f9a066_6b81_11eb_b546_9cf387bb866crow2_col1\" class=\"data row2 col1\" >2153</td>\n",
       "                        <td id=\"T_c0f9a066_6b81_11eb_b546_9cf387bb866crow2_col2\" class=\"data row2 col2\" >2300</td>\n",
       "                        <td id=\"T_c0f9a066_6b81_11eb_b546_9cf387bb866crow2_col3\" class=\"data row2 col3\" >6.39%</td>\n",
       "                        <td id=\"T_c0f9a066_6b81_11eb_b546_9cf387bb866crow2_col4\" class=\"data row2 col4\" >100.00%</td>\n",
       "            </tr>\n",
       "    </tbody></table>"
      ],
      "text/plain": [
       "<pandas.io.formats.style.Styler at 0x7fe6820cf3d0>"
      ]
     },
     "execution_count": 19,
     "metadata": {},
     "output_type": "execute_result"
    }
   ],
   "source": [
    "prov2_obs.style.apply(highlight_cols, axis=None).format({'TP': \"{:.2%}\", 'pct': \"{:.2%}\"}).set_caption(\n",
    "    \"dati noti nella provincia 2\"\n",
    ")"
   ]
  },
  {
   "cell_type": "code",
   "execution_count": 20,
   "metadata": {},
   "outputs": [],
   "source": [
    "#Latex(prov2_obs.to_latex(\n",
    "#    formatters={'TP': \"{:.2%}\".format, 'pct': \"{:.2%}\".format},\n",
    "#    caption=\"dati osservati nella provincia 2\"\n",
    "#))"
   ]
  },
  {
   "cell_type": "code",
   "execution_count": 21,
   "metadata": {},
   "outputs": [
    {
     "data": {
      "text/markdown": [
       "\n",
       "Dunque, su un totale di 2300\n",
       "test, sono stati effettuati:\n",
       "\n",
       "- 2000 test di tipo `A` (86.96%)\n",
       "- 300 test di tipo `B` (13.04%)\n",
       "\n",
       "i quali hanno riportato\n",
       "\n",
       "- 119 positivi con test tipo `A` (tasso positività 5.95%)\n",
       "- 28 positivi con test tipo `B` (tasso positività 9.33%)\n",
       "\n",
       "Complessivamente osserviamo\n",
       "147 positivi\n",
       "su 2300 casi testati\n",
       "(tasso positività 6.39%).\n"
      ],
      "text/plain": [
       "<IPython.core.display.Markdown object>"
      ]
     },
     "execution_count": 21,
     "metadata": {},
     "output_type": "execute_result"
    }
   ],
   "source": [
    "Markdown(f\"\"\"\n",
    "Dunque, su un totale di {prov2_obs.TOT.TOT}\n",
    "test, sono stati effettuati:\n",
    "\n",
    "- {prov2_obs.TOT.A} test di tipo `A` ({prov2_obs.pct.A:.2%})\n",
    "- {prov2_obs.TOT.B} test di tipo `B` ({prov2_obs.pct.B:.2%})\n",
    "\n",
    "i quali hanno riportato\n",
    "\n",
    "- {prov2_obs.POS.A} positivi con test tipo `A` (tasso positività {prov2_obs.TP.A:.2%})\n",
    "- {prov2_obs.POS.B} positivi con test tipo `B` (tasso positività {prov2_obs.TP.B:.2%})\n",
    "\n",
    "Complessivamente osserviamo\n",
    "{prov2_obs.POS.TOT} positivi\n",
    "su {prov2_obs.TOT.TOT} casi testati\n",
    "(tasso positività {prov2_obs.TP.TOT:.2%}).\n",
    "\"\"\")"
   ]
  },
  {
   "cell_type": "code",
   "execution_count": 22,
   "metadata": {},
   "outputs": [
    {
     "data": {
      "image/png": "[encoded data removed]",
      "text/plain": [
       "<Figure size 864x288 with 2 Axes>"
      ]
     },
     "metadata": {},
     "output_type": "display_data"
    }
   ],
   "source": [
    "fig, ax = plt.subplots(1, 2, figsize=(12, 4))\n",
    "\n",
    "prov2_obs[['NEG', 'POS']].plot(kind='bar', stacked=True, ec='k', ax=ax[0])\n",
    "ax[0].set(\n",
    "    ylabel='casi testati',\n",
    "    xlabel='tipo di test'\n",
    ")\n",
    "\n",
    "prov2_obs[['TP']].plot(kind='bar', ec='k', ax=ax[1])\n",
    "ax[1].set(\n",
    "    ylabel='tasso positività',\n",
    "    xlabel='tipo di test'\n",
    ")\n",
    "ax[1].yaxis.set_major_formatter(mtick.PercentFormatter(1, 0))\n",
    "fig.suptitle('Dati osservati nella provincia prov2', fontsize=20)\n",
    "plt.show()"
   ]
  },
  {
   "cell_type": "markdown",
   "metadata": {},
   "source": [
    "***\n",
    "\n",
    "Osserviamo prima cosa accadrebbe se fossimo a conoscenza solamente dei positivi totali e dei casi testati totali per provincia, ignorando quindi la differenza tra i test tipo `A` e tipo `B`.\n",
    "\n",
    "Verificheremo la seguente ipotesi nulla\n",
    "\n",
    "> $H_0$: ipotizzando che le due province abbiano il medesimo tasso di positività, i positivi osservati nelle due province **NON** sono significativamente differenti\n",
    "\n",
    "Pertanto, se otterremo dal test un $p$-value inferiore ad una determinata soglia di probabilità $\\alpha$ (10%, 5% o 1%) potremo affermare che sono statisticamente differenti con significatività $\\alpha$, altrimenti dovremo accettare l'ipotesi nulla $H_0$ che, alle condizioni specificate, la differenza osservata non è significativa."
   ]
  },
  {
   "cell_type": "code",
   "execution_count": 23,
   "metadata": {},
   "outputs": [],
   "source": [
    "prov12a_obs = pd.DataFrame({\n",
    "    'POS': [prov1_obs.POS.TOT, prov2_obs.POS.TOT],\n",
    "    'NEG': [prov1_obs.NEG.TOT, prov2_obs.NEG.TOT],\n",
    "    'TOT': [prov1_obs.TOT.TOT, prov2_obs.TOT.TOT]\n",
    "}, index=['prov1', 'prov2'])\n",
    "\n",
    "prov12a_sum = prov12a_obs.sum(axis=0)\n",
    "prov12a_sum.name = 'TOT'\n",
    "prov12a_obs = prov12a_obs.append(prov12a_sum)\n",
    "prov12a_obs['TP'] = prov12a_obs.POS / prov12a_obs.TOT"
   ]
  },
  {
   "cell_type": "markdown",
   "metadata": {},
   "source": [
    "Raccogliamo i dati complessivi delle due province:"
   ]
  },
  {
   "cell_type": "code",
   "execution_count": 24,
   "metadata": {},
   "outputs": [
    {
     "data": {
      "text/html": [
       "<style  type=\"text/css\" >\n",
       "#T_c16fdf56_6b81_11eb_b546_9cf387bb866crow0_col0,#T_c16fdf56_6b81_11eb_b546_9cf387bb866crow1_col0,#T_c16fdf56_6b81_11eb_b546_9cf387bb866crow2_col0{\n",
       "            background-color:  red;\n",
       "             color:  white;\n",
       "        }#T_c16fdf56_6b81_11eb_b546_9cf387bb866crow0_col1,#T_c16fdf56_6b81_11eb_b546_9cf387bb866crow1_col1,#T_c16fdf56_6b81_11eb_b546_9cf387bb866crow2_col1{\n",
       "            background-color:  green;\n",
       "             color:  white;\n",
       "        }#T_c16fdf56_6b81_11eb_b546_9cf387bb866crow0_col2,#T_c16fdf56_6b81_11eb_b546_9cf387bb866crow0_col3,#T_c16fdf56_6b81_11eb_b546_9cf387bb866crow1_col2,#T_c16fdf56_6b81_11eb_b546_9cf387bb866crow1_col3,#T_c16fdf56_6b81_11eb_b546_9cf387bb866crow2_col2,#T_c16fdf56_6b81_11eb_b546_9cf387bb866crow2_col3{\n",
       "            background-color:  inherit;\n",
       "             color:  inherit;\n",
       "        }</style><table id=\"T_c16fdf56_6b81_11eb_b546_9cf387bb866c\" ><caption>dati osservati nelle province</caption><thead>    <tr>        <th class=\"blank level0\" ></th>        <th class=\"col_heading level0 col0\" >POS</th>        <th class=\"col_heading level0 col1\" >NEG</th>        <th class=\"col_heading level0 col2\" >TOT</th>        <th class=\"col_heading level0 col3\" >TP</th>    </tr></thead><tbody>\n",
       "                <tr>\n",
       "                        <th id=\"T_c16fdf56_6b81_11eb_b546_9cf387bb866clevel0_row0\" class=\"row_heading level0 row0\" >prov1</th>\n",
       "                        <td id=\"T_c16fdf56_6b81_11eb_b546_9cf387bb866crow0_col0\" class=\"data row0 col0\" >283</td>\n",
       "                        <td id=\"T_c16fdf56_6b81_11eb_b546_9cf387bb866crow0_col1\" class=\"data row0 col1\" >2917</td>\n",
       "                        <td id=\"T_c16fdf56_6b81_11eb_b546_9cf387bb866crow0_col2\" class=\"data row0 col2\" >3200</td>\n",
       "                        <td id=\"T_c16fdf56_6b81_11eb_b546_9cf387bb866crow0_col3\" class=\"data row0 col3\" >8.84%</td>\n",
       "            </tr>\n",
       "            <tr>\n",
       "                        <th id=\"T_c16fdf56_6b81_11eb_b546_9cf387bb866clevel0_row1\" class=\"row_heading level0 row1\" >prov2</th>\n",
       "                        <td id=\"T_c16fdf56_6b81_11eb_b546_9cf387bb866crow1_col0\" class=\"data row1 col0\" >147</td>\n",
       "                        <td id=\"T_c16fdf56_6b81_11eb_b546_9cf387bb866crow1_col1\" class=\"data row1 col1\" >2153</td>\n",
       "                        <td id=\"T_c16fdf56_6b81_11eb_b546_9cf387bb866crow1_col2\" class=\"data row1 col2\" >2300</td>\n",
       "                        <td id=\"T_c16fdf56_6b81_11eb_b546_9cf387bb866crow1_col3\" class=\"data row1 col3\" >6.39%</td>\n",
       "            </tr>\n",
       "            <tr>\n",
       "                        <th id=\"T_c16fdf56_6b81_11eb_b546_9cf387bb866clevel0_row2\" class=\"row_heading level0 row2\" >TOT</th>\n",
       "                        <td id=\"T_c16fdf56_6b81_11eb_b546_9cf387bb866crow2_col0\" class=\"data row2 col0\" >430</td>\n",
       "                        <td id=\"T_c16fdf56_6b81_11eb_b546_9cf387bb866crow2_col1\" class=\"data row2 col1\" >5070</td>\n",
       "                        <td id=\"T_c16fdf56_6b81_11eb_b546_9cf387bb866crow2_col2\" class=\"data row2 col2\" >5500</td>\n",
       "                        <td id=\"T_c16fdf56_6b81_11eb_b546_9cf387bb866crow2_col3\" class=\"data row2 col3\" >7.82%</td>\n",
       "            </tr>\n",
       "    </tbody></table>"
      ],
      "text/plain": [
       "<pandas.io.formats.style.Styler at 0x7fe681e75fd0>"
      ]
     },
     "execution_count": 24,
     "metadata": {},
     "output_type": "execute_result"
    }
   ],
   "source": [
    "prov12a_obs.style.apply(highlight_cols, axis=None).format({\n",
    "    'POS': \"{:.0f}\",\n",
    "    'NEG': \"{:.0f}\",\n",
    "    'TOT': \"{:.0f}\",\n",
    "    'TP': \"{:.2%}\", 'pct': \"{:.2%}\"\n",
    "}).set_caption(\n",
    "    \"dati osservati nelle province\"\n",
    ")"
   ]
  },
  {
   "cell_type": "code",
   "execution_count": 25,
   "metadata": {},
   "outputs": [],
   "source": [
    "_ = \"\"\"Latex(prov12a_obs.to_latex(\n",
    "    formatters={\n",
    "        'POS': \"{:.0f}\".format,\n",
    "        'NEG': \"{:.0f}\".format,\n",
    "        'TOT': \"{:.0f}\".format,\n",
    "        'TP': \"{:.2%}\".format, \n",
    "        'pct': \"{:.2%}\".format\n",
    "    },\n",
    "    caption=\"positivi complessivi osservati nelle province\"\n",
    "))\"\"\""
   ]
  },
  {
   "cell_type": "code",
   "execution_count": 26,
   "metadata": {},
   "outputs": [
    {
     "data": {
      "image/png": "[encoded data removed]",
      "text/plain": [
       "<Figure size 864x288 with 2 Axes>"
      ]
     },
     "metadata": {},
     "output_type": "display_data"
    }
   ],
   "source": [
    "fig, ax = plt.subplots(1, 2, figsize=(12, 4))\n",
    "\n",
    "prov12a_obs[['NEG', 'POS']].plot(kind='bar', stacked=True, ec='k', ax=ax[0])\n",
    "ax[0].set(\n",
    "    ylabel='casi testati',\n",
    ")\n",
    "\n",
    "prov12a_obs[['TP']].plot(kind='bar', ec='k', ax=ax[1])\n",
    "ax[1].set(\n",
    "    ylabel='tasso positività',\n",
    ")\n",
    "ax[1].yaxis.set_major_formatter(mtick.PercentFormatter(1, 0))\n",
    "fig.suptitle('Sunto dati nelle due province ignorando la differenza dei test A e B', fontsize=20)\n",
    "plt.show()"
   ]
  },
  {
   "cell_type": "code",
   "execution_count": 27,
   "metadata": {},
   "outputs": [],
   "source": [
    "prov12a_exp = pd.DataFrame({\n",
    "    'POS': [prov12a_obs.TOT.prov1*prov12a_obs.TP.TOT, prov12a_obs.TOT.prov2*prov12a_obs.TP.TOT],\n",
    "    'NEG': [np.nan, np.nan],\n",
    "    'TOT': [prov12a_obs.TOT.prov1, prov12a_obs.TOT.prov2]\n",
    "}, index=['prov1', 'prov2'])\n",
    "prov12a_exp['NEG'] = prov12a_exp.TOT - prov12a_exp.POS\n",
    "prov12a_exp_sum = prov12a_exp.sum(axis=0)\n",
    "prov12a_exp_sum.name = 'TOT'\n",
    "prov12a_exp = prov12a_exp.append(prov12a_exp_sum)\n",
    "prov12a_exp['TP'] = prov12a_exp.POS / prov12a_exp.TOT"
   ]
  },
  {
   "cell_type": "code",
   "execution_count": 28,
   "metadata": {},
   "outputs": [
    {
     "data": {
      "text/markdown": [
       "\n",
       "e ipotizziamo che il tasso di positività\n",
       "sia il medesimo, pari al tasso di positività\n",
       "complessivo 7.82%, \n",
       "calcolando i positivi (e negativi) attesi\n"
      ],
      "text/plain": [
       "<IPython.core.display.Markdown object>"
      ]
     },
     "execution_count": 28,
     "metadata": {},
     "output_type": "execute_result"
    }
   ],
   "source": [
    "Markdown(f\"\"\"\n",
    "e ipotizziamo che il tasso di positività\n",
    "sia il medesimo, pari al tasso di positività\n",
    "complessivo {prov12a_obs.TP.TOT:.2%}, \n",
    "calcolando i positivi (e negativi) attesi\n",
    "\"\"\")"
   ]
  },
  {
   "cell_type": "code",
   "execution_count": 29,
   "metadata": {},
   "outputs": [
    {
     "data": {
      "text/html": [
       "<style  type=\"text/css\" >\n",
       "#T_c1d38fd8_6b81_11eb_b546_9cf387bb866crow0_col0,#T_c1d38fd8_6b81_11eb_b546_9cf387bb866crow1_col0,#T_c1d38fd8_6b81_11eb_b546_9cf387bb866crow2_col0{\n",
       "            background-color:  red;\n",
       "             color:  white;\n",
       "        }#T_c1d38fd8_6b81_11eb_b546_9cf387bb866crow0_col1,#T_c1d38fd8_6b81_11eb_b546_9cf387bb866crow1_col1,#T_c1d38fd8_6b81_11eb_b546_9cf387bb866crow2_col1{\n",
       "            background-color:  green;\n",
       "             color:  white;\n",
       "        }#T_c1d38fd8_6b81_11eb_b546_9cf387bb866crow0_col2,#T_c1d38fd8_6b81_11eb_b546_9cf387bb866crow0_col3,#T_c1d38fd8_6b81_11eb_b546_9cf387bb866crow1_col2,#T_c1d38fd8_6b81_11eb_b546_9cf387bb866crow1_col3,#T_c1d38fd8_6b81_11eb_b546_9cf387bb866crow2_col2,#T_c1d38fd8_6b81_11eb_b546_9cf387bb866crow2_col3{\n",
       "            background-color:  inherit;\n",
       "             color:  inherit;\n",
       "        }</style><table id=\"T_c1d38fd8_6b81_11eb_b546_9cf387bb866c\" ><caption>dati attesi nelle province sotto ipotesi nulla</caption><thead>    <tr>        <th class=\"blank level0\" ></th>        <th class=\"col_heading level0 col0\" >POS</th>        <th class=\"col_heading level0 col1\" >NEG</th>        <th class=\"col_heading level0 col2\" >TOT</th>        <th class=\"col_heading level0 col3\" >TP</th>    </tr></thead><tbody>\n",
       "                <tr>\n",
       "                        <th id=\"T_c1d38fd8_6b81_11eb_b546_9cf387bb866clevel0_row0\" class=\"row_heading level0 row0\" >prov1</th>\n",
       "                        <td id=\"T_c1d38fd8_6b81_11eb_b546_9cf387bb866crow0_col0\" class=\"data row0 col0\" >250.18</td>\n",
       "                        <td id=\"T_c1d38fd8_6b81_11eb_b546_9cf387bb866crow0_col1\" class=\"data row0 col1\" >2949.82</td>\n",
       "                        <td id=\"T_c1d38fd8_6b81_11eb_b546_9cf387bb866crow0_col2\" class=\"data row0 col2\" >3200</td>\n",
       "                        <td id=\"T_c1d38fd8_6b81_11eb_b546_9cf387bb866crow0_col3\" class=\"data row0 col3\" >7.82%</td>\n",
       "            </tr>\n",
       "            <tr>\n",
       "                        <th id=\"T_c1d38fd8_6b81_11eb_b546_9cf387bb866clevel0_row1\" class=\"row_heading level0 row1\" >prov2</th>\n",
       "                        <td id=\"T_c1d38fd8_6b81_11eb_b546_9cf387bb866crow1_col0\" class=\"data row1 col0\" >179.82</td>\n",
       "                        <td id=\"T_c1d38fd8_6b81_11eb_b546_9cf387bb866crow1_col1\" class=\"data row1 col1\" >2120.18</td>\n",
       "                        <td id=\"T_c1d38fd8_6b81_11eb_b546_9cf387bb866crow1_col2\" class=\"data row1 col2\" >2300</td>\n",
       "                        <td id=\"T_c1d38fd8_6b81_11eb_b546_9cf387bb866crow1_col3\" class=\"data row1 col3\" >7.82%</td>\n",
       "            </tr>\n",
       "            <tr>\n",
       "                        <th id=\"T_c1d38fd8_6b81_11eb_b546_9cf387bb866clevel0_row2\" class=\"row_heading level0 row2\" >TOT</th>\n",
       "                        <td id=\"T_c1d38fd8_6b81_11eb_b546_9cf387bb866crow2_col0\" class=\"data row2 col0\" >430.00</td>\n",
       "                        <td id=\"T_c1d38fd8_6b81_11eb_b546_9cf387bb866crow2_col1\" class=\"data row2 col1\" >5070.00</td>\n",
       "                        <td id=\"T_c1d38fd8_6b81_11eb_b546_9cf387bb866crow2_col2\" class=\"data row2 col2\" >5500</td>\n",
       "                        <td id=\"T_c1d38fd8_6b81_11eb_b546_9cf387bb866crow2_col3\" class=\"data row2 col3\" >7.82%</td>\n",
       "            </tr>\n",
       "    </tbody></table>"
      ],
      "text/plain": [
       "<pandas.io.formats.style.Styler at 0x7fe681dc93a0>"
      ]
     },
     "execution_count": 29,
     "metadata": {},
     "output_type": "execute_result"
    }
   ],
   "source": [
    "prov12a_exp.style.apply(highlight_cols, axis=None).format({\n",
    "    'POS': \"{:.2f}\",\n",
    "    'NEG': \"{:.2f}\",\n",
    "    'TOT': \"{:.0f}\",\n",
    "    'TP': \"{:.2%}\", 'pct': \"{:.2%}\"\n",
    "}).set_caption(\n",
    "    \"dati attesi nelle province sotto ipotesi nulla\"\n",
    ")"
   ]
  },
  {
   "cell_type": "code",
   "execution_count": 30,
   "metadata": {},
   "outputs": [],
   "source": [
    "_ = \"\"\"Latex(prov12a_exp.to_latex(\n",
    "    formatters={\n",
    "        'POS': \"{:.2f}\".format,\n",
    "        'NEG': \"{:.2f}\".format,\n",
    "        'TOT': \"{:.0f}\".format,\n",
    "        'TP': \"{:.2%}\".format, \n",
    "        'pct': \"{:.2%}\".format\n",
    "    },\n",
    "    caption=\"positivi complessivi attesi nelle province\"\n",
    "))\"\"\""
   ]
  },
  {
   "cell_type": "code",
   "execution_count": 31,
   "metadata": {},
   "outputs": [
    {
     "data": {
      "image/png": "[encoded data removed]",
      "text/plain": [
       "<Figure size 864x288 with 2 Axes>"
      ]
     },
     "metadata": {},
     "output_type": "display_data"
    }
   ],
   "source": [
    "fig, ax = plt.subplots(1, 2, figsize=(12, 4))\n",
    "\n",
    "prov12a_exp[['NEG', 'POS']].plot(kind='bar', stacked=True, ec='k', ax=ax[0])\n",
    "ax[0].set(\n",
    "    ylabel='casi testati',\n",
    ")\n",
    "\n",
    "prov12a_exp[['TP']].plot(kind='bar', ec='k', ax=ax[1])\n",
    "ax[1].set(\n",
    "    ylabel='tasso positività',\n",
    ")\n",
    "ax[1].yaxis.set_major_formatter(mtick.PercentFormatter(1, 0))\n",
    "fig.suptitle('Valori attesi per test ipotesi nulla ignorando la differenza dei test A e B', fontsize=20)\n",
    "plt.show()"
   ]
  },
  {
   "cell_type": "markdown",
   "metadata": {},
   "source": [
    "Possiamo ora calcolare il valore del $\\chi^2$: indicando con `obs` (observed) i risultati osservati e `exp` (expected) gli attesi, le celle della seguente tabella sono calcolate come\n",
    "\n",
    "$$\n",
    "\\frac{\n",
    "    (\\mathrm{obs} - \\mathrm{exp})^2\n",
    "}{\n",
    "    \\mathrm{exp}\n",
    "}\n",
    "$$"
   ]
  },
  {
   "cell_type": "code",
   "execution_count": 32,
   "metadata": {},
   "outputs": [],
   "source": [
    "chi_squared_matrix_a = (prov12a_obs.iloc[:2, :2] - prov12a_exp.iloc[:2, :2])**2 / prov12a_exp.iloc[:2, :2]"
   ]
  },
  {
   "cell_type": "code",
   "execution_count": 33,
   "metadata": {},
   "outputs": [
    {
     "data": {
      "text/html": [
       "<style  type=\"text/css\" >\n",
       "#T_c2300fc4_6b81_11eb_b546_9cf387bb866crow0_col0,#T_c2300fc4_6b81_11eb_b546_9cf387bb866crow1_col0{\n",
       "            background-color:  red;\n",
       "             color:  white;\n",
       "        }#T_c2300fc4_6b81_11eb_b546_9cf387bb866crow0_col1,#T_c2300fc4_6b81_11eb_b546_9cf387bb866crow1_col1{\n",
       "            background-color:  green;\n",
       "             color:  white;\n",
       "        }</style><table id=\"T_c2300fc4_6b81_11eb_b546_9cf387bb866c\" ><caption>matrice chi-squared</caption><thead>    <tr>        <th class=\"blank level0\" ></th>        <th class=\"col_heading level0 col0\" >POS</th>        <th class=\"col_heading level0 col1\" >NEG</th>    </tr></thead><tbody>\n",
       "                <tr>\n",
       "                        <th id=\"T_c2300fc4_6b81_11eb_b546_9cf387bb866clevel0_row0\" class=\"row_heading level0 row0\" >prov1</th>\n",
       "                        <td id=\"T_c2300fc4_6b81_11eb_b546_9cf387bb866crow0_col0\" class=\"data row0 col0\" >4.3050</td>\n",
       "                        <td id=\"T_c2300fc4_6b81_11eb_b546_9cf387bb866crow0_col1\" class=\"data row0 col1\" >0.3651</td>\n",
       "            </tr>\n",
       "            <tr>\n",
       "                        <th id=\"T_c2300fc4_6b81_11eb_b546_9cf387bb866clevel0_row1\" class=\"row_heading level0 row1\" >prov2</th>\n",
       "                        <td id=\"T_c2300fc4_6b81_11eb_b546_9cf387bb866crow1_col0\" class=\"data row1 col0\" >5.9896</td>\n",
       "                        <td id=\"T_c2300fc4_6b81_11eb_b546_9cf387bb866crow1_col1\" class=\"data row1 col1\" >0.5080</td>\n",
       "            </tr>\n",
       "    </tbody></table>"
      ],
      "text/plain": [
       "<pandas.io.formats.style.Styler at 0x7fe682798fa0>"
      ]
     },
     "execution_count": 33,
     "metadata": {},
     "output_type": "execute_result"
    }
   ],
   "source": [
    "chi_squared_matrix_a.style.apply(highlight_cols, axis=None).format({\n",
    "    'POS': \"{:.4f}\",\n",
    "    'NEG': \"{:.4f}\",\n",
    "    'TOT': \"{:.0f}\",\n",
    "    'TP': \"{:.2%}\", 'pct': \"{:.2%}\"\n",
    "}).set_caption(\n",
    "    \"matrice chi-squared\"\n",
    ")"
   ]
  },
  {
   "cell_type": "code",
   "execution_count": 34,
   "metadata": {},
   "outputs": [],
   "source": [
    "_ = \"\"\"Latex(chi_squared_matrix_a.to_latex(\n",
    "    formatters={\n",
    "        'POS': \"{:.4f}\".format,\n",
    "        'NEG': \"{:.4f}\".format,\n",
    "        'TOT': \"{:.0f}\".format,\n",
    "        'TP': \"{:.2%}\".format,\n",
    "        'pct': \"{:.2%}\".format\n",
    "    },\n",
    "    caption=\"matrice chi-squared\"\n",
    "))\"\"\""
   ]
  },
  {
   "cell_type": "code",
   "execution_count": 35,
   "metadata": {},
   "outputs": [],
   "source": [
    "chi_squared_a = chi_squared_matrix_a.values.sum()"
   ]
  },
  {
   "cell_type": "code",
   "execution_count": 36,
   "metadata": {},
   "outputs": [],
   "source": [
    "p_value_a = sps.chi2.sf(chi_squared_a, df=1)"
   ]
  },
  {
   "cell_type": "code",
   "execution_count": 37,
   "metadata": {},
   "outputs": [
    {
     "data": {
      "text/markdown": [
       "\n",
       "La somma dei valori della tabella\n",
       "è la statistica del chi-quadrato, \n",
       "$\\chi^2 = 11.17$ che,\n",
       "per 1 grado di libertà, corrisponde ad\n",
       "un $p$-value di 0.000832\n",
       "(0.0832%)\n",
       "notevolmente inferiore del più alto livello\n",
       "di significatività $\\alpha$\n",
       "stabilito in precedenza (1%).\n",
       "\n",
       "Dovremmo perciò **rigettare** l'ipotesi nulla $H_0$.\n"
      ],
      "text/plain": [
       "<IPython.core.display.Markdown object>"
      ]
     },
     "execution_count": 37,
     "metadata": {},
     "output_type": "execute_result"
    }
   ],
   "source": [
    "Markdown(fr\"\"\"\n",
    "La somma dei valori della tabella\n",
    "è la statistica del chi-quadrato, \n",
    "$\\chi^2 = {chi_squared_a:.2f}$ che,\n",
    "per 1 grado di libertà, corrisponde ad\n",
    "un $p$-value di {p_value_a:.6f}\n",
    "({p_value_a:.4%})\n",
    "notevolmente inferiore del più alto livello\n",
    "di significatività $\\alpha$\n",
    "stabilito in precedenza (1%).\n",
    "\n",
    "Dovremmo perciò **rigettare** l'ipotesi nulla $H_0$.\n",
    "\"\"\")"
   ]
  },
  {
   "cell_type": "code",
   "execution_count": 38,
   "metadata": {},
   "outputs": [
    {
     "data": {
      "image/png": "[encoded data removed]",
      "text/plain": [
       "<Figure size 864x432 with 1 Axes>"
      ]
     },
     "metadata": {},
     "output_type": "display_data"
    }
   ],
   "source": [
    "fig, ax = plt.subplots(figsize=(12, 6))\n",
    "chi_dist = sps.chi2(df=1)\n",
    "chi_dist_x_a = np.linspace(chi_dist.ppf(1-.15), chi_dist.ppf(.99999), 100)\n",
    "chi_dist_y_a = chi_dist.sf(chi_dist_x_a)\n",
    "ax.plot(chi_dist_x_a, chi_dist_y_a, label='$\\chi^2$ S.F.')\n",
    "ax.scatter(chi_squared_a, p_value_a, color='k', s=100, label='valore')\n",
    "\n",
    "ax.axhline(.1, color='r', ls='-', lw=4, label=r'$\\alpha=10\\%$')\n",
    "ax.axvline(chi_dist.isf(.1), color='r', lw=4, ls='-')\n",
    "\n",
    "ax.axhline(.05, color='r', ls='--', lw=2, label=r'$\\alpha=5\\%$')\n",
    "ax.axvline(chi_dist.isf(.05), color='r', ls='--', lw=2)\n",
    "\n",
    "ax.axhline(.01, color='r', ls=':', label=r'$\\alpha=1\\%$')\n",
    "ax.axvline(chi_dist.isf(.01), color='r', ls=':')\n",
    "\n",
    "ax.text(\n",
    "    chi_squared_a, p_value_a+.005,\n",
    "    f\"$p$-val\\n{p_value_a:.4%}\",\n",
    "    ha='center', va='bottom',\n",
    ")\n",
    "ax.axhline(0, color='k', alpha=.25)\n",
    "ax.yaxis.set_major_formatter(mtick.PercentFormatter(1, 0))\n",
    "ax.legend()\n",
    "ax.set_title(\n",
    "    '$\\chi^2$ chi-squared test e $p$-value', fontsize=20\n",
    ")\n",
    "plt.show()"
   ]
  },
  {
   "cell_type": "code",
   "execution_count": 39,
   "metadata": {},
   "outputs": [
    {
     "data": {
      "text/markdown": [
       "\n",
       "Saremmo dunque tentati di affermare che\n",
       "\n",
       "- ipotizzando che il tasso di positività nelle due province sia il medesimo\n",
       "\n",
       "la differenza di positivi osservata **è statisticamente significativa** \n",
       "($p$-val 0.000832).\n"
      ],
      "text/plain": [
       "<IPython.core.display.Markdown object>"
      ]
     },
     "execution_count": 39,
     "metadata": {},
     "output_type": "execute_result"
    }
   ],
   "source": [
    "Markdown(f\"\"\"\n",
    "Saremmo dunque tentati di affermare che\n",
    "\n",
    "- ipotizzando che il tasso di positività nelle due province sia il medesimo\n",
    "\n",
    "la differenza di positivi osservata **è statisticamente significativa** \n",
    "($p$-val {p_value_a:.6f}).\n",
    "\"\"\")"
   ]
  },
  {
   "cell_type": "markdown",
   "metadata": {},
   "source": [
    "***\n",
    "\n",
    "Sapendo però che sono stati effettuati i test `A` e `B` in differenti percentuali, ci chiediamo se la differenza di positivi e tassi di positività non sia dovuta al caso, ovvero alla differente distribuzione dei test effettuati nelle due province e al differente numero di casi testati a parità di tasso di positività.\n",
    "\n",
    "A tal fine, verificheremo la seguente ipotesi nulla\n",
    "\n",
    "> $H_0$: a parità di distribuzione dei test `A` e `B` effettuati e supponendo che i le due province abbiano il medesimo tasso di positività, i positivi osservati nelle due province **NON** sono significativamente differenti\n",
    "\n",
    "Pertanto, se come sopra otterremo dal test un $p$-value inferiore ad una determinata soglia di probabilità $\\alpha$ (10%, 5% o 1%) potremo affermare che sono statisticamente differenti con significatività $\\alpha$, altrimenti dovremo accettare l'ipotesi nulla $H_0$ che, alle condizioni specificate, la differenza osservata non è significativa."
   ]
  },
  {
   "cell_type": "code",
   "execution_count": 40,
   "metadata": {},
   "outputs": [],
   "source": [
    "prov1_same = prov1_obs.copy(deep=True)\n",
    "\n",
    "prov1_same.loc['A', 'TOT'] = prov1_same.TOT.TOT / 2\n",
    "\n",
    "prov1_same.loc['B', 'TOT'] = prov1_same.TOT.TOT / 2\n",
    "\n",
    "prov1_same.loc['A', 'POS'] = prov1_same.TOT.A * prov1_same.TP.A\n",
    "prov1_same.loc['B', 'POS'] = prov1_same.TOT.B * prov1_same.TP.B\n",
    "prov1_same.loc['TOT', 'POS'] = prov1_same.POS.A + prov1_same.POS.B\n",
    "prov1_same['NEG'] = prov1_same.TOT - prov1_same.POS\n",
    "prov1_same['TP'] = prov1_same.POS / prov1_same.TOT\n",
    "prov1_same.loc['A', 'pct'] = prov1_same.TOT.A / prov1_same.TOT.TOT\n",
    "prov1_same.loc['B', 'pct'] = prov1_same.TOT.B / prov1_same.TOT.TOT\n",
    "prov1_same.loc['TOT', 'pct'] = 1"
   ]
  },
  {
   "cell_type": "markdown",
   "metadata": {},
   "source": [
    "Procediamo dunque ridistribuendo i test effettuati nelle due province e supponendo che entrambi abbiano effettuato i test `A` e `B` in ugual percentuale (50%) mantenendo lo stesso tasso di positività osservato.\n",
    "\n",
    "Per la provincia `prov1` avremo pertanto:"
   ]
  },
  {
   "cell_type": "code",
   "execution_count": 41,
   "metadata": {},
   "outputs": [
    {
     "data": {
      "text/html": [
       "<style  type=\"text/css\" >\n",
       "#T_c306e92c_6b81_11eb_b546_9cf387bb866crow0_col0,#T_c306e92c_6b81_11eb_b546_9cf387bb866crow1_col0,#T_c306e92c_6b81_11eb_b546_9cf387bb866crow2_col0{\n",
       "            background-color:  red;\n",
       "             color:  white;\n",
       "        }#T_c306e92c_6b81_11eb_b546_9cf387bb866crow0_col1,#T_c306e92c_6b81_11eb_b546_9cf387bb866crow1_col1,#T_c306e92c_6b81_11eb_b546_9cf387bb866crow2_col1{\n",
       "            background-color:  green;\n",
       "             color:  white;\n",
       "        }#T_c306e92c_6b81_11eb_b546_9cf387bb866crow0_col2,#T_c306e92c_6b81_11eb_b546_9cf387bb866crow0_col3,#T_c306e92c_6b81_11eb_b546_9cf387bb866crow0_col4,#T_c306e92c_6b81_11eb_b546_9cf387bb866crow1_col2,#T_c306e92c_6b81_11eb_b546_9cf387bb866crow1_col3,#T_c306e92c_6b81_11eb_b546_9cf387bb866crow1_col4,#T_c306e92c_6b81_11eb_b546_9cf387bb866crow2_col2,#T_c306e92c_6b81_11eb_b546_9cf387bb866crow2_col3,#T_c306e92c_6b81_11eb_b546_9cf387bb866crow2_col4{\n",
       "            background-color:  inherit;\n",
       "             color:  inherit;\n",
       "        }</style><table id=\"T_c306e92c_6b81_11eb_b546_9cf387bb866c\" ><caption>provincia 1: ipotesi di uguale distribuzione dei test</caption><thead>    <tr>        <th class=\"blank level0\" ></th>        <th class=\"col_heading level0 col0\" >POS</th>        <th class=\"col_heading level0 col1\" >NEG</th>        <th class=\"col_heading level0 col2\" >TOT</th>        <th class=\"col_heading level0 col3\" >TP</th>        <th class=\"col_heading level0 col4\" >pct</th>    </tr></thead><tbody>\n",
       "                <tr>\n",
       "                        <th id=\"T_c306e92c_6b81_11eb_b546_9cf387bb866clevel0_row0\" class=\"row_heading level0 row0\" >A</th>\n",
       "                        <td id=\"T_c306e92c_6b81_11eb_b546_9cf387bb866crow0_col0\" class=\"data row0 col0\" >88.00</td>\n",
       "                        <td id=\"T_c306e92c_6b81_11eb_b546_9cf387bb866crow0_col1\" class=\"data row0 col1\" >1512.00</td>\n",
       "                        <td id=\"T_c306e92c_6b81_11eb_b546_9cf387bb866crow0_col2\" class=\"data row0 col2\" >1600</td>\n",
       "                        <td id=\"T_c306e92c_6b81_11eb_b546_9cf387bb866crow0_col3\" class=\"data row0 col3\" >5.50%</td>\n",
       "                        <td id=\"T_c306e92c_6b81_11eb_b546_9cf387bb866crow0_col4\" class=\"data row0 col4\" >50%</td>\n",
       "            </tr>\n",
       "            <tr>\n",
       "                        <th id=\"T_c306e92c_6b81_11eb_b546_9cf387bb866clevel0_row1\" class=\"row_heading level0 row1\" >B</th>\n",
       "                        <td id=\"T_c306e92c_6b81_11eb_b546_9cf387bb866crow1_col0\" class=\"data row1 col0\" >145.07</td>\n",
       "                        <td id=\"T_c306e92c_6b81_11eb_b546_9cf387bb866crow1_col1\" class=\"data row1 col1\" >1454.93</td>\n",
       "                        <td id=\"T_c306e92c_6b81_11eb_b546_9cf387bb866crow1_col2\" class=\"data row1 col2\" >1600</td>\n",
       "                        <td id=\"T_c306e92c_6b81_11eb_b546_9cf387bb866crow1_col3\" class=\"data row1 col3\" >9.07%</td>\n",
       "                        <td id=\"T_c306e92c_6b81_11eb_b546_9cf387bb866crow1_col4\" class=\"data row1 col4\" >50%</td>\n",
       "            </tr>\n",
       "            <tr>\n",
       "                        <th id=\"T_c306e92c_6b81_11eb_b546_9cf387bb866clevel0_row2\" class=\"row_heading level0 row2\" >TOT</th>\n",
       "                        <td id=\"T_c306e92c_6b81_11eb_b546_9cf387bb866crow2_col0\" class=\"data row2 col0\" >233.07</td>\n",
       "                        <td id=\"T_c306e92c_6b81_11eb_b546_9cf387bb866crow2_col1\" class=\"data row2 col1\" >2966.93</td>\n",
       "                        <td id=\"T_c306e92c_6b81_11eb_b546_9cf387bb866crow2_col2\" class=\"data row2 col2\" >3200</td>\n",
       "                        <td id=\"T_c306e92c_6b81_11eb_b546_9cf387bb866crow2_col3\" class=\"data row2 col3\" >7.28%</td>\n",
       "                        <td id=\"T_c306e92c_6b81_11eb_b546_9cf387bb866crow2_col4\" class=\"data row2 col4\" >100%</td>\n",
       "            </tr>\n",
       "    </tbody></table>"
      ],
      "text/plain": [
       "<pandas.io.formats.style.Styler at 0x7fe683556670>"
      ]
     },
     "execution_count": 41,
     "metadata": {},
     "output_type": "execute_result"
    }
   ],
   "source": [
    "prov1_same.style.apply(highlight_cols, axis=None).format({\n",
    "    'POS': \"{:.2f}\",\n",
    "    'NEG': \"{:.2f}\",\n",
    "    'TOT': \"{:.0f}\",\n",
    "    'TP': \"{:.2%}\", 'pct': \"{:.0%}\"\n",
    "}).set_caption(\n",
    "    \"provincia 1: ipotesi di uguale distribuzione dei test\"\n",
    ")"
   ]
  },
  {
   "cell_type": "code",
   "execution_count": 42,
   "metadata": {},
   "outputs": [],
   "source": [
    "_ = \"\"\"Latex(prov1_same.to_latex(\n",
    "    formatters={\n",
    "        'POS': \"{:.2f}\".format,\n",
    "        'NEG': \"{:.2f}\".format,\n",
    "        'TOT': \"{:.0f}\".format,\n",
    "        'TP': \"{:.2%}\".format,\n",
    "        'pct': \"{:.0%}\".format\n",
    "    },\n",
    "    caption=\"dati provincia 1 ipotizzando uguale distribuzione dei test\"\n",
    "))\"\"\""
   ]
  },
  {
   "cell_type": "code",
   "execution_count": 43,
   "metadata": {},
   "outputs": [
    {
     "data": {
      "text/markdown": [
       "\n",
       "Ovvero, dati i 3200 test totali effettuati,\n",
       "supponiamo che ne siano stati effettuati 1600\n",
       "di tipo `A` e 1600 di tipo `B`.\n",
       "\n",
       "Mantenendo gli stessi tassi di positività, avremmo quindi osservato\n",
       "\n",
       "- 88.00 positivi con test di tipo `A`\n",
       "- 145.07 positivi con test di tipo `B`\n",
       "\n",
       "e complessivamente 233.07 sui\n",
       "3200 casi testati\n",
       "(tasso positività 7.28%).\n"
      ],
      "text/plain": [
       "<IPython.core.display.Markdown object>"
      ]
     },
     "execution_count": 43,
     "metadata": {},
     "output_type": "execute_result"
    }
   ],
   "source": [
    "Markdown(f\"\"\"\n",
    "Ovvero, dati i {prov1_same.TOT.TOT:.0f} test totali effettuati,\n",
    "supponiamo che ne siano stati effettuati {prov1_same.TOT.A:.0f}\n",
    "di tipo `A` e {prov1_same.TOT.B:.0f} di tipo `B`.\n",
    "\n",
    "Mantenendo gli stessi tassi di positività, avremmo quindi osservato\n",
    "\n",
    "- {prov1_same.POS.A:.2f} positivi con test di tipo `A`\n",
    "- {prov1_same.POS.B:.2f} positivi con test di tipo `B`\n",
    "\n",
    "e complessivamente {prov1_same.POS.TOT:.2f} sui\n",
    "{prov1_same.TOT.TOT:.0f} casi testati\n",
    "(tasso positività {prov1_same.TP.TOT:.2%}).\n",
    "\"\"\")"
   ]
  },
  {
   "cell_type": "code",
   "execution_count": 44,
   "metadata": {},
   "outputs": [
    {
     "data": {
      "image/png": "[encoded data removed]",
      "text/plain": [
       "<Figure size 864x288 with 2 Axes>"
      ]
     },
     "metadata": {},
     "output_type": "display_data"
    }
   ],
   "source": [
    "fig, ax = plt.subplots(1, 2, figsize=(12, 4))\n",
    "\n",
    "prov1_same[['NEG', 'POS']].plot(kind='bar', stacked=True, ec='k', ax=ax[0])\n",
    "ax[0].set(\n",
    "    ylabel='casi testati',\n",
    "    xlabel='tipo di test'\n",
    ")\n",
    "\n",
    "prov1_same[['TP']].plot(kind='bar', ec='k', ax=ax[1])\n",
    "ax[1].set(\n",
    "    ylabel='tasso positività',\n",
    "    xlabel='tipo di test'\n",
    ")\n",
    "ax[1].yaxis.set_major_formatter(mtick.PercentFormatter(1, 0))\n",
    "fig.suptitle('Ipotesi di ugual percentuale di test nella provincia prov1', fontsize=20)\n",
    "plt.show()"
   ]
  },
  {
   "cell_type": "code",
   "execution_count": 45,
   "metadata": {},
   "outputs": [],
   "source": [
    "prov2_same = prov2_obs.copy(deep=True)\n",
    "\n",
    "prov2_same.loc['A', 'TOT'] = prov2_same.TOT.TOT / 2\n",
    "\n",
    "prov2_same.loc['B', 'TOT'] = prov2_same.TOT.TOT / 2\n",
    "\n",
    "prov2_same.loc['A', 'POS'] = prov2_same.TOT.A * prov2_same.TP.A\n",
    "prov2_same.loc['B', 'POS'] = prov2_same.TOT.B * prov2_same.TP.B\n",
    "prov2_same.loc['TOT', 'POS'] = prov2_same.POS.A + prov2_same.POS.B\n",
    "prov2_same['NEG'] = prov2_same.TOT - prov2_same.POS\n",
    "prov2_same['TP'] = prov2_same.POS / prov2_same.TOT\n",
    "prov2_same.loc['A', 'pct'] = prov2_same.TOT.A / prov2_same.TOT.TOT\n",
    "prov2_same.loc['B', 'pct'] = prov2_same.TOT.B / prov2_same.TOT.TOT\n",
    "prov2_same.loc['TOT', 'pct'] = 1"
   ]
  },
  {
   "cell_type": "markdown",
   "metadata": {},
   "source": [
    "Allo stesso modo, per la provincia `prov2`:"
   ]
  },
  {
   "cell_type": "code",
   "execution_count": 46,
   "metadata": {},
   "outputs": [
    {
     "data": {
      "text/html": [
       "<style  type=\"text/css\" >\n",
       "#T_c36c6aea_6b81_11eb_b546_9cf387bb866crow0_col0,#T_c36c6aea_6b81_11eb_b546_9cf387bb866crow1_col0,#T_c36c6aea_6b81_11eb_b546_9cf387bb866crow2_col0{\n",
       "            background-color:  red;\n",
       "             color:  white;\n",
       "        }#T_c36c6aea_6b81_11eb_b546_9cf387bb866crow0_col1,#T_c36c6aea_6b81_11eb_b546_9cf387bb866crow1_col1,#T_c36c6aea_6b81_11eb_b546_9cf387bb866crow2_col1{\n",
       "            background-color:  green;\n",
       "             color:  white;\n",
       "        }#T_c36c6aea_6b81_11eb_b546_9cf387bb866crow0_col2,#T_c36c6aea_6b81_11eb_b546_9cf387bb866crow0_col3,#T_c36c6aea_6b81_11eb_b546_9cf387bb866crow0_col4,#T_c36c6aea_6b81_11eb_b546_9cf387bb866crow1_col2,#T_c36c6aea_6b81_11eb_b546_9cf387bb866crow1_col3,#T_c36c6aea_6b81_11eb_b546_9cf387bb866crow1_col4,#T_c36c6aea_6b81_11eb_b546_9cf387bb866crow2_col2,#T_c36c6aea_6b81_11eb_b546_9cf387bb866crow2_col3,#T_c36c6aea_6b81_11eb_b546_9cf387bb866crow2_col4{\n",
       "            background-color:  inherit;\n",
       "             color:  inherit;\n",
       "        }</style><table id=\"T_c36c6aea_6b81_11eb_b546_9cf387bb866c\" ><caption>provincia 2: ipotesi di uguale distribuzione dei test</caption><thead>    <tr>        <th class=\"blank level0\" ></th>        <th class=\"col_heading level0 col0\" >POS</th>        <th class=\"col_heading level0 col1\" >NEG</th>        <th class=\"col_heading level0 col2\" >TOT</th>        <th class=\"col_heading level0 col3\" >TP</th>        <th class=\"col_heading level0 col4\" >pct</th>    </tr></thead><tbody>\n",
       "                <tr>\n",
       "                        <th id=\"T_c36c6aea_6b81_11eb_b546_9cf387bb866clevel0_row0\" class=\"row_heading level0 row0\" >A</th>\n",
       "                        <td id=\"T_c36c6aea_6b81_11eb_b546_9cf387bb866crow0_col0\" class=\"data row0 col0\" >68.42</td>\n",
       "                        <td id=\"T_c36c6aea_6b81_11eb_b546_9cf387bb866crow0_col1\" class=\"data row0 col1\" >1081.58</td>\n",
       "                        <td id=\"T_c36c6aea_6b81_11eb_b546_9cf387bb866crow0_col2\" class=\"data row0 col2\" >1150</td>\n",
       "                        <td id=\"T_c36c6aea_6b81_11eb_b546_9cf387bb866crow0_col3\" class=\"data row0 col3\" >5.95%</td>\n",
       "                        <td id=\"T_c36c6aea_6b81_11eb_b546_9cf387bb866crow0_col4\" class=\"data row0 col4\" >50%</td>\n",
       "            </tr>\n",
       "            <tr>\n",
       "                        <th id=\"T_c36c6aea_6b81_11eb_b546_9cf387bb866clevel0_row1\" class=\"row_heading level0 row1\" >B</th>\n",
       "                        <td id=\"T_c36c6aea_6b81_11eb_b546_9cf387bb866crow1_col0\" class=\"data row1 col0\" >107.33</td>\n",
       "                        <td id=\"T_c36c6aea_6b81_11eb_b546_9cf387bb866crow1_col1\" class=\"data row1 col1\" >1042.67</td>\n",
       "                        <td id=\"T_c36c6aea_6b81_11eb_b546_9cf387bb866crow1_col2\" class=\"data row1 col2\" >1150</td>\n",
       "                        <td id=\"T_c36c6aea_6b81_11eb_b546_9cf387bb866crow1_col3\" class=\"data row1 col3\" >9.33%</td>\n",
       "                        <td id=\"T_c36c6aea_6b81_11eb_b546_9cf387bb866crow1_col4\" class=\"data row1 col4\" >50%</td>\n",
       "            </tr>\n",
       "            <tr>\n",
       "                        <th id=\"T_c36c6aea_6b81_11eb_b546_9cf387bb866clevel0_row2\" class=\"row_heading level0 row2\" >TOT</th>\n",
       "                        <td id=\"T_c36c6aea_6b81_11eb_b546_9cf387bb866crow2_col0\" class=\"data row2 col0\" >175.76</td>\n",
       "                        <td id=\"T_c36c6aea_6b81_11eb_b546_9cf387bb866crow2_col1\" class=\"data row2 col1\" >2124.24</td>\n",
       "                        <td id=\"T_c36c6aea_6b81_11eb_b546_9cf387bb866crow2_col2\" class=\"data row2 col2\" >2300</td>\n",
       "                        <td id=\"T_c36c6aea_6b81_11eb_b546_9cf387bb866crow2_col3\" class=\"data row2 col3\" >7.64%</td>\n",
       "                        <td id=\"T_c36c6aea_6b81_11eb_b546_9cf387bb866crow2_col4\" class=\"data row2 col4\" >100%</td>\n",
       "            </tr>\n",
       "    </tbody></table>"
      ],
      "text/plain": [
       "<pandas.io.formats.style.Styler at 0x7fe6827827f0>"
      ]
     },
     "execution_count": 46,
     "metadata": {},
     "output_type": "execute_result"
    }
   ],
   "source": [
    "prov2_same.style.apply(highlight_cols, axis=None).format({\n",
    "    'POS': \"{:.2f}\",\n",
    "    'NEG': \"{:.2f}\",\n",
    "    'TOT': \"{:.0f}\",\n",
    "    'TP': \"{:.2%}\", 'pct': \"{:.0%}\"\n",
    "}).set_caption(\n",
    "    \"provincia 2: ipotesi di uguale distribuzione dei test\"\n",
    ")"
   ]
  },
  {
   "cell_type": "code",
   "execution_count": 47,
   "metadata": {},
   "outputs": [],
   "source": [
    "_ = \"\"\"Latex(prov2_same.to_latex(\n",
    "    formatters={\n",
    "        'POS': \"{:.2f}\".format,\n",
    "        'NEG': \"{:.2f}\".format,\n",
    "        'TOT': \"{:.0f}\".format,\n",
    "        'TP': \"{:.2%}\".format,\n",
    "        'pct': \"{:.0%}\".format\n",
    "    },\n",
    "    caption=\"dati provincia 2 ipotizzando uguale distribuzione dei test\"\n",
    "))\"\"\""
   ]
  },
  {
   "cell_type": "code",
   "execution_count": 48,
   "metadata": {},
   "outputs": [
    {
     "data": {
      "text/markdown": [
       "\n",
       "dati i 2300 test totali effettuati,\n",
       "supponiamo che ne siano stati effettuati 1150\n",
       "di tipo `A` e 1150 di tipo `B`.\n",
       "\n",
       "Mantenendo gli stessi tassi di positività, avremmo quindi osservato\n",
       "\n",
       "- 68.42 positivi con test di tipo `A`\n",
       "- 107.33 positivi con test di tipo `B`\n",
       "\n",
       "e complessivamente 175.76 sui\n",
       "2300 casi testati\n",
       "(tasso positività 7.64%).\n"
      ],
      "text/plain": [
       "<IPython.core.display.Markdown object>"
      ]
     },
     "execution_count": 48,
     "metadata": {},
     "output_type": "execute_result"
    }
   ],
   "source": [
    "Markdown(f\"\"\"\n",
    "dati i {prov2_same.TOT.TOT:.0f} test totali effettuati,\n",
    "supponiamo che ne siano stati effettuati {prov2_same.TOT.A:.0f}\n",
    "di tipo `A` e {prov2_same.TOT.B:.0f} di tipo `B`.\n",
    "\n",
    "Mantenendo gli stessi tassi di positività, avremmo quindi osservato\n",
    "\n",
    "- {prov2_same.POS.A:.2f} positivi con test di tipo `A`\n",
    "- {prov2_same.POS.B:.2f} positivi con test di tipo `B`\n",
    "\n",
    "e complessivamente {prov2_same.POS.TOT:.2f} sui\n",
    "{prov2_same.TOT.TOT:.0f} casi testati\n",
    "(tasso positività {prov2_same.TP.TOT:.2%}).\n",
    "\"\"\")"
   ]
  },
  {
   "cell_type": "code",
   "execution_count": 49,
   "metadata": {},
   "outputs": [
    {
     "data": {
      "image/png": "[encoded data removed]",
      "text/plain": [
       "<Figure size 864x288 with 2 Axes>"
      ]
     },
     "metadata": {},
     "output_type": "display_data"
    }
   ],
   "source": [
    "fig, ax = plt.subplots(1, 2, figsize=(12, 4))\n",
    "\n",
    "prov2_same[['NEG', 'POS']].plot(kind='bar', stacked=True, ec='k', ax=ax[0])\n",
    "ax[0].set(\n",
    "    ylabel='casi testati',\n",
    "    xlabel='tipo di test'\n",
    ")\n",
    "\n",
    "prov2_same[['TP']].plot(kind='bar', ec='k', ax=ax[1])\n",
    "ax[1].set(\n",
    "    ylabel='tasso positività',\n",
    "    xlabel='tipo di test'\n",
    ")\n",
    "ax[1].yaxis.set_major_formatter(mtick.PercentFormatter(1, 0))\n",
    "fig.suptitle('Ipotesi di ugual percentuale di test nella provincia prov2', fontsize=20)\n",
    "plt.show()"
   ]
  },
  {
   "cell_type": "markdown",
   "metadata": {},
   "source": [
    "***\n",
    "\n",
    "Possiamo ora chiederci se i positivi complessivi osservati nelle due province a parità di test effettuati siano significativamente differenti sotto l'ipotesi nulla che le due province abbiano il medesimo tasso di positività.\n",
    "\n",
    "A tal fine effettueremo un test del chi quadrato $\\chi^2$ (chi-squared)."
   ]
  },
  {
   "cell_type": "code",
   "execution_count": 50,
   "metadata": {},
   "outputs": [],
   "source": [
    "prov12_obs = pd.DataFrame({\n",
    "    'POS': [prov1_same.POS.TOT, prov2_same.POS.TOT],\n",
    "    'NEG': [prov1_same.NEG.TOT, prov2_same.NEG.TOT],\n",
    "    'TOT': [prov1_same.TOT.TOT, prov2_same.TOT.TOT]\n",
    "}, index=['prov1', 'prov2'])\n",
    "\n",
    "prov12_sum = prov12_obs.sum(axis=0)\n",
    "prov12_sum.name = 'TOT'\n",
    "prov12_obs = prov12_obs.append(prov12_sum)\n",
    "prov12_obs['TP'] = prov12_obs.POS / prov12_obs.TOT"
   ]
  },
  {
   "cell_type": "markdown",
   "metadata": {},
   "source": [
    "Raccogliamo i dati complessivi delle due province:"
   ]
  },
  {
   "cell_type": "code",
   "execution_count": 51,
   "metadata": {},
   "outputs": [
    {
     "data": {
      "text/html": [
       "<style  type=\"text/css\" >\n",
       "#T_c3d5ed1c_6b81_11eb_b546_9cf387bb866crow0_col0,#T_c3d5ed1c_6b81_11eb_b546_9cf387bb866crow1_col0,#T_c3d5ed1c_6b81_11eb_b546_9cf387bb866crow2_col0{\n",
       "            background-color:  red;\n",
       "             color:  white;\n",
       "        }#T_c3d5ed1c_6b81_11eb_b546_9cf387bb866crow0_col1,#T_c3d5ed1c_6b81_11eb_b546_9cf387bb866crow1_col1,#T_c3d5ed1c_6b81_11eb_b546_9cf387bb866crow2_col1{\n",
       "            background-color:  green;\n",
       "             color:  white;\n",
       "        }#T_c3d5ed1c_6b81_11eb_b546_9cf387bb866crow0_col2,#T_c3d5ed1c_6b81_11eb_b546_9cf387bb866crow0_col3,#T_c3d5ed1c_6b81_11eb_b546_9cf387bb866crow1_col2,#T_c3d5ed1c_6b81_11eb_b546_9cf387bb866crow1_col3,#T_c3d5ed1c_6b81_11eb_b546_9cf387bb866crow2_col2,#T_c3d5ed1c_6b81_11eb_b546_9cf387bb866crow2_col3{\n",
       "            background-color:  inherit;\n",
       "             color:  inherit;\n",
       "        }</style><table id=\"T_c3d5ed1c_6b81_11eb_b546_9cf387bb866c\" ><caption>dati osservati nelle province sotto ipotesi di uguale distribuzione dei test</caption><thead>    <tr>        <th class=\"blank level0\" ></th>        <th class=\"col_heading level0 col0\" >POS</th>        <th class=\"col_heading level0 col1\" >NEG</th>        <th class=\"col_heading level0 col2\" >TOT</th>        <th class=\"col_heading level0 col3\" >TP</th>    </tr></thead><tbody>\n",
       "                <tr>\n",
       "                        <th id=\"T_c3d5ed1c_6b81_11eb_b546_9cf387bb866clevel0_row0\" class=\"row_heading level0 row0\" >prov1</th>\n",
       "                        <td id=\"T_c3d5ed1c_6b81_11eb_b546_9cf387bb866crow0_col0\" class=\"data row0 col0\" >233.07</td>\n",
       "                        <td id=\"T_c3d5ed1c_6b81_11eb_b546_9cf387bb866crow0_col1\" class=\"data row0 col1\" >2966.93</td>\n",
       "                        <td id=\"T_c3d5ed1c_6b81_11eb_b546_9cf387bb866crow0_col2\" class=\"data row0 col2\" >3200</td>\n",
       "                        <td id=\"T_c3d5ed1c_6b81_11eb_b546_9cf387bb866crow0_col3\" class=\"data row0 col3\" >7.28%</td>\n",
       "            </tr>\n",
       "            <tr>\n",
       "                        <th id=\"T_c3d5ed1c_6b81_11eb_b546_9cf387bb866clevel0_row1\" class=\"row_heading level0 row1\" >prov2</th>\n",
       "                        <td id=\"T_c3d5ed1c_6b81_11eb_b546_9cf387bb866crow1_col0\" class=\"data row1 col0\" >175.76</td>\n",
       "                        <td id=\"T_c3d5ed1c_6b81_11eb_b546_9cf387bb866crow1_col1\" class=\"data row1 col1\" >2124.24</td>\n",
       "                        <td id=\"T_c3d5ed1c_6b81_11eb_b546_9cf387bb866crow1_col2\" class=\"data row1 col2\" >2300</td>\n",
       "                        <td id=\"T_c3d5ed1c_6b81_11eb_b546_9cf387bb866crow1_col3\" class=\"data row1 col3\" >7.64%</td>\n",
       "            </tr>\n",
       "            <tr>\n",
       "                        <th id=\"T_c3d5ed1c_6b81_11eb_b546_9cf387bb866clevel0_row2\" class=\"row_heading level0 row2\" >TOT</th>\n",
       "                        <td id=\"T_c3d5ed1c_6b81_11eb_b546_9cf387bb866crow2_col0\" class=\"data row2 col0\" >408.82</td>\n",
       "                        <td id=\"T_c3d5ed1c_6b81_11eb_b546_9cf387bb866crow2_col1\" class=\"data row2 col1\" >5091.18</td>\n",
       "                        <td id=\"T_c3d5ed1c_6b81_11eb_b546_9cf387bb866crow2_col2\" class=\"data row2 col2\" >5500</td>\n",
       "                        <td id=\"T_c3d5ed1c_6b81_11eb_b546_9cf387bb866crow2_col3\" class=\"data row2 col3\" >7.43%</td>\n",
       "            </tr>\n",
       "    </tbody></table>"
      ],
      "text/plain": [
       "<pandas.io.formats.style.Styler at 0x7fe682766a30>"
      ]
     },
     "execution_count": 51,
     "metadata": {},
     "output_type": "execute_result"
    }
   ],
   "source": [
    "prov12_obs.style.apply(highlight_cols, axis=None).format({\n",
    "    'POS': \"{:.2f}\",\n",
    "    'NEG': \"{:.2f}\",\n",
    "    'TOT': \"{:.0f}\",\n",
    "    'TP': \"{:.2%}\", 'pct': \"{:.2%}\"\n",
    "}).set_caption(\n",
    "    \"dati osservati nelle province sotto ipotesi di uguale distribuzione dei test\"\n",
    ")"
   ]
  },
  {
   "cell_type": "code",
   "execution_count": 52,
   "metadata": {},
   "outputs": [],
   "source": [
    "_ = \"\"\"Latex(prov12_obs.to_latex(\n",
    "    formatters={\n",
    "        'POS': \"{:.2f}\".format,\n",
    "        'NEG': \"{:.2f}\".format,\n",
    "        'TOT': \"{:.0f}\".format,\n",
    "        'TP': \"{:.2%}\".format,\n",
    "        'pct': \"{:.2%}\".format\n",
    "    },\n",
    "    caption=\"dati province ipotizzando uguale distribuzione dei test\"\n",
    "))\"\"\""
   ]
  },
  {
   "cell_type": "code",
   "execution_count": 53,
   "metadata": {},
   "outputs": [
    {
     "data": {
      "image/png": "[encoded data removed]",
      "text/plain": [
       "<Figure size 864x288 with 2 Axes>"
      ]
     },
     "metadata": {},
     "output_type": "display_data"
    }
   ],
   "source": [
    "fig, ax = plt.subplots(1, 2, figsize=(12, 4))\n",
    "\n",
    "prov12_obs[['NEG', 'POS']].plot(kind='bar', stacked=True, ec='k', ax=ax[0])\n",
    "ax[0].set(\n",
    "    ylabel='casi testati',\n",
    ")\n",
    "\n",
    "prov12_obs[['TP']].plot(kind='bar', ec='k', ax=ax[1])\n",
    "ax[1].set(\n",
    "    ylabel='tasso positività',\n",
    ")\n",
    "ax[1].yaxis.set_major_formatter(mtick.PercentFormatter(1, 0))\n",
    "fig.suptitle('Sunto dati per ugual percentuale di test nelle due province', fontsize=20)\n",
    "plt.show()"
   ]
  },
  {
   "cell_type": "code",
   "execution_count": 54,
   "metadata": {},
   "outputs": [],
   "source": [
    "prov12_exp = pd.DataFrame({\n",
    "    'POS': [prov12_obs.TOT.prov1*prov12_obs.TP.TOT, prov12_obs.TOT.prov2*prov12_obs.TP.TOT],\n",
    "    'NEG': [np.nan, np.nan],\n",
    "    'TOT': [prov12_obs.TOT.prov1, prov12_obs.TOT.prov2]\n",
    "}, index=['prov1', 'prov2'])\n",
    "prov12_exp['NEG'] = prov12_exp.TOT - prov12_exp.POS\n",
    "prov12_exp_sum = prov12_exp.sum(axis=0)\n",
    "prov12_exp_sum.name = 'TOT'\n",
    "prov12_exp = prov12_exp.append(prov12_exp_sum)\n",
    "prov12_exp['TP'] = prov12_exp.POS / prov12_exp.TOT"
   ]
  },
  {
   "cell_type": "code",
   "execution_count": 55,
   "metadata": {},
   "outputs": [
    {
     "data": {
      "text/markdown": [
       "\n",
       "e ipotizziamo che il tasso di positività\n",
       "sia il medesimo, pari al tasso di positività\n",
       "complessivo 7.43%, \n",
       "calcolando i positivi (e negativi) attesi\n"
      ],
      "text/plain": [
       "<IPython.core.display.Markdown object>"
      ]
     },
     "execution_count": 55,
     "metadata": {},
     "output_type": "execute_result"
    }
   ],
   "source": [
    "Markdown(f\"\"\"\n",
    "e ipotizziamo che il tasso di positività\n",
    "sia il medesimo, pari al tasso di positività\n",
    "complessivo {prov12_obs.TP.TOT:.2%}, \n",
    "calcolando i positivi (e negativi) attesi\n",
    "\"\"\")"
   ]
  },
  {
   "cell_type": "code",
   "execution_count": 56,
   "metadata": {},
   "outputs": [
    {
     "data": {
      "text/html": [
       "<style  type=\"text/css\" >\n",
       "#T_c4381ad2_6b81_11eb_b546_9cf387bb866crow0_col0,#T_c4381ad2_6b81_11eb_b546_9cf387bb866crow1_col0,#T_c4381ad2_6b81_11eb_b546_9cf387bb866crow2_col0{\n",
       "            background-color:  red;\n",
       "             color:  white;\n",
       "        }#T_c4381ad2_6b81_11eb_b546_9cf387bb866crow0_col1,#T_c4381ad2_6b81_11eb_b546_9cf387bb866crow1_col1,#T_c4381ad2_6b81_11eb_b546_9cf387bb866crow2_col1{\n",
       "            background-color:  green;\n",
       "             color:  white;\n",
       "        }#T_c4381ad2_6b81_11eb_b546_9cf387bb866crow0_col2,#T_c4381ad2_6b81_11eb_b546_9cf387bb866crow0_col3,#T_c4381ad2_6b81_11eb_b546_9cf387bb866crow1_col2,#T_c4381ad2_6b81_11eb_b546_9cf387bb866crow1_col3,#T_c4381ad2_6b81_11eb_b546_9cf387bb866crow2_col2,#T_c4381ad2_6b81_11eb_b546_9cf387bb866crow2_col3{\n",
       "            background-color:  inherit;\n",
       "             color:  inherit;\n",
       "        }</style><table id=\"T_c4381ad2_6b81_11eb_b546_9cf387bb866c\" ><caption>dati attesi nelle province sotto ipotesi di uguale distribuzione dei test e uguale tasso di positività</caption><thead>    <tr>        <th class=\"blank level0\" ></th>        <th class=\"col_heading level0 col0\" >POS</th>        <th class=\"col_heading level0 col1\" >NEG</th>        <th class=\"col_heading level0 col2\" >TOT</th>        <th class=\"col_heading level0 col3\" >TP</th>    </tr></thead><tbody>\n",
       "                <tr>\n",
       "                        <th id=\"T_c4381ad2_6b81_11eb_b546_9cf387bb866clevel0_row0\" class=\"row_heading level0 row0\" >prov1</th>\n",
       "                        <td id=\"T_c4381ad2_6b81_11eb_b546_9cf387bb866crow0_col0\" class=\"data row0 col0\" >237.86</td>\n",
       "                        <td id=\"T_c4381ad2_6b81_11eb_b546_9cf387bb866crow0_col1\" class=\"data row0 col1\" >2962.14</td>\n",
       "                        <td id=\"T_c4381ad2_6b81_11eb_b546_9cf387bb866crow0_col2\" class=\"data row0 col2\" >3200</td>\n",
       "                        <td id=\"T_c4381ad2_6b81_11eb_b546_9cf387bb866crow0_col3\" class=\"data row0 col3\" >7.43%</td>\n",
       "            </tr>\n",
       "            <tr>\n",
       "                        <th id=\"T_c4381ad2_6b81_11eb_b546_9cf387bb866clevel0_row1\" class=\"row_heading level0 row1\" >prov2</th>\n",
       "                        <td id=\"T_c4381ad2_6b81_11eb_b546_9cf387bb866crow1_col0\" class=\"data row1 col0\" >170.96</td>\n",
       "                        <td id=\"T_c4381ad2_6b81_11eb_b546_9cf387bb866crow1_col1\" class=\"data row1 col1\" >2129.04</td>\n",
       "                        <td id=\"T_c4381ad2_6b81_11eb_b546_9cf387bb866crow1_col2\" class=\"data row1 col2\" >2300</td>\n",
       "                        <td id=\"T_c4381ad2_6b81_11eb_b546_9cf387bb866crow1_col3\" class=\"data row1 col3\" >7.43%</td>\n",
       "            </tr>\n",
       "            <tr>\n",
       "                        <th id=\"T_c4381ad2_6b81_11eb_b546_9cf387bb866clevel0_row2\" class=\"row_heading level0 row2\" >TOT</th>\n",
       "                        <td id=\"T_c4381ad2_6b81_11eb_b546_9cf387bb866crow2_col0\" class=\"data row2 col0\" >408.82</td>\n",
       "                        <td id=\"T_c4381ad2_6b81_11eb_b546_9cf387bb866crow2_col1\" class=\"data row2 col1\" >5091.17</td>\n",
       "                        <td id=\"T_c4381ad2_6b81_11eb_b546_9cf387bb866crow2_col2\" class=\"data row2 col2\" >5500</td>\n",
       "                        <td id=\"T_c4381ad2_6b81_11eb_b546_9cf387bb866crow2_col3\" class=\"data row2 col3\" >7.43%</td>\n",
       "            </tr>\n",
       "    </tbody></table>"
      ],
      "text/plain": [
       "<pandas.io.formats.style.Styler at 0x7fe681ebffa0>"
      ]
     },
     "execution_count": 56,
     "metadata": {},
     "output_type": "execute_result"
    }
   ],
   "source": [
    "prov12_exp.style.apply(highlight_cols, axis=None).format({\n",
    "    'POS': \"{:.2f}\",\n",
    "    'NEG': \"{:.2f}\",\n",
    "    'TOT': \"{:.0f}\",\n",
    "    'TP': \"{:.2%}\", 'pct': \"{:.2%}\"\n",
    "}).set_caption(\n",
    "    \"dati attesi nelle province sotto ipotesi di uguale distribuzione dei test\"\n",
    "    \" e uguale tasso di positività\"\n",
    ")"
   ]
  },
  {
   "cell_type": "code",
   "execution_count": 57,
   "metadata": {},
   "outputs": [],
   "source": [
    "_ = \"\"\"Latex(prov12_exp.to_latex(\n",
    "    formatters={\n",
    "        'POS': \"{:.2f}\".format,\n",
    "        'NEG': \"{:.2f}\".format,\n",
    "        'TOT': \"{:.0f}\".format,\n",
    "        'TP': \"{:.2%}\".format,\n",
    "        'pct': \"{:.2%}\".format\n",
    "    },\n",
    "    caption=\"attesi province ipotizzando uguale distribuzione dei test\"\n",
    "))\"\"\""
   ]
  },
  {
   "cell_type": "code",
   "execution_count": 58,
   "metadata": {},
   "outputs": [
    {
     "data": {
      "image/png": "[encoded data removed]",
      "text/plain": [
       "<Figure size 864x288 with 2 Axes>"
      ]
     },
     "metadata": {},
     "output_type": "display_data"
    }
   ],
   "source": [
    "fig, ax = plt.subplots(1, 2, figsize=(12, 4))\n",
    "\n",
    "prov12_exp[['NEG', 'POS']].plot(kind='bar', stacked=True, ec='k', ax=ax[0])\n",
    "ax[0].set(\n",
    "    ylabel='casi testati',\n",
    ")\n",
    "\n",
    "prov12_exp[['TP']].plot(kind='bar', ec='k', ax=ax[1])\n",
    "ax[1].set(\n",
    "    ylabel='tasso positività',\n",
    ")\n",
    "ax[1].yaxis.set_major_formatter(mtick.PercentFormatter(1, 0))\n",
    "fig.suptitle('Valori attesi per test ipotesi nulla di ugual tasso di positività', fontsize=20)\n",
    "plt.show()"
   ]
  },
  {
   "cell_type": "markdown",
   "metadata": {},
   "source": [
    "Possiamo ora calcolare il valore del $\\chi^2$: come sopra, indicando con `obs` (observed) i risultati osservati e `exp` (expected) gli attesi, le celle della seguente tabella sono calcolate come\n",
    "\n",
    "$$\n",
    "\\frac{\n",
    "    (\\mathrm{obs} - \\mathrm{exp})^2\n",
    "}{\n",
    "    \\mathrm{exp}\n",
    "}\n",
    "$$"
   ]
  },
  {
   "cell_type": "code",
   "execution_count": 59,
   "metadata": {},
   "outputs": [],
   "source": [
    "chi_squared_matrix = (prov12_obs.iloc[:2, :2] - prov12_exp.iloc[:2, :2])**2 / prov12_exp.iloc[:2, :2]"
   ]
  },
  {
   "cell_type": "code",
   "execution_count": 60,
   "metadata": {},
   "outputs": [
    {
     "data": {
      "text/html": [
       "<style  type=\"text/css\" >\n",
       "#T_c48818c0_6b81_11eb_b546_9cf387bb866crow0_col0,#T_c48818c0_6b81_11eb_b546_9cf387bb866crow1_col0{\n",
       "            background-color:  red;\n",
       "             color:  white;\n",
       "        }#T_c48818c0_6b81_11eb_b546_9cf387bb866crow0_col1,#T_c48818c0_6b81_11eb_b546_9cf387bb866crow1_col1{\n",
       "            background-color:  green;\n",
       "             color:  white;\n",
       "        }</style><table id=\"T_c48818c0_6b81_11eb_b546_9cf387bb866c\" ><caption>matrice chi-squared</caption><thead>    <tr>        <th class=\"blank level0\" ></th>        <th class=\"col_heading level0 col0\" >POS</th>        <th class=\"col_heading level0 col1\" >NEG</th>    </tr></thead><tbody>\n",
       "                <tr>\n",
       "                        <th id=\"T_c48818c0_6b81_11eb_b546_9cf387bb866clevel0_row0\" class=\"row_heading level0 row0\" >prov1</th>\n",
       "                        <td id=\"T_c48818c0_6b81_11eb_b546_9cf387bb866crow0_col0\" class=\"data row0 col0\" >0.0967</td>\n",
       "                        <td id=\"T_c48818c0_6b81_11eb_b546_9cf387bb866crow0_col1\" class=\"data row0 col1\" >0.0078</td>\n",
       "            </tr>\n",
       "            <tr>\n",
       "                        <th id=\"T_c48818c0_6b81_11eb_b546_9cf387bb866clevel0_row1\" class=\"row_heading level0 row1\" >prov2</th>\n",
       "                        <td id=\"T_c48818c0_6b81_11eb_b546_9cf387bb866crow1_col0\" class=\"data row1 col0\" >0.1345</td>\n",
       "                        <td id=\"T_c48818c0_6b81_11eb_b546_9cf387bb866crow1_col1\" class=\"data row1 col1\" >0.0108</td>\n",
       "            </tr>\n",
       "    </tbody></table>"
      ],
      "text/plain": [
       "<pandas.io.formats.style.Styler at 0x7fe6830f5a00>"
      ]
     },
     "execution_count": 60,
     "metadata": {},
     "output_type": "execute_result"
    }
   ],
   "source": [
    "chi_squared_matrix.style.apply(highlight_cols, axis=None).format({\n",
    "    'POS': \"{:.4f}\",\n",
    "    'NEG': \"{:.4f}\",\n",
    "    'TOT': \"{:.0f}\",\n",
    "    'TP': \"{:.2%}\", 'pct': \"{:.2%}\"\n",
    "}).set_caption(\n",
    "    \"matrice chi-squared\"\n",
    ")"
   ]
  },
  {
   "cell_type": "code",
   "execution_count": 61,
   "metadata": {},
   "outputs": [],
   "source": [
    "_ = \"\"\"Latex(chi_squared_matrix.to_latex(\n",
    "    formatters={\n",
    "        'POS': \"{:.4f}\".format,\n",
    "        'NEG': \"{:.4f}\".format,\n",
    "        'TOT': \"{:.0f}\".format,\n",
    "        'TP': \"{:.2%}\".format,\n",
    "        'pct': \"{:.2%}\".format\n",
    "    },\n",
    "    caption=\"matrice chi-squared\"\n",
    "))\"\"\""
   ]
  },
  {
   "cell_type": "code",
   "execution_count": 62,
   "metadata": {},
   "outputs": [],
   "source": [
    "chi_squared = chi_squared_matrix.values.sum()"
   ]
  },
  {
   "cell_type": "code",
   "execution_count": 63,
   "metadata": {},
   "outputs": [],
   "source": [
    "p_value = sps.chi2.sf(chi_squared, df=1)"
   ]
  },
  {
   "cell_type": "code",
   "execution_count": 64,
   "metadata": {},
   "outputs": [
    {
     "data": {
      "text/markdown": [
       "\n",
       "La somma dei valori della tabella\n",
       "è la statistica del chi-quadrato, \n",
       "$\\chi^2 = 0.25$ che,\n",
       "per 1 grado di libertà, corrisponde ad\n",
       "un $p$-value di 0.6173\n",
       "(61.73%)\n",
       "notevolmente maggiore dei livelli\n",
       "di significatività $\\alpha$\n",
       "stabiliti in precedenza.\n",
       "\n",
       "Dovremo perciò **accettare** l'ipotesi nulla $H_0$.\n"
      ],
      "text/plain": [
       "<IPython.core.display.Markdown object>"
      ]
     },
     "execution_count": 64,
     "metadata": {},
     "output_type": "execute_result"
    }
   ],
   "source": [
    "Markdown(fr\"\"\"\n",
    "La somma dei valori della tabella\n",
    "è la statistica del chi-quadrato, \n",
    "$\\chi^2 = {chi_squared:.2f}$ che,\n",
    "per 1 grado di libertà, corrisponde ad\n",
    "un $p$-value di {p_value:.4f}\n",
    "({p_value:.2%})\n",
    "notevolmente maggiore dei livelli\n",
    "di significatività $\\alpha$\n",
    "stabiliti in precedenza.\n",
    "\n",
    "Dovremo perciò **accettare** l'ipotesi nulla $H_0$.\n",
    "\"\"\")"
   ]
  },
  {
   "cell_type": "code",
   "execution_count": 65,
   "metadata": {},
   "outputs": [
    {
     "data": {
      "image/png": "[encoded data removed]",
      "text/plain": [
       "<Figure size 864x432 with 1 Axes>"
      ]
     },
     "metadata": {},
     "output_type": "display_data"
    }
   ],
   "source": [
    "fig, ax = plt.subplots(figsize=(12, 6))\n",
    "chi_dist = sps.chi2(df=1)\n",
    "chi_dist_x = np.linspace(chi_dist.ppf(1-.7), chi_dist.ppf(.999), 100)\n",
    "chi_dist_y = chi_dist.sf(chi_dist_x)\n",
    "ax.plot(chi_dist_x, chi_dist_y, label='$\\chi^2$ S.F.')\n",
    "ax.scatter(chi_squared, p_value, color='k', s=100, label='valore')\n",
    "\n",
    "ax.axhline(.1, color='r', ls='-', lw=4, label=r'$\\alpha=10\\%$')\n",
    "ax.axvline(chi_dist.isf(.1), color='r', lw=4, ls='-')\n",
    "\n",
    "ax.axhline(.05, color='r', ls='--', lw=2, label=r'$\\alpha=5\\%$')\n",
    "ax.axvline(chi_dist.isf(.05), color='r', ls='--', lw=2)\n",
    "\n",
    "ax.axhline(.01, color='r', ls=':', label=r'$\\alpha=1\\%$')\n",
    "ax.axvline(chi_dist.isf(.01), color='r', ls=':')\n",
    "\n",
    "ax.text(\n",
    "    chi_squared+.25, p_value,\n",
    "    f\"$p$-val\\n{p_value:.2%}\",\n",
    "    ha='left', va='center',\n",
    ")\n",
    "ax.axhline(0, color='k', alpha=.25)\n",
    "ax.yaxis.set_major_formatter(mtick.PercentFormatter(1, 0))\n",
    "ax.legend()\n",
    "ax.set_title(\n",
    "    '$\\chi^2$ chi-squared test e $p$-value', fontsize=20\n",
    ")\n",
    "plt.show()"
   ]
  },
  {
   "cell_type": "code",
   "execution_count": 66,
   "metadata": {},
   "outputs": [
    {
     "data": {
      "text/markdown": [
       "\n",
       "Possiamo dunque infine affermare che\n",
       "\n",
       "- supponendo che le due province abbiano effettuato la stessa percentuale di test `A` e `B`\n",
       "- sotto ipotesi nulla che il tasso di positività nelle due province sia il medesimo\n",
       "\n",
       "la differenza di positivi osservata **NON è statisticamente significativa** \n",
       "($p$-val 0.6173).\n"
      ],
      "text/plain": [
       "<IPython.core.display.Markdown object>"
      ]
     },
     "execution_count": 66,
     "metadata": {},
     "output_type": "execute_result"
    }
   ],
   "source": [
    "Markdown(f\"\"\"\n",
    "Possiamo dunque infine affermare che\n",
    "\n",
    "- supponendo che le due province abbiano effettuato la stessa percentuale di test `A` e `B`\n",
    "- sotto ipotesi nulla che il tasso di positività nelle due province sia il medesimo\n",
    "\n",
    "la differenza di positivi osservata **NON è statisticamente significativa** \n",
    "($p$-val {p_value:.4f}).\n",
    "\"\"\")"
   ]
  },
  {
   "cell_type": "markdown",
   "metadata": {},
   "source": [
    "***\n",
    "\n",
    "Abbiamo così dimostrato come l'utilizzo di differenti test in differenti percentuali su due campioni di popolazione sia di notevole importanza al fine di confrontare i due campioni e determinare se le differenze osservate siano statisticamente significative o solo dovute al caso."
   ]
  },
  {
   "cell_type": "code",
   "execution_count": 67,
   "metadata": {},
   "outputs": [
    {
     "data": {
      "text/markdown": [
       "\n",
       "Nell'esempio infatti, le due province avevano incidenze molto simili \n",
       "(5.1% per la `prov1` e 5.3% per la `prov2`) ma \n",
       "l'utilizzo in differenti proporzioni di tests con differenti sensibilità e specificità,\n",
       "se ignorato, può indurre a considerare statisticamente significativa\n",
       "la differenza nei tassi di positività complessivi ($p$-val 0.00083).\n",
       "\n",
       "Se invece la differente distribuzione dei test viene considerata, \n",
       "risulta evidente che i positivi osservati non sono significativamente\n",
       "differenti ($p$-val 0.62).\n"
      ],
      "text/plain": [
       "<IPython.core.display.Markdown object>"
      ]
     },
     "execution_count": 67,
     "metadata": {},
     "output_type": "execute_result"
    }
   ],
   "source": [
    "Markdown(fr\"\"\"\n",
    "Nell'esempio infatti, le due province avevano incidenze molto simili \n",
    "({I_1:.1%} per la `prov1` e {I_2:.1%} per la `prov2`) ma \n",
    "l'utilizzo in differenti proporzioni di tests con differenti sensibilità e specificità,\n",
    "se ignorato, può indurre a considerare statisticamente significativa\n",
    "la differenza nei tassi di positività complessivi ($p$-val {p_value_a:.5f}).\n",
    "\n",
    "Se invece la differente distribuzione dei test viene considerata, \n",
    "risulta evidente che i positivi osservati non sono significativamente\n",
    "differenti ($p$-val {p_value:.2f}).\n",
    "\"\"\")"
   ]
  }
 ],
 "metadata": {
  "hide_input": false,
  "kernelspec": {
   "display_name": "Python 3",
   "language": "python",
   "name": "python3"
  },
  "language_info": {
   "codemirror_mode": {
    "name": "ipython",
    "version": 3
   },
   "file_extension": ".py",
   "mimetype": "text/x-python",
   "name": "python",
   "nbconvert_exporter": "python",
   "pygments_lexer": "ipython3",
   "version": "3.8.5"
  },
  "nbTranslate": {
   "displayLangs": [
    "*"
   ],
   "hotkey": "alt-t",
   "langInMainMenu": true,
   "sourceLang": "en",
   "targetLang": "fr",
   "useGoogleTranslate": true
  },
  "toc": {
   "base_numbering": 1,
   "nav_menu": {},
   "number_sections": true,
   "sideBar": true,
   "skip_h1_title": false,
   "title_cell": "Table of Contents",
   "title_sidebar": "Contents",
   "toc_cell": false,
   "toc_position": {},
   "toc_section_display": true,
   "toc_window_display": false
  }
 },
 "nbformat": 4,
 "nbformat_minor": 4
}
