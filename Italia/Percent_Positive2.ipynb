{
 "cells": [
  {
   "cell_type": "markdown",
   "metadata": {},
   "source": [
    "# Stima malati reali\n",
    "\n",
    "Stima incidenza di malati reali su casi testati.\n",
    "\n",
    "> Max Pierini\n",
    "\n",
    "***"
   ]
  },
  {
   "cell_type": "code",
   "execution_count": 1,
   "metadata": {},
   "outputs": [],
   "source": [
    "import numpy as np\n",
    "import pandas as pd\n",
    "import statsmodels.api as sm\n",
    "\n",
    "import matplotlib.pyplot as plt\n",
    "import matplotlib.ticker as mtick\n",
    "import seaborn as sns\n",
    "sns.set()\n",
    "\n",
    "from IPython.display import display, Markdown"
   ]
  },
  {
   "cell_type": "markdown",
   "metadata": {},
   "source": [
    "Si suppone che\n",
    "\n",
    "- i nuovi casi testati giornalieri $\\odot$ comunicati dal Dipartimento di Protezione Civile (DPC) siano soggetti testati giornalieri mai risultati positivi\n",
    "\n",
    "- i test totali _TOT_ comunicati dal DPC siano test che comprendono anche controlli e follow-up a soggetti anche già risultati positivi\n",
    "\n",
    "si stima pertanto l'incidenza reale $I$ di malatti reali $M$ sui casi testati giornalieri, ovvero $I=M/\\odot$."
   ]
  },
  {
   "cell_type": "markdown",
   "metadata": {},
   "source": [
    "I casi testati totali giornalieri $\\odot$ sono somma la dei casi testati positivi $\\oplus$ e negativi $\\ominus$\n",
    "\n",
    "$$\n",
    "\\odot = \\oplus + \\ominus\n",
    "$$\n",
    "\n",
    "Dinstinguendo tra test molecolari $m$ e antigenici $a$, i test positivi sono la somma dei positivi molecolari $\\oplus_m$ e antigenici $\\oplus_a$. Ugualmente diremo per i testi negativi molecolari $\\ominus_m$ e antigenici $\\ominus_a$\n",
    "\n",
    "$$\n",
    "\\oplus = \\oplus_m + \\oplus_a \\;\\;,\\;\\; \\ominus = \\ominus_m + \\ominus_a\n",
    "$$\n",
    "\n",
    "Notiamo però che i **malati reali** $M$ sono la somma di veri positivi VP e falsi negativi FN\n",
    "\n",
    "$$\n",
    "M = \\mathrm{VP} + \\mathrm{FN}\n",
    "$$\n",
    "\n",
    "parimenti, i **non malati reali** $\\overline{M}$ sono la somma di veri negativi VN e falsi positivi FP\n",
    "\n",
    "$$\n",
    "\\overline{M} = \\mathrm{VN} + \\mathrm{FP}\n",
    "$$\n",
    "\n",
    "avendo però molecolari e antigenici differenti sensibilità **SE** e specificità **SP** e sapendo che\n",
    "\n",
    "$$\n",
    "\\mathbf{SE} = p(\\oplus|M) = p(\\mathrm{VP})\n",
    "$$\n",
    "\n",
    "$$\n",
    "1 - \\mathbf{SE} = p(\\ominus|M) = p(\\mathrm{FN})\n",
    "$$\n",
    "\n",
    "$$\n",
    "\\mathbf{SP} = p(\\ominus|\\overline{M}) = p(\\mathrm{VN})\n",
    "$$\n",
    "\n",
    "$$\n",
    "1 - \\mathbf{SP} = p(\\oplus|\\overline{M}) = p(\\mathrm{FP})\n",
    "$$\n",
    "\n",
    "separiamo malati reali da test molecolare e antigenico\n",
    "\n",
    "$$\n",
    "M_m = \\mathrm{VP}_m + \\mathrm{FN}_m \\;\\;,\\;\\; M_a = \\mathrm{VP}_a + \\mathrm{FN}_a\n",
    "$$\n",
    "\n",
    "$$\n",
    "\\overline{M}_m = \\mathrm{VN}_m + \\mathrm{FP}_m \\;\\;,\\;\\; \\overline{M}_a = \\mathrm{VN}_a + \\mathrm{FP}_a\n",
    "$$\n",
    "\n",
    "si stimano pertanto VP, VN, FP ed FN da molecolari ed antigenici in base alle formule di **SE** ed **SP**.\n",
    "\n",
    "Avremo quindi per i molecolari\n",
    "\n",
    "$$\n",
    "\\mathrm{VP}_m = \\mathbf{SE}_m \\oplus_m \\;\\;,\\;\\; \\mathrm{FP}_m = (1 - \\mathbf{SP}_m) \\oplus_m\n",
    "$$\n",
    "\n",
    "$$\n",
    "\\mathrm{VN}_m = \\mathbf{SP}_m \\ominus_m \\;\\;,\\;\\; \\mathrm{FN}_m = (1 - \\mathbf{SE}_m) \\ominus_m\n",
    "$$\n",
    "\n",
    "e per gli antigenici\n",
    "\n",
    "$$\n",
    "\\mathrm{VP}_a = \\mathbf{SE}_a \\oplus_a \\;\\;,\\;\\; \\mathrm{FP}_a = (1 - \\mathbf{SP}_a) \\oplus_a\n",
    "$$\n",
    "\n",
    "$$\n",
    "\\mathrm{VN}_a = \\mathbf{SP}_a \\ominus_a \\;\\;,\\;\\; \\mathrm{FN}_a = (1 - \\mathbf{SE}_a) \\ominus_a\n",
    "$$\n",
    "\n",
    "Note sensibilità, specificità e test positivi di molecolari e antigenici, possiamo facilmente calcolare veri e falsi positivi. Per stimare però veri e falsi negativi manca il dato di test negativi (perché il dato dei test totali _TOT_ molecolari e antigenici comunicato dal DPC è comprensivo di test di controllo e follow-up che, anche in caso di positività, non verrebbero mai comunicati come _nuovi casi positivi_). Si suppone pertanto che il rapporto negativi molecolari su totali sia proporzionale ad un parametro $k$ che stimiamo come rapporto tra test totali molecolari $TOT_m$ e test totali $TOT_m+TOT_a$\n",
    "\n",
    "$$\n",
    "k = \\frac{ TOT_m }{ TOT_m + TOT_a }\n",
    "$$\n",
    "\n",
    "Il totale dei casi testati negativi è \n",
    "\n",
    "$$\n",
    "\\ominus = \\odot - \\oplus\n",
    "$$\n",
    "\n",
    "stimiamo quindi i test negativi molecolari $\\mathbb{E}[\\ominus_m]$ e antigenici $\\mathbb{E}[\\ominus_a]$\n",
    "\n",
    "$$\n",
    "\\mathbb{E}[\\ominus_m] \\simeq k \\ominus \\;\\;,\\;\\; \\mathbb{E}[\\ominus_a] \\simeq (1-k) \\ominus\n",
    "$$\n",
    "\n",
    "possiamo così stimare il totale dei malati reali\n",
    "\n",
    "$$\n",
    "M = \\mathrm{VP}_m + \\mathrm{VP}_a + \\mathrm{FN}_m + \\mathrm{FN}_a\n",
    "$$\n",
    "\n",
    "come\n",
    "\n",
    "$$\n",
    "\\mathbb{E}[M] = \n",
    "\\mathbf{SE}_m \\oplus_m + \n",
    "\\mathbf{SE}_a \\oplus_a + \n",
    "(1 - \\mathbf{SE}_m) \\mathbb{E}[\\ominus_m] + \n",
    "(1 - \\mathbf{SE}_a) \\mathbb{E}[\\ominus_a]\n",
    "$$\n",
    "\n",
    "dunque l'incidenza giornaliera stimata sui casi testati risulterà\n",
    "\n",
    "$$\n",
    "\\mathbb{E}[I] = \\frac{ \\mathbb{E}[M] }{ \\odot }\n",
    "$$\n",
    "\n",
    "Notiamo che dipende soprattutto dalla sensibilità **SE**."
   ]
  },
  {
   "cell_type": "code",
   "execution_count": 2,
   "metadata": {},
   "outputs": [],
   "source": [
    "SEm = .95\n",
    "SPm = .98\n",
    "SEa = .70\n",
    "SPa = .95"
   ]
  },
  {
   "cell_type": "code",
   "execution_count": 3,
   "metadata": {},
   "outputs": [
    {
     "data": {
      "text/markdown": [
       "\n",
       "Da [ScienzaInRete](https://www.scienzainrete.it/articolo/test-nasofaringeo-antigenico-rapido-controllo-della-epidemia-come-e-quando-utilizzarlo)\n",
       "sappiamo che per i molecolari\n",
       "\n",
       "$$\n",
       "\\mathbf{SE}_m = 95\\% \\;\\;,\\;\\; \\mathbf{SP}_m = 98\\%\n",
       "$$\n",
       "\n",
       "e per gli antigenici\n",
       "\n",
       "$$\n",
       "\\mathbf{SE}_a = 70\\% \\;\\;,\\;\\; \\mathbf{SP}_a = 95\\%\n",
       "$$\n"
      ],
      "text/plain": [
       "<IPython.core.display.Markdown object>"
      ]
     },
     "metadata": {},
     "output_type": "display_data"
    }
   ],
   "source": [
    "display(Markdown(fr\"\"\"\n",
    "Da [ScienzaInRete](https://www.scienzainrete.it/articolo/test-nasofaringeo-antigenico-rapido-controllo-della-epidemia-come-e-quando-utilizzarlo)\n",
    "sappiamo che per i molecolari\n",
    "\n",
    "$$\n",
    "\\mathbf{{SE}}_m = {SEm*100:.0f}\\% \\;\\;,\\;\\; \\mathbf{{SP}}_m = {SPm*100:.0f}\\%\n",
    "$$\n",
    "\n",
    "e per gli antigenici\n",
    "\n",
    "$$\n",
    "\\mathbf{{SE}}_a = {SEa*100:.0f}\\% \\;\\;,\\;\\; \\mathbf{{SP}}_a = {SPa*100:.0f}\\%\n",
    "$$\n",
    "\"\"\"))"
   ]
  },
  {
   "cell_type": "code",
   "execution_count": 4,
   "metadata": {},
   "outputs": [],
   "source": [
    "df = pd.read_csv(\n",
    "    \"https://github.com/pcm-dpc/COVID-19/raw/master/dati-andamento-nazionale/\"\n",
    "    \"dpc-covid19-ita-andamento-nazionale.csv\",\n",
    "    parse_dates=['data'], index_col='data'\n",
    ")\n",
    "df.index = df.index.normalize()"
   ]
  },
  {
   "cell_type": "code",
   "execution_count": 5,
   "metadata": {},
   "outputs": [],
   "source": [
    "cols = [\n",
    "    'totale_casi',\n",
    "    'tamponi',\n",
    "    'casi_testati',\n",
    "    'totale_positivi_test_molecolare',\n",
    "    'totale_positivi_test_antigenico_rapido', \n",
    "    'tamponi_test_molecolare',\n",
    "    'tamponi_test_antigenico_rapido'\n",
    "]"
   ]
  },
  {
   "cell_type": "code",
   "execution_count": 6,
   "metadata": {},
   "outputs": [],
   "source": [
    "df_prev = df[cols].diff()"
   ]
  },
  {
   "cell_type": "code",
   "execution_count": 7,
   "metadata": {},
   "outputs": [],
   "source": [
    "df_prev.loc[df_prev.totale_casi<0, 'totale_casi'] = np.nan"
   ]
  },
  {
   "cell_type": "code",
   "execution_count": 8,
   "metadata": {},
   "outputs": [],
   "source": [
    "df_prev.loc[df_prev.casi_testati<0, 'casi_testati'] = np.nan"
   ]
  },
  {
   "cell_type": "code",
   "execution_count": 9,
   "metadata": {},
   "outputs": [],
   "source": [
    "df_prev.fillna(method='ffill', inplace=True)"
   ]
  },
  {
   "cell_type": "code",
   "execution_count": 10,
   "metadata": {},
   "outputs": [],
   "source": [
    "df_prev['TP_testati'] = df_prev.totale_casi / df_prev.casi_testati"
   ]
  },
  {
   "cell_type": "code",
   "execution_count": 11,
   "metadata": {},
   "outputs": [],
   "source": [
    "df_prev.loc[df_prev.TP_testati<=0, 'TP_testati'] = np.nan"
   ]
  },
  {
   "cell_type": "code",
   "execution_count": 12,
   "metadata": {},
   "outputs": [],
   "source": [
    "df_diff = df[cols].diff().dropna()"
   ]
  },
  {
   "cell_type": "code",
   "execution_count": 13,
   "metadata": {},
   "outputs": [],
   "source": [
    "df_diff['ratio_molecolare'] = df_diff.totale_positivi_test_molecolare / df_diff.tamponi_test_molecolare"
   ]
  },
  {
   "cell_type": "code",
   "execution_count": 14,
   "metadata": {},
   "outputs": [],
   "source": [
    "df_diff['TP_molecolare'] = df_diff.totale_positivi_test_molecolare / df_diff.casi_testati"
   ]
  },
  {
   "cell_type": "code",
   "execution_count": 15,
   "metadata": {},
   "outputs": [],
   "source": [
    "df_diff['ratio_antigenico'] = df_diff.totale_positivi_test_antigenico_rapido / df_diff.tamponi_test_antigenico_rapido"
   ]
  },
  {
   "cell_type": "code",
   "execution_count": 16,
   "metadata": {},
   "outputs": [],
   "source": [
    "df_diff['TP_antigenico'] = df_diff.totale_positivi_test_antigenico_rapido / df_diff.casi_testati"
   ]
  },
  {
   "cell_type": "code",
   "execution_count": 17,
   "metadata": {},
   "outputs": [],
   "source": [
    "df_diff['TP_tamponi'] = df_diff.totale_casi / df_diff.tamponi"
   ]
  },
  {
   "cell_type": "code",
   "execution_count": 18,
   "metadata": {},
   "outputs": [],
   "source": [
    "df_diff['TP_testati'] = df_diff.totale_casi / df_diff.casi_testati"
   ]
  },
  {
   "cell_type": "code",
   "execution_count": 19,
   "metadata": {},
   "outputs": [],
   "source": [
    "VPm = df_diff.totale_positivi_test_molecolare * SEm\n",
    "VPa = df_diff.totale_positivi_test_antigenico_rapido * SEa\n",
    "\n",
    "FPm = df_diff.totale_positivi_test_molecolare * (1 - SPm)\n",
    "FPa = df_diff.totale_positivi_test_antigenico_rapido * (1 - SPa)"
   ]
  },
  {
   "cell_type": "code",
   "execution_count": 20,
   "metadata": {},
   "outputs": [],
   "source": [
    "VP = VPm + VPa\n",
    "FP = FPm + FPa"
   ]
  },
  {
   "cell_type": "code",
   "execution_count": 21,
   "metadata": {},
   "outputs": [],
   "source": [
    "PmT = df_diff.tamponi_test_molecolare / (\n",
    "    df_diff.tamponi_test_antigenico_rapido +\n",
    "    df_diff.tamponi_test_molecolare\n",
    ")"
   ]
  },
  {
   "cell_type": "code",
   "execution_count": 22,
   "metadata": {},
   "outputs": [],
   "source": [
    "T_N = df_diff.casi_testati - df_diff.totale_casi"
   ]
  },
  {
   "cell_type": "code",
   "execution_count": 23,
   "metadata": {},
   "outputs": [],
   "source": [
    "TNm = T_N * PmT\n",
    "TNa = T_N * (1 - PmT)"
   ]
  },
  {
   "cell_type": "code",
   "execution_count": 24,
   "metadata": {},
   "outputs": [],
   "source": [
    "VNm = TNm * SPm\n",
    "VNa = TNa * SPa\n",
    "\n",
    "FNm = TNm * (1 - SEm)\n",
    "FNa = TNa * (1 - SEa)"
   ]
  },
  {
   "cell_type": "code",
   "execution_count": 25,
   "metadata": {},
   "outputs": [],
   "source": [
    "positivi = (VPm + VPa + FNm + FNa)\n",
    "negativi = (VNm + VNa + FPm + FPa)\n",
    "totali = df_diff.casi_testati"
   ]
  },
  {
   "cell_type": "code",
   "execution_count": 26,
   "metadata": {},
   "outputs": [],
   "source": [
    "#exp_TP = pd.DataFrame((positivi / (positivi + negativi)))\n",
    "exp_TP = pd.DataFrame(positivi / totali)\n",
    "exp_TP.columns = ['incidenza malati su casi testati']"
   ]
  },
  {
   "cell_type": "markdown",
   "metadata": {},
   "source": [
    "Incidenza giornaliera di malati reali su casi testati nell'ultima settimana (in percentuale)"
   ]
  },
  {
   "cell_type": "code",
   "execution_count": 27,
   "metadata": {},
   "outputs": [
    {
     "data": {
      "text/html": [
       "<div>\n",
       "<style scoped>\n",
       "    .dataframe tbody tr th:only-of-type {\n",
       "        vertical-align: middle;\n",
       "    }\n",
       "\n",
       "    .dataframe tbody tr th {\n",
       "        vertical-align: top;\n",
       "    }\n",
       "\n",
       "    .dataframe thead th {\n",
       "        text-align: right;\n",
       "    }\n",
       "</style>\n",
       "<table border=\"1\" class=\"dataframe\">\n",
       "  <thead>\n",
       "    <tr style=\"text-align: right;\">\n",
       "      <th></th>\n",
       "      <th>incidenza malati su casi testati</th>\n",
       "    </tr>\n",
       "    <tr>\n",
       "      <th>data</th>\n",
       "      <th></th>\n",
       "    </tr>\n",
       "  </thead>\n",
       "  <tbody>\n",
       "    <tr>\n",
       "      <th>2021-01-17</th>\n",
       "      <td>29.615962</td>\n",
       "    </tr>\n",
       "    <tr>\n",
       "      <th>2021-01-18</th>\n",
       "      <td>30.343497</td>\n",
       "    </tr>\n",
       "    <tr>\n",
       "      <th>2021-01-19</th>\n",
       "      <td>27.768520</td>\n",
       "    </tr>\n",
       "    <tr>\n",
       "      <th>2021-01-20</th>\n",
       "      <td>26.810020</td>\n",
       "    </tr>\n",
       "    <tr>\n",
       "      <th>2021-01-21</th>\n",
       "      <td>26.391506</td>\n",
       "    </tr>\n",
       "    <tr>\n",
       "      <th>2021-01-22</th>\n",
       "      <td>28.733357</td>\n",
       "    </tr>\n",
       "    <tr>\n",
       "      <th>2021-01-23</th>\n",
       "      <td>28.431508</td>\n",
       "    </tr>\n",
       "  </tbody>\n",
       "</table>\n",
       "</div>"
      ],
      "text/plain": [
       "            incidenza malati su casi testati\n",
       "data                                        \n",
       "2021-01-17                         29.615962\n",
       "2021-01-18                         30.343497\n",
       "2021-01-19                         27.768520\n",
       "2021-01-20                         26.810020\n",
       "2021-01-21                         26.391506\n",
       "2021-01-22                         28.733357\n",
       "2021-01-23                         28.431508"
      ]
     },
     "execution_count": 27,
     "metadata": {},
     "output_type": "execute_result"
    }
   ],
   "source": [
    "exp_TP.tail(7) * 100"
   ]
  },
  {
   "cell_type": "code",
   "execution_count": 31,
   "metadata": {
    "scrolled": true
   },
   "outputs": [
    {
     "data": {
      "image/png": "[encoded data removed]",
      "text/plain": [
       "<Figure size 1080x360 with 1 Axes>"
      ]
     },
     "metadata": {},
     "output_type": "display_data"
    }
   ],
   "source": [
    "fig, ax = plt.subplots(figsize=(15, 5), sharex=True)\n",
    "\n",
    "df_prev.plot(y='TP_testati', ax=ax, label='positivi / testati', ls='--', lw=2)\n",
    "\n",
    "exp_TP.plot(y='incidenza malati su casi testati', color='r', ax=ax, lw=5)\n",
    "\n",
    "ax.yaxis.set_major_formatter(mtick.PercentFormatter(1,0))\n",
    "ax.yaxis.set_ticks_position('both')\n",
    "ax.tick_params(labeltop=False, labelright=True)\n",
    "ax.set(\n",
    "    title=\"Stima dell'incidenza giornaliera di malati reali sui casi testati\",\n",
    "    ylim=(0, np.max([.4, ax.get_ylim()[1]])),\n",
    "    xlim=('2020-10-01', ax.get_xlim()[1])\n",
    ")\n",
    "ax.legend(loc='upper left')\n",
    "\n",
    "plt.show()"
   ]
  },
  {
   "cell_type": "code",
   "execution_count": 29,
   "metadata": {},
   "outputs": [],
   "source": [
    "err = exp_TP['incidenza malati su casi testati'] - df_diff.TP_testati\n",
    "err.colums = ['errore incidenza - positivi']"
   ]
  },
  {
   "cell_type": "code",
   "execution_count": 30,
   "metadata": {},
   "outputs": [
    {
     "data": {
      "image/png": "[encoded data removed]",
      "text/plain": [
       "<Figure size 1080x360 with 1 Axes>"
      ]
     },
     "metadata": {},
     "output_type": "display_data"
    }
   ],
   "source": [
    "fig, ax = plt.subplots(figsize=(15, 5), sharex=True)\n",
    "\n",
    "err.plot(\n",
    "    y='errore incidenza - positivi', \n",
    "    label='errore incidenza - positivi', \n",
    "    ax=ax, lw=3, kind='area',\n",
    "    alpha=.5, color='k'\n",
    ")\n",
    "\n",
    "ax.yaxis.set_major_formatter(mtick.PercentFormatter(1,0))\n",
    "ax.yaxis.set_ticks_position('both')\n",
    "ax.tick_params(labeltop=False, labelright=True)\n",
    "ax.set(\n",
    "    title='Errore stimato tra incidenza di malati e positivi nei casi testati giornalieri',\n",
    "    ylim=(0, np.max([.3, ax.get_ylim()[1]])),\n",
    ")\n",
    "ax.legend(loc='upper left')\n",
    "\n",
    "plt.show()"
   ]
  }
 ],
 "metadata": {
  "hide_input": false,
  "kernelspec": {
   "display_name": "Python 3",
   "language": "python",
   "name": "python3"
  },
  "language_info": {
   "codemirror_mode": {
    "name": "ipython",
    "version": 3
   },
   "file_extension": ".py",
   "mimetype": "text/x-python",
   "name": "python",
   "nbconvert_exporter": "python",
   "pygments_lexer": "ipython3",
   "version": "3.8.5"
  },
  "nbTranslate": {
   "displayLangs": [
    "*"
   ],
   "hotkey": "alt-t",
   "langInMainMenu": true,
   "sourceLang": "en",
   "targetLang": "fr",
   "useGoogleTranslate": true
  },
  "toc": {
   "base_numbering": 1,
   "nav_menu": {},
   "number_sections": true,
   "sideBar": true,
   "skip_h1_title": false,
   "title_cell": "Table of Contents",
   "title_sidebar": "Contents",
   "toc_cell": false,
   "toc_position": {},
   "toc_section_display": true,
   "toc_window_display": false
  }
 },
 "nbformat": 4,
 "nbformat_minor": 4
}
