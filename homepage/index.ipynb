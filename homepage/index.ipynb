{
 "cells": [
  {
   "cell_type": "markdown",
   "metadata": {},
   "source": [
    "***\n",
    "\n",
    "> Analisi dei dati della pandemia di COVID-19 in Italia e modelli predittivi\n",
    "\n",
    "Aggiornamenti automatici:\n",
    "\n",
    "- ore ~09:00 Nazioni e Continenti\n",
    "- ore ~18:00 Italia e Regioni\n",
    "\n",
    "***\n",
    "\n",
    "Per informazioni <a href='mailto:info@epidata.it'>info@epidata.it</a>"
   ]
  },
  {
   "cell_type": "markdown",
   "metadata": {},
   "source": [
    "***"
   ]
  },
  {
   "cell_type": "markdown",
   "metadata": {},
   "source": [
    "![ITALY](https://maxpierini.it/ncov/pics/ITA.png)"
   ]
  },
  {
   "cell_type": "code",
   "execution_count": null,
   "metadata": {},
   "outputs": [],
   "source": []
  }
 ],
 "metadata": {
  "kernelspec": {
   "display_name": "Python 3",
   "language": "python",
   "name": "python3"
  },
  "language_info": {
   "codemirror_mode": {
    "name": "ipython",
    "version": 3
   },
   "file_extension": ".py",
   "mimetype": "text/x-python",
   "name": "python",
   "nbconvert_exporter": "python",
   "pygments_lexer": "ipython3",
   "version": "3.8.3"
  }
 },
 "nbformat": 4,
 "nbformat_minor": 4
}
