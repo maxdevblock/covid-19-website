{
 "cells": [
  {
   "cell_type": "markdown",
   "metadata": {},
   "source": [
    "***\n",
    "\n",
    "> SITO WEB del gruppo epidemiologico **EpiDataItalia** "
   ]
  },
  {
   "cell_type": "markdown",
   "metadata": {},
   "source": [
    "***\n",
    "\n",
    "> Analisi dei dati della pandemia di COVID-19 in Italia e modelli predittivi\n",
    "\n",
    "Aggiornamenti automatici:\n",
    "\n",
    "- ore ~09:00 Nazioni e Continenti\n",
    "- ore ~19:00 Italia e Regioni\n",
    "\n",
    "***\n",
    "\n",
    "Per informazioni <a href='mailto:info@epidata.it'>info@epidata.it</a>"
   ]
  },
  {
   "cell_type": "markdown",
   "metadata": {},
   "source": [
    "***"
   ]
  },
  {
   "cell_type": "code",
   "execution_count": 1,
   "metadata": {},
   "outputs": [
    {
     "data": {
      "text/html": [
       "<img src=\"https://www.maxpierini.it/ncov/pics/ITA.png?dt=2020-10-20 08:02:04.746862\" width=\"400\"/>"
      ],
      "text/plain": [
       "<IPython.core.display.Image object>"
      ]
     },
     "execution_count": 1,
     "metadata": {},
     "output_type": "execute_result"
    }
   ],
   "source": [
    "from IPython.display import Image\n",
    "import datetime as dt\n",
    "Image(url=f'https://www.maxpierini.it/ncov/pics/ITA.png?dt={dt.datetime.now()}', width=400)"
   ]
  },
  {
   "cell_type": "markdown",
   "metadata": {},
   "source": [
    "***\n",
    "\n",
    "I dati italiani sono ricavati dal repository GitHub della **Presidenza del Consiglio dei Ministri** e **Dipartimento di Protezione Civile**: [Dati COVID-19 Italia](https://github.com/pcm-dpc/COVID-19).\n",
    "\n",
    "Per i dati delle altre nazioni è utilizzato il repository GitHub della **Johns Hopkins University**: [COVID-19 Data Repository by the Center for Systems Science and Engineering (CSSE) at Johns Hopkins University](https://github.com/CSSEGISandData/COVID-19).\n",
    "\n",
    "I sondaggi per la compliance della popolazione sono tratti dal repository GitHub di **YouGov**: [Imperial College London YouGov Covid 19 Behaviour Tracker Data Hub](https://github.com/YouGov-Data/covid-19-tracker)"
   ]
  },
  {
   "cell_type": "markdown",
   "metadata": {},
   "source": [
    "***\n",
    "\n",
    "Chi siamo:\n",
    "\n",
    "- **Max Pierini**, musicista e data analyst ([@maxdevblock](https://github.com/maxdevblock/)), appassionato di medicina e statistica bayesiana. Certificazioni DataCamp: [Statistician with R](PDF/SwR.pdf), [Data Analyst with Python](PDF/DAwP.pdf).\n",
    "\n",
    "- **Sandra Mazzoli**, Laurea in Scienze Biologiche, Specialista in Microbiologia, con vasta esperienza in virologia e biologia molecolare applicata alla microbiologia, epidemiologia; ex Direttore del CENTRO MST (Firenze); Professore a contratto Università di Firenze e Università La Sapienza Roma\n",
    "\n",
    "- **Alessio Pamovio**, musicista e insegnante, studioso di matematica e fisica"
   ]
  },
  {
   "cell_type": "code",
   "execution_count": null,
   "metadata": {},
   "outputs": [],
   "source": []
  }
 ],
 "metadata": {
  "kernelspec": {
   "display_name": "Python 3",
   "language": "python",
   "name": "python3"
  },
  "language_info": {
   "codemirror_mode": {
    "name": "ipython",
    "version": 3
   },
   "file_extension": ".py",
   "mimetype": "text/x-python",
   "name": "python",
   "nbconvert_exporter": "python",
   "pygments_lexer": "ipython3",
   "version": "3.8.3"
  }
 },
 "nbformat": 4,
 "nbformat_minor": 4
}
