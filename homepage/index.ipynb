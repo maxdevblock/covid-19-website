{
 "cells": [
  {
   "cell_type": "markdown",
   "metadata": {},
   "source": [
    "***\n",
    "\n",
    "> Analisi dei dati della pandemia di COVID-19 in Italia e modelli predittivi\n",
    "\n",
    "Aggiornamenti automatici:\n",
    "\n",
    "- ore ~09:00 Nazioni e Continenti\n",
    "- ore ~18:00 Italia e Regioni\n",
    "\n",
    "***\n",
    "\n",
    "Per informazioni <a href='mailto:info@epidata.it'>info@epidata.it</a>"
   ]
  },
  {
   "cell_type": "markdown",
   "metadata": {},
   "source": [
    "***"
   ]
  },
  {
   "cell_type": "code",
   "execution_count": 5,
   "metadata": {},
   "outputs": [
    {
     "data": {
      "text/html": [
       "<img src=\"https://www.maxpierini.it/ncov/pics/ITA.png?dt=2020-09-04 18:38:01.005711\" width=\"400\"/>"
      ],
      "text/plain": [
       "<IPython.core.display.Image object>"
      ]
     },
     "execution_count": 5,
     "metadata": {},
     "output_type": "execute_result"
    }
   ],
   "source": [
    "from IPython.display import Image\n",
    "import datetime as dt\n",
    "Image(url=f'https://www.maxpierini.it/ncov/pics/ITA.png?dt={dt.datetime.now()}', width=400)"
   ]
  },
  {
   "cell_type": "code",
   "execution_count": null,
   "metadata": {},
   "outputs": [],
   "source": []
  }
 ],
 "metadata": {
  "kernelspec": {
   "display_name": "Python 3",
   "language": "python",
   "name": "python3"
  },
  "language_info": {
   "codemirror_mode": {
    "name": "ipython",
    "version": 3
   },
   "file_extension": ".py",
   "mimetype": "text/x-python",
   "name": "python",
   "nbconvert_exporter": "python",
   "pygments_lexer": "ipython3",
   "version": "3.8.5"
  }
 },
 "nbformat": 4,
 "nbformat_minor": 4
}
