{
 "cells": [
  {
   "cell_type": "markdown",
   "metadata": {},
   "source": [
    "# Links Esterni Utili\n",
    "\n",
    "Links a strumenti esterni utili.\n",
    "\n",
    "***\n",
    "\n",
    "- [Gruppo di Studio INFOCOVID](https://www.facebook.com/groups/341623753658814/)\n",
    "\n",
    "- [Canale Telegram Coronavirus h24](https://t.me/coronavirush24)\n",
    "\n",
    "- [Canale Telegram Notiziae](https://t.me/notiziae)\n",
    "\n",
    "- [Repository del Dipartimento Protezione Civile](https://github.com/pcm-dpc/COVID-19)\n",
    "\n",
    "- [SARS-CoV-2 Genomic Epidemiology](https://www.gisaid.org/epiflu-applications/hcov-19-genomic-epidemiology/)"
   ]
  },
  {
   "cell_type": "code",
   "execution_count": null,
   "metadata": {},
   "outputs": [],
   "source": []
  }
 ],
 "metadata": {
  "kernelspec": {
   "display_name": "Python 3",
   "language": "python",
   "name": "python3"
  },
  "language_info": {
   "codemirror_mode": {
    "name": "ipython",
    "version": 3
   },
   "file_extension": ".py",
   "mimetype": "text/x-python",
   "name": "python",
   "nbconvert_exporter": "python",
   "pygments_lexer": "ipython3",
   "version": "3.8.5"
  }
 },
 "nbformat": 4,
 "nbformat_minor": 4
}
